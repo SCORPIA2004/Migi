{
 "cells": [
  {
   "cell_type": "markdown",
   "metadata": {},
   "source": [
    "## Motion Planning through KOMO ##"
   ]
  },
  {
   "cell_type": "code",
   "execution_count": 1,
   "metadata": {},
   "outputs": [],
   "source": [
    "import robotic as ry\n",
    "import numpy as np\n",
    "import time"
   ]
  },
  {
   "attachments": {},
   "cell_type": "markdown",
   "metadata": {},
   "source": [
    "## Part a) Adding a constraint to simulation"
   ]
  },
  {
   "cell_type": "code",
   "execution_count": 2,
   "metadata": {},
   "outputs": [],
   "source": [
    "C = ry.Config()\n",
    "C.addFile(ry.raiPath('scenarios/pandaSingle.g'))\n",
    "C.addFrame('way1'). setShape(ry.ST.marker, [.1]) .setPosition([.4, .2, 1.])\n",
    "C.addFrame('way3'). setShape(ry.ST.marker, [.1]) .setPosition([-.4, .2, 1.])\n",
    "\n",
    "C.addFrame('box') \\\n",
    "    .setPosition([-.25,.1,1.]) \\\n",
    "    .setShape(ry.ST.ssBox, size=[.06,.6,.6,.005]) \\\n",
    "    .setColor([1,.5,0]) \\\n",
    "    .setContact(True)\n",
    "\n",
    "C.view()\n",
    "qHome = C.getJointState()"
   ]
  },
  {
   "attachments": {},
   "cell_type": "markdown",
   "metadata": {},
   "source": [
    "First, solve the task without collision constraint"
   ]
  },
  {
   "cell_type": "code",
   "execution_count": 5,
   "metadata": {},
   "outputs": [
    {
     "name": "stdout",
     "output_type": "stream",
     "text": [
      "{ time: 0.025937, evals: 15, done: 1, feasible: 1, sos: 1.91685, f: 0, ineq: 0, eq: 0.00143336 }\n",
      "[[-3.72973568e-02 -4.52759362e-01 -3.78892812e-02 -2.00578896e+00\n",
      "  -8.91460284e-03  2.01392107e+00 -4.99904269e-01]\n",
      " [-7.46356766e-02 -4.05467234e-01 -7.58150761e-02 -2.01157957e+00\n",
      "  -1.78331427e-02  2.02785432e+00 -4.99808708e-01]\n",
      " [-1.12055875e-01 -3.58072289e-01 -1.13813954e-01 -2.01737361e+00\n",
      "  -2.67596697e-02  2.04181183e+00 -4.99713488e-01]\n",
      " [-1.49598778e-01 -3.10523521e-01 -1.51922596e-01 -2.02317310e+00\n",
      "  -3.56984599e-02  2.05580552e+00 -4.99618774e-01]\n",
      " [-1.87305086e-01 -2.62770366e-01 -1.90177862e-01 -2.02898040e+00\n",
      "  -4.46541256e-02  2.06984702e+00 -4.99524731e-01]\n",
      " [-2.25215359e-01 -2.14762799e-01 -2.28616860e-01 -2.03479830e+00\n",
      "  -5.36317229e-02  2.08394772e+00 -4.99431515e-01]\n",
      " [-2.63370008e-01 -1.66451384e-01 -2.67277031e-01 -2.04063011e+00\n",
      "  -6.26368552e-02  2.09811865e+00 -4.99339279e-01]\n",
      " [-3.01809315e-01 -1.17787274e-01 -3.06196237e-01 -2.04647964e+00\n",
      "  -7.16757696e-02  2.11237055e+00 -4.99248167e-01]\n",
      " [-3.40573474e-01 -6.87221749e-02 -3.45412871e-01 -2.05235124e+00\n",
      "  -8.07554455e-02  2.12671389e+00 -4.99158317e-01]\n",
      " [-3.79702657e-01 -1.92082640e-02 -3.84965969e-01 -2.05824982e+00\n",
      "  -8.98836715e-02  2.14115893e+00 -4.99069856e-01]\n",
      " [-3.40400189e-01 -2.51031304e-02 -3.45554145e-01 -2.05841530e+00\n",
      "  -8.08702575e-02  2.13941074e+00 -4.98982905e-01]\n",
      " [-3.01462520e-01 -3.04692288e-02 -3.06479065e-01 -2.05859859e+00\n",
      "  -7.19052584e-02  2.13779209e+00 -4.98897571e-01]\n",
      " [-2.62849264e-01 -3.52751190e-02 -2.67701969e-01 -2.05878592e+00\n",
      "  -6.29807486e-02  2.13632017e+00 -4.98813954e-01]\n",
      " [-2.24520031e-01 -3.94912079e-02 -2.29184728e-01 -2.05896449e+00\n",
      "  -5.40896083e-02  2.13501112e+00 -4.98732144e-01]\n",
      " [-1.86434366e-01 -4.30904996e-02 -1.90889725e-01 -2.05912281e+00\n",
      "  -4.52254458e-02  2.13387959e+00 -4.98652219e-01]\n",
      " [-1.48551723e-01 -4.60492836e-02 -1.52779746e-01 -2.05925087e+00\n",
      "  -3.63825085e-02  2.13293830e+00 -4.98574247e-01]\n",
      " [-1.10831449e-01 -4.83477470e-02 -1.14817887e-01 -2.05934037e+00\n",
      "  -2.75555870e-02  2.13219765e+00 -4.98498289e-01]\n",
      " [-7.32327926e-02 -4.99705037e-02 -7.69674664e-02 -2.05938492e+00\n",
      "  -1.87399146e-02  2.13166539e+00 -4.98424395e-01]\n",
      " [-3.57149333e-02 -5.09070348e-02 -3.91919570e-02 -2.05938015e+00\n",
      "  -9.93106299e-03  2.13134630e+00 -4.98352605e-01]\n",
      " [ 1.76298691e-03 -5.11520420e-02 -1.45492277e-03 -2.05932387e+00\n",
      "  -1.12483726e-03  2.13124201e+00 -4.98282953e-01]\n",
      " [ 3.92418165e-02 -5.07057166e-02  3.62800329e-02 -2.05921615e+00\n",
      "   7.68282883e-03  2.13135070e+00 -4.98215466e-01]\n",
      " [ 7.67623464e-02 -4.95739318e-02  7.40493149e-02 -2.05905945e+00\n",
      "   1.64959763e-02  2.13166702e+00 -4.98150162e-01]\n",
      " [ 1.14365263e-01 -4.77683677e-02  1.11889380e-01 -2.05885866e+00\n",
      "   2.53187223e-02  2.13218195e+00 -4.98087056e-01]\n",
      " [ 1.52091106e-01 -4.53065842e-02  1.49836782e-01 -2.05862121e+00\n",
      "   3.41553574e-02  2.13288266e+00 -4.98026157e-01]\n",
      " [ 1.89980236e-01 -4.22120580e-02  1.87928215e-01 -2.05835717e+00\n",
      "   4.30104393e-02  2.13375243e+00 -4.97967470e-01]\n",
      " [ 2.28072812e-01 -3.85142061e-02  2.26200565e-01 -2.05807932e+00\n",
      "   5.18888807e-02  2.13477056e+00 -4.97910998e-01]\n",
      " [ 2.66408790e-01 -3.42484252e-02  2.64690970e-01 -2.05780332e+00\n",
      "   6.07960299e-02  2.13591223e+00 -4.97856741e-01]\n",
      " [ 3.05027933e-01 -2.94561806e-02  3.03436874e-01 -2.05754785e+00\n",
      "   6.97377427e-02  2.13714835e+00 -4.97804697e-01]\n",
      " [ 3.43969841e-01 -2.41851902e-02  3.42476104e-01 -2.05733493e+00\n",
      "   7.87204432e-02  2.13844524e+00 -4.97754864e-01]\n",
      " [ 3.83274003e-01 -1.84897575e-02  3.81846940e-01 -2.05719019e+00\n",
      "   8.77511699e-02  2.13976432e+00 -4.97707241e-01]\n",
      " [ 3.43907544e-01 -2.38378020e-02  3.42407575e-01 -2.05716560e+00\n",
      "   7.87874301e-02  2.13867414e+00 -4.97661825e-01]\n",
      " [ 3.04904388e-01 -2.87678155e-02  3.03301350e-01 -2.05721180e+00\n",
      "   6.98715965e-02  2.13760113e+00 -4.97618616e-01]\n",
      " [ 2.66226083e-01 -3.32318070e-02  2.64491490e-01 -2.05730570e+00\n",
      "   6.09964988e-02  2.13657893e+00 -4.97577614e-01]\n",
      " [ 2.27834039e-01 -3.71881747e-02  2.25941608e-01 -2.05742778e+00\n",
      "   5.21555593e-02  2.13563632e+00 -4.97538821e-01]\n",
      " [ 1.89689465e-01 -4.06012773e-02  1.87615607e-01 -2.05756169e+00\n",
      "   4.33427361e-02  2.13479770e+00 -4.97502240e-01]\n",
      " [ 1.51753325e-01 -4.34411595e-02  1.49477580e-01 -2.05769395e+00\n",
      "   3.45524543e-02  2.13408334e+00 -4.97467877e-01]\n",
      " [ 1.13986313e-01 -4.56833780e-02  1.11491719e-01 -2.05781375e+00\n",
      "   2.57795280e-02  2.13350963e+00 -4.97435737e-01]\n",
      " [ 7.63488399e-02 -4.73088882e-02  7.36222432e-02 -2.05791279e+00\n",
      "   1.70190751e-02  2.13308924e+00 -4.97405829e-01]\n",
      " [ 3.88010442e-02 -4.83039586e-02  3.58333218e-02 -2.05798512e+00\n",
      "   8.26642926e-03  2.13283120e+00 -4.97378162e-01]\n",
      " [ 1.30280864e-03 -4.86600923e-02 -1.91098124e-03 -2.05802703e+00\n",
      "  -4.82951007e-04  2.13274104e+00 -4.97352746e-01]\n",
      " [-3.61862098e-02 -4.83739369e-02 -3.96467605e-02 -2.05803699e+00\n",
      "  -9.23357368e-03  2.13282086e+00 -4.97329591e-01]\n",
      " [-7.37065427e-02 -4.74471755e-02 -7.74103150e-02 -2.05801559e+00\n",
      "  -1.79900035e-02  2.13306945e+00 -4.97308710e-01]\n",
      " [-1.11298869e-01 -4.58863922e-02 -1.15238188e-01 -2.05796540e+00\n",
      "  -2.67569503e-02  2.13348233e+00 -4.97290114e-01]\n",
      " [-1.49003975e-01 -4.37029128e-02 -1.53167205e-01 -2.05789103e+00\n",
      "  -3.55393544e-02  2.13405188e+00 -4.97273813e-01]\n",
      " [-1.86862712e-01 -4.09126254e-02 -1.91234510e-01 -2.05779898e+00\n",
      "  -4.43424677e-02  2.13476744e+00 -4.97259819e-01]\n",
      " [-2.24915964e-01 -3.75357889e-02 -2.29477599e-01 -2.05769772e+00\n",
      "  -5.31719297e-02  2.13561535e+00 -4.97248141e-01]\n",
      " [-2.63204621e-01 -3.35968449e-02 -2.67934359e-01 -2.05759762e+00\n",
      "  -6.20338371e-02  2.13657908e+00 -4.97238788e-01]\n",
      " [-3.01769558e-01 -2.91242504e-02 -3.06643104e-01 -2.05751102e+00\n",
      "  -7.09348061e-02  2.13763920e+00 -4.97231766e-01]\n",
      " [-3.40651629e-01 -2.41503579e-02 -3.45642612e-01 -2.05745228e+00\n",
      "  -7.98820247e-02  2.13877343e+00 -4.97227082e-01]\n",
      " [-3.79891670e-01 -1.87113734e-02 -3.84972167e-01 -2.05743793e+00\n",
      "  -8.88832943e-02  2.13995654e+00 -4.97224739e-01]]\n"
     ]
    }
   ],
   "source": [
    "C.setJointState(qHome)\n",
    "komo = ry.KOMO(C, 5, 10, 1, True)\n",
    "komo.addControlObjective([], 0, 1e-1)\n",
    "komo.addControlObjective([], 1, 1e0)\n",
    "komo.addObjective([1], ry.FS.positionDiff, ['l_gripper', 'way1'], ry.OT.eq, [1e1])\n",
    "komo.addObjective([3], ry.FS.positionDiff, ['l_gripper', 'way3'], ry.OT.eq, [1e1])\n",
    "komo.addObjective([5], ry.FS.positionDiff, ['l_gripper', 'way1'], ry.OT.eq, [1e1])\n",
    "\n",
    "ret = ry.NLP_Solver(komo.nlp(), verbose=0 ) .solve()\n",
    "print(ret)\n",
    "q = komo.getPath()\n",
    "print(q)\n",
    "\n",
    "for t in range(q.shape[0]):\n",
    "    C.setJointState(q[t])\n",
    "    C.view(False, f'waypoint {t}')\n",
    "    time.sleep(0.1)"
   ]
  },
  {
   "cell_type": "code",
   "execution_count": 6,
   "metadata": {},
   "outputs": [],
   "source": [
    "del komo\n",
    "del C"
   ]
  },
  {
   "attachments": {},
   "cell_type": "markdown",
   "metadata": {},
   "source": [
    "Then, we add collision constraint with \"accumulatedCollisions\" feature"
   ]
  },
  {
   "cell_type": "code",
   "execution_count": 7,
   "metadata": {},
   "outputs": [],
   "source": [
    "C = ry.Config()\n",
    "C.addFile(ry.raiPath('scenarios/pandaSingle.g'))\n",
    "C.addFrame('way1'). setShape(ry.ST.marker, [.1]) .setPosition([.4, .2, 1.])\n",
    "C.addFrame('way3'). setShape(ry.ST.marker, [.1]) .setPosition([-.4, .2, 1.])\n",
    "\n",
    "C.addFrame('box') \\\n",
    "    .setPosition([-.25,.1,1.]) \\\n",
    "    .setShape(ry.ST.ssBox, size=[.06,.6,.6,.005]) \\\n",
    "    .setColor([1,.5,0]) \\\n",
    "    .setContact(True)\n",
    "\n",
    "C.view()\n",
    "qHome = C.getJointState()"
   ]
  },
  {
   "attachments": {},
   "cell_type": "markdown",
   "metadata": {},
   "source": [
    "But we see that there is a jump in the motion while passing the obstacle\n",
    "\n",
    "Here we will see the importance of the scale of the constraint (give values 0, 100 and 1 (which is default one) relatively). Then put 0.1 (1e-1) for perfect case. Do not forget to Del K and C or restart."
   ]
  },
  {
   "cell_type": "code",
   "execution_count": 12,
   "metadata": {},
   "outputs": [
    {
     "name": "stdout",
     "output_type": "stream",
     "text": [
      "{ time: 0.16484, evals: 78, done: 1, feasible: 0, sos: 2.50177, f: 0, ineq: 0, eq: 2.18668 }\n",
      "[[-3.43529718e-02 -4.59909412e-01 -3.78989475e-02 -2.00939682e+00\n",
      "  -9.20643165e-03  2.01013981e+00 -4.99788114e-01]\n",
      " [-6.87947766e-02 -4.19620627e-01 -7.58751582e-02 -2.01873877e+00\n",
      "  -1.83893051e-02  2.02037510e+00 -4.99573667e-01]\n",
      " [-1.03412233e-01 -3.78939111e-01 -1.14003602e-01 -2.02797112e+00\n",
      "  -2.75240277e-02  2.03079961e+00 -4.99354127e-01]\n",
      " [-1.38288145e-01 -3.37677632e-01 -1.52354680e-01 -2.03703967e+00\n",
      "  -3.65841029e-02  2.04150362e+00 -4.99127034e-01]\n",
      " [-1.73499745e-01 -2.95659476e-01 -1.90992423e-01 -2.04589095e+00\n",
      "  -4.55404990e-02  2.05257239e+00 -4.98889912e-01]\n",
      " [-2.09117397e-01 -2.52721013e-01 -2.29973293e-01 -2.05447263e+00\n",
      "  -5.43612148e-02  2.06408487e+00 -4.98640192e-01]\n",
      " [-2.45203943e-01 -2.08713380e-01 -2.69345767e-01 -2.06273391e+00\n",
      "  -6.30112163e-02  2.07611272e+00 -4.98375310e-01]\n",
      " [-2.81814823e-01 -1.63502907e-01 -3.09150892e-01 -2.07062620e+00\n",
      "  -7.14529978e-02  2.08872001e+00 -4.98092823e-01]\n",
      " [-3.18999095e-01 -1.16969734e-01 -3.49424040e-01 -2.07810374e+00\n",
      "  -7.96477779e-02  2.10196366e+00 -4.97790556e-01]\n",
      " [-3.56801453e-01 -6.90044943e-02 -3.90198119e-01 -2.08512414e+00\n",
      "  -8.75573652e-02  2.11589525e+00 -4.97466672e-01]\n",
      " [-3.23338544e-01 -9.22211113e-02 -3.56594268e-01 -2.08557893e+00\n",
      "  -7.62955724e-02  2.10640622e+00 -4.97119772e-01]\n",
      " [-2.90545462e-01 -1.13724358e-01 -3.23575201e-01 -2.08557102e+00\n",
      "  -6.47131963e-02  2.09770410e+00 -4.96749116e-01]\n",
      " [-2.58429020e-01 -1.33342641e-01 -2.91191546e-01 -2.08513580e+00\n",
      "  -5.28128451e-02  2.08983605e+00 -4.96354726e-01]\n",
      " [-2.26991230e-01 -1.50915829e-01 -2.59490706e-01 -2.08430918e+00\n",
      "  -4.05973640e-02  2.08284351e+00 -4.95937704e-01]\n",
      " [-1.96226956e-01 -1.66299582e-01 -2.28513137e-01 -2.08312570e+00\n",
      "  -2.80679069e-02  2.07676032e+00 -4.95500447e-01]\n",
      " [-1.66122678e-01 -1.79367715e-01 -1.98290108e-01 -2.08161671e+00\n",
      "  -1.52225955e-02  2.07161169e+00 -4.95047019e-01]\n",
      " [-1.36656024e-01 -1.90013055e-01 -1.68842602e-01 -2.07980855e+00\n",
      "  -2.05591312e-03  2.06741389e+00 -4.94583499e-01]\n",
      " [-1.07795977e-01 -1.98147443e-01 -1.40181275e-01 -2.07772109e+00\n",
      "   1.14413690e-02  2.06417415e+00 -4.94118479e-01]\n",
      " [-7.95038007e-02 -2.03701299e-01 -1.12307092e-01 -2.07536657e+00\n",
      "   2.52821144e-02  2.06189070e+00 -4.93663596e-01]\n",
      " [-5.17343506e-02 -2.06622934e-01 -8.52124598e-02 -2.07274893e+00\n",
      "   3.94824313e-02  2.06055275e+00 -4.93234159e-01]\n",
      " [-2.44377868e-02 -2.06878027e-01 -5.88827398e-02 -2.06986333e+00\n",
      "   5.40613077e-02  2.06014016e+00 -4.92849623e-01]\n",
      " [ 2.43848244e-03 -2.04449312e-01 -3.32980934e-02 -2.06669605e+00\n",
      "   6.90401605e-02  2.06062268e+00 -4.92534245e-01]\n",
      " [ 2.89478916e-02 -1.99336671e-01 -8.43529678e-03 -2.06322442e+00\n",
      "   8.44424089e-02  2.06195882e+00 -4.92317755e-01]\n",
      " [ 5.51427087e-02 -1.91557829e-01  1.57303820e-02 -2.05941726e+00\n",
      "   1.00293356e-01  2.06409389e+00 -4.92235969e-01]\n",
      " [ 8.10719674e-02 -1.81149561e-01  3.92232493e-02 -2.05523535e+00\n",
      "   1.16620408e-01  2.06695753e+00 -4.92331576e-01]\n",
      " [ 1.06773181e-01 -1.68172253e-01  6.20570353e-02 -2.05062923e+00\n",
      "   1.33454782e-01  2.07046073e+00 -4.92654946e-01]\n",
      " [ 1.32707953e-01 -1.52605467e-01  8.47517734e-02 -2.04559643e+00\n",
      "   1.50813203e-01  2.07449223e+00 -4.93265203e-01]\n",
      " [ 1.61262130e-01 -1.34336998e-01  1.09862587e-01 -2.03995202e+00\n",
      "   1.68927364e-01  2.07894585e+00 -4.94254859e-01]\n",
      " [ 2.10376286e-01 -1.12163670e-01  1.56448751e-01 -2.03274768e+00\n",
      "   1.90032634e-01  2.08371169e+00 -4.94848704e-01]\n",
      " [ 3.63172225e-01 -5.51515391e-02  3.12616879e-01 -2.05779951e+00\n",
      "   2.19957546e-01  2.07651778e+00 -4.92838207e-01]\n",
      " [ 2.10417918e-01 -1.11057589e-01  1.56177311e-01 -2.03257105e+00\n",
      "   1.90140659e-01  2.08451785e+00 -4.94860185e-01]\n",
      " [ 1.61385544e-01 -1.32104021e-01  1.09304301e-01 -2.03958857e+00\n",
      "   1.69133395e-01  2.08055827e+00 -4.94275360e-01]\n",
      " [ 1.32832215e-01 -1.49292408e-01  8.37991512e-02 -2.04497085e+00\n",
      "   1.51126125e-01  2.07692688e+00 -4.93299539e-01]\n",
      " [ 1.06848463e-01 -1.63756128e-01  6.06502883e-02 -2.04971419e+00\n",
      "   1.33893297e-01  2.07374224e+00 -4.92700425e-01]\n",
      " [ 8.10569445e-02 -1.75596029e-01  3.73129719e-02 -2.05399313e+00\n",
      "   1.17216737e-01  2.07111832e+00 -4.92384644e-01]\n",
      " [ 5.50281399e-02 -1.84813564e-01  1.33043809e-02 -2.05780844e+00\n",
      "   1.01086265e-01  2.06917207e+00 -4.92291838e-01]\n",
      " [ 2.87233854e-02 -1.91339376e-01 -1.13907925e-02 -2.06120329e+00\n",
      "   8.54796157e-02  2.06799669e+00 -4.92370457e-01]\n",
      " [ 2.09165553e-03 -1.95130289e-01 -3.67998394e-02 -2.06421061e+00\n",
      "   7.03793204e-02  2.06766497e+00 -4.92576787e-01]\n",
      " [-2.49202971e-02 -1.96164642e-01 -6.29497862e-02 -2.06685594e+00\n",
      "   5.57710327e-02  2.06823200e+00 -4.92873946e-01]\n",
      " [-5.23657389e-02 -1.94441735e-01 -8.98652983e-02 -2.06915738e+00\n",
      "   4.16432707e-02  2.06973741e+00 -4.93230920e-01]\n",
      " [-8.02959128e-02 -1.89981883e-01 -1.17566677e-01 -2.07112569e+00\n",
      "   2.79876496e-02  2.07220683e+00 -4.93621629e-01]\n",
      " [-1.08758172e-01 -1.82827100e-01 -1.46068008e-01 -2.07276460e+00\n",
      "   1.47994150e-02  2.07565263e+00 -4.94024257e-01]\n",
      " [-1.37794159e-01 -1.73042143e-01 -1.75375282e-01 -2.07407150e+00\n",
      "   2.07820200e-03  2.08007403e+00 -4.94420692e-01]\n",
      " [-1.67438175e-01 -1.60715929e-01 -2.05484827e-01 -2.07503838e+00\n",
      "  -1.01712843e-02  2.08545680e+00 -4.94795967e-01]\n",
      " [-1.97715742e-01 -1.45963122e-01 -2.36382229e-01 -2.07565337e+00\n",
      "  -2.19387788e-02  2.09177252e+00 -4.95137847e-01]\n",
      " [-2.28642701e-01 -1.28925618e-01 -2.68041820e-01 -2.07590260e+00\n",
      "  -3.32082710e-02  2.09897765e+00 -4.95436449e-01]\n",
      " [-2.60224810e-01 -1.09773733e-01 -3.00426871e-01 -2.07577248e+00\n",
      "  -4.39580731e-02  2.10701254e+00 -4.95683999e-01]\n",
      " [-2.92457896e-01 -8.87064691e-02 -3.33490663e-01 -2.07525217e+00\n",
      "  -5.41615424e-02  2.11580079e+00 -4.95874566e-01]\n",
      " [-3.25328780e-01 -6.59505138e-02 -3.67178868e-01 -2.07433598e+00\n",
      "  -6.37883082e-02  2.12524943e+00 -4.96003893e-01]\n",
      " [-3.58817020e-01 -4.17571721e-02 -4.01433141e-01 -2.07302573e+00\n",
      "  -7.28062266e-02  2.13525020e+00 -4.96069242e-01]]\n"
     ]
    }
   ],
   "source": [
    "C.setJointState(qHome)\n",
    "komo = ry.KOMO(C, 5, 10, 1, True)\n",
    "komo.addControlObjective([], 0, 1e-1)\n",
    "komo.addControlObjective([], 1, 1e0)\n",
    "komo.addObjective([], ry.FS.accumulatedCollisions, [], ry.OT.eq,[1e-1z])\n",
    "komo.addObjective([1], ry.FS.positionDiff, ['l_gripper', 'way1'], ry.OT.eq, [1e1])\n",
    "komo.addObjective([3], ry.FS.positionDiff, ['l_gripper', 'way3'], ry.OT.eq, [1e1])\n",
    "komo.addObjective([5], ry.FS.positionDiff, ['l_gripper', 'way1'], ry.OT.eq, [1e1])\n",
    "\n",
    "ret = ry.NLP_Solver(komo.nlp(), verbose=0 ) .solve()\n",
    "print(ret)\n",
    "q = komo.getPath()\n",
    "print(q)\n",
    "\n",
    "for t in range(q.shape[0]):\n",
    "    C.setJointState(q[t])\n",
    "    C.view(False, f'waypoint {t}')\n",
    "    time.sleep(0.1)"
   ]
  },
  {
   "attachments": {},
   "cell_type": "markdown",
   "metadata": {},
   "source": [
    "komo.addObjective([], ry.FS.accumulatedCollisions, [], ry.OT.eq);\n",
    "\n",
    "    komo.addObjective(...): This is calling a method named addObjective on the komo object, which is an instance of a KOMO optimizer.\n",
    "\n",
    "    []: The first argument [] specifies the time intervals over which this objective applies. In this case, [] means it applies to all time intervals. In other words, this objective is valid for the entire duration of the optimization.\n",
    "\n",
    "    ry.FS.accumulatedCollisions: The second argument ry.FS.accumulatedCollisions is specifying the type of feature to use for this objective. In this case, it's using a feature related to accumulated collisions. This means the objective will aim to minimize the total amount of collisions that occur throughout the motion.\n",
    "\n",
    "    []: The third argument [] specifies the frames associated with this feature. Since ry.FS.accumulatedCollisions doesn't require specific frame associations, this argument is left empty.\n",
    "\n",
    "    ry.OT.eq: The fourth argument ry.OT.eq specifies the type of objective. Here, it's an equality constraint. This means the optimizer will aim to make the value of the accumulated collisions equal to a certain target value (which is default value zero in here).\n",
    "\n",
    "Putting it all together, this line is instructing the optimizer to minimize the total amount of accumulated collisions over the entire duration of the motion, treating it as an equality constraint. This is a way to prioritize collision-free or low-collision solutions."
   ]
  },
  {
   "attachments": {},
   "cell_type": "markdown",
   "metadata": {},
   "source": [
    "##  Part b) Possible State Solution by KOMO"
   ]
  },
  {
   "cell_type": "code",
   "execution_count": 13,
   "metadata": {},
   "outputs": [],
   "source": [
    "del komo\n",
    "del C"
   ]
  },
  {
   "cell_type": "code",
   "execution_count": 14,
   "metadata": {},
   "outputs": [],
   "source": [
    "C = ry.Config()\n",
    "C.addFile(ry.raiPath('scenarios/pandaSingle.g'))\n",
    "C.addFrame('way3'). setShape(ry.ST.marker, [.1]) .setPosition([-.4, .2, 1.0])\n",
    "\n",
    "C.addFrame('box') \\\n",
    "    .setPosition([-.25,.1,1.3]) \\\n",
    "    .setShape(ry.ST.ssBox, size=[.06,.7,.5,.005]) \\\n",
    "    .setColor([1,.5,0]) \\\n",
    "    .setContact(True)\n",
    "\n",
    "C.view()\n",
    "qHome = C.getJointState()"
   ]
  },
  {
   "cell_type": "code",
   "execution_count": null,
   "metadata": {},
   "outputs": [],
   "source": [
    "C.setJointState(qHome)\n",
    "komo = ry.KOMO(C, 1, 10, 2, True)\n",
    "komo.addControlObjective([], 0, 1e-1) \n",
    "komo.addControlObjective([], 2, 1e0)\n",
    "komo.addObjective([], ry.FS.accumulatedCollisions, [], ry.OT.eq,[1e1])\n",
    "komo.addObjective([1], ry.FS.positionDiff, ['l_gripper', 'way3'], ry.OT.eq, [1e1])\n",
    "komo.addObjective([1], ry.FS.jointState, [], ry.OT.eq, [1e1], [], order=1)\n",
    "\n",
    "ret = ry.NLP_Solver(komo.nlp(), verbose=0 ) .solve()\n",
    "print(ret)\n",
    "q = komo.getPath()\n",
    "print('size of path:', q.shape)\n",
    "\n",
    "for t in range(q.shape[0]):\n",
    "    C.setJointState(q[t])\n",
    "    C.view(False, f'waypoint {t}')\n",
    "    time.sleep(.1)"
   ]
  },
  {
   "attachments": {},
   "cell_type": "markdown",
   "metadata": {},
   "source": [
    "## Possible State Solution by RRT"
   ]
  },
  {
   "cell_type": "code",
   "execution_count": null,
   "metadata": {},
   "outputs": [],
   "source": [
    "# that's the goal configuration\n",
    "qT = komo.getPath()[-1]\n",
    "C.setJointState(qT)\n",
    "C.view(False, \"IK solution\")"
   ]
  },
  {
   "cell_type": "code",
   "execution_count": null,
   "metadata": {},
   "outputs": [],
   "source": [
    "#define a path finding problem\n",
    "rrt = ry.PathFinder()\n",
    "rrt.setProblem(C, [qHome], [qT])\n",
    "\n",
    "ret = rrt.solve()\n",
    "print(ret)\n",
    "path = ret.x"
   ]
  },
  {
   "cell_type": "code",
   "execution_count": 35,
   "metadata": {},
   "outputs": [],
   "source": [
    "# display the path\n",
    "for t in range(0, path.shape[0]-1):\n",
    "    C.setJointState(path[t])\n",
    "    C.view()\n",
    "    time.sleep(.1)"
   ]
  },
  {
   "cell_type": "code",
   "execution_count": 36,
   "metadata": {},
   "outputs": [],
   "source": [
    "del komo\n",
    "del rrt\n",
    "del C"
   ]
  },
  {
   "attachments": {},
   "cell_type": "markdown",
   "metadata": {},
   "source": [
    "Now, let us give a state which is impossible for robot arm to reach."
   ]
  },
  {
   "attachments": {},
   "cell_type": "markdown",
   "metadata": {},
   "source": [
    "##  Part c) Impossible State Solution by KOMO"
   ]
  },
  {
   "cell_type": "code",
   "execution_count": 37,
   "metadata": {},
   "outputs": [],
   "source": [
    "C = ry.Config()\n",
    "C.addFile(ry.raiPath('scenarios/pandaSingle.g'))\n",
    "C.addFrame('way3'). setShape(ry.ST.marker, [.1]) .setPosition([-.4, .2, 1.])\n",
    "\n",
    "C.addFrame('box') \\\n",
    "    .setPosition([-.25,.1,1.]) \\\n",
    "    .setShape(ry.ST.ssBox, size=[.06,.7,.7,.005]) \\\n",
    "    .setColor([1,.5,0]) \\\n",
    "    .setContact(True)\n",
    "\n",
    "C.view()\n",
    "qHome = C.getJointState()"
   ]
  },
  {
   "cell_type": "code",
   "execution_count": null,
   "metadata": {},
   "outputs": [],
   "source": [
    "C.setJointState(qHome)\n",
    "komo = ry.KOMO(C, 1, 10, 2, True)\n",
    "komo.addControlObjective([], 0, 1e-1) \n",
    "komo.addControlObjective([], 2, 1e0)\n",
    "komo.addObjective([], ry.FS.accumulatedCollisions, [], ry.OT.eq,[1e1])\n",
    "komo.addObjective([1], ry.FS.positionDiff, ['l_gripper', 'way3'], ry.OT.eq, [1e1])\n",
    "komo.addObjective([1], ry.FS.jointState, [], ry.OT.eq, [1e1], [], order=1)\n",
    "\n",
    "ret = ry.NLP_Solver(komo.nlp(), verbose=0 ) .solve()\n",
    "print(ret)\n",
    "q = komo.getPath()\n",
    "print('size of path:', q.shape)\n",
    "for t in range(q.shape[0]):\n",
    "    C.setJointState(q[t])\n",
    "    C.view(False, f'waypoint {t}')\n",
    "    time.sleep(.1)"
   ]
  },
  {
   "attachments": {},
   "cell_type": "markdown",
   "metadata": {},
   "source": [
    "## Impossible State Solution by RRT"
   ]
  },
  {
   "cell_type": "code",
   "execution_count": null,
   "metadata": {},
   "outputs": [],
   "source": [
    "# that's the goal configuration\n",
    "qT = komo.getPath()[-1]\n",
    "C.setJointState(qT)\n",
    "C.view(False, \"IK solution\")"
   ]
  },
  {
   "cell_type": "code",
   "execution_count": null,
   "metadata": {},
   "outputs": [],
   "source": [
    "#define a path finding problem\n",
    "rrt = ry.PathFinder()\n",
    "rrt.setProblem(C, [qHome], [qT])\n",
    "\n",
    "ret = rrt.solve()\n",
    "print(ret)\n",
    "path = ret.x"
   ]
  },
  {
   "attachments": {},
   "cell_type": "markdown",
   "metadata": {},
   "source": [
    "So we will get an error since there is no feasible solution"
   ]
  },
  {
   "cell_type": "code",
   "execution_count": null,
   "metadata": {},
   "outputs": [],
   "source": [
    "# display the path\n",
    "for t in range(0, path.shape[0]-1):\n",
    "    C.setJointState(path[t])\n",
    "    C.view()\n",
    "    time.sleep(.1)"
   ]
  },
  {
   "cell_type": "code",
   "execution_count": 41,
   "metadata": {},
   "outputs": [],
   "source": [
    "# https://marctoussaint.github.io/robotics-course/tutorials.html -> Tutorials\n",
    "# https://github.com/MarcToussaint/rai-tutorials/tree/main -> Tutorials\n",
    "# https://marctoussaint.github.io/robotics-course/rai.html -> Documentation"
   ]
  }
 ],
 "metadata": {
  "kernelspec": {
   "display_name": "rai_venv",
   "language": "python",
   "name": "python3"
  },
  "language_info": {
   "codemirror_mode": {
    "name": "ipython",
    "version": 3
   },
   "file_extension": ".py",
   "mimetype": "text/x-python",
   "name": "python",
   "nbconvert_exporter": "python",
   "pygments_lexer": "ipython3",
   "version": "3.8.10"
  },
  "orig_nbformat": 4
 },
 "nbformat": 4,
 "nbformat_minor": 2
}
