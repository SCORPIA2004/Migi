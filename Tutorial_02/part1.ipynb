{
 "cells": [
  {
   "cell_type": "markdown",
   "metadata": {},
   "source": [
    "## Motion Planning through KOMO ##"
   ]
  },
  {
   "cell_type": "code",
   "execution_count": 1,
   "metadata": {},
   "outputs": [],
   "source": [
    "import robotic as ry\n",
    "import numpy as np\n",
    "import time"
   ]
  },
  {
   "attachments": {},
   "cell_type": "markdown",
   "metadata": {},
   "source": [
    "## Part a) Adding a constraint to simulation"
   ]
  },
  {
   "cell_type": "code",
   "execution_count": 2,
   "metadata": {},
   "outputs": [],
   "source": [
    "C = ry.Config()\n",
    "C.addFile(ry.raiPath('scenarios/pandaSingle.g'))\n",
    "\n",
    "# add waypoints\n",
    "C.addFrame('way1'). setShape(ry.ST.marker, [.1]) .setPosition([.4, .2, 1.])\n",
    "C.addFrame('way2'). setShape(ry.ST.marker, [.1]) .setPosition([0, .2, 1.6])\n",
    "C.addFrame('way3'). setShape(ry.ST.marker, [.1]) .setPosition([-.4, .2, 1.])\n",
    "\n",
    "# add wall\n",
    "C.addFrame('box') \\\n",
    "    .setPosition([-.25,.1,1.]) \\\n",
    "    .setShape(ry.ST.ssBox, size=[.06,.6,.6,.005]) \\\n",
    "    .setColor([1,.5,0]) \\\n",
    "    .setContact(True)\n",
    "\n",
    "C.view()\n",
    "\n",
    "# save home joints state\n",
    "qHome = C.getJointState()"
   ]
  },
  {
   "attachments": {},
   "cell_type": "markdown",
   "metadata": {},
   "source": [
    "First, solve the task without collision constraint"
   ]
  },
  {
   "cell_type": "code",
   "execution_count": 3,
   "metadata": {},
   "outputs": [
    {
     "name": "stdout",
     "output_type": "stream",
     "text": [
      "{ time: 0.315941, evals: 219, done: 1, feasible: 1, sos: 5.65488, f: 0, ineq: 0, eq: 0.140218 }\n",
      "[[-0.03424207 -0.44964337 -0.03981783 -2.001002   -0.01271247  2.00646179\n",
      "  -0.4975922 ]\n",
      " [-0.0685065  -0.39922657 -0.07968621 -2.00199007 -0.02543919  2.01290744\n",
      "  -0.49517654]\n",
      " [-0.10281562 -0.3486893  -0.11965578 -2.00295023 -0.03819454  2.01932076\n",
      "  -0.49274516]\n",
      " [-0.13719158 -0.29797113 -0.15977745 -2.00386841 -0.05099307  2.0256854\n",
      "  -0.49029014]\n",
      " [-0.17165637 -0.24701135 -0.20010244 -2.00473039 -0.06384967  2.03198478\n",
      "  -0.48780355]\n",
      " [-0.20623164 -0.19574888 -0.24068249 -2.00552171 -0.07677969  2.038202\n",
      "  -0.4852774 ]\n",
      " [-0.24093867 -0.14412213 -0.28156992 -2.00622762 -0.0897991   2.04431967\n",
      "  -0.48270363]\n",
      " [-0.27579821 -0.09206893 -0.32281785 -2.00683292 -0.10292465  2.05031978\n",
      "  -0.48007414]\n",
      " [-0.31083037 -0.03952633 -0.3644803  -2.00732188 -0.11617414  2.05618345\n",
      "  -0.47738071]\n",
      " [-0.34605438  0.01356956 -0.40661241 -2.00767803 -0.12956669  2.0618907\n",
      "  -0.47461507]\n",
      " [-0.30056378 -0.03963507 -0.3689552  -1.94873893 -0.12465109  2.06297477\n",
      "  -0.47176888]\n",
      " [-0.25520918 -0.09226447 -0.3317969  -1.88956092 -0.11989801  2.06384957\n",
      "  -0.46883371]\n",
      " [-0.20991464 -0.1443602  -0.29511195 -1.83005355 -0.11530866  2.06448134\n",
      "  -0.46580108]\n",
      " [-0.16460168 -0.19596218 -0.25887654 -1.77012398 -0.11088735  2.06483325\n",
      "  -0.46266246]\n",
      " [-0.11918849 -0.24710843 -0.22306879 -1.7096762  -0.10664212  2.06486458\n",
      "  -0.45940927]\n",
      " [-0.07358909 -0.29783475 -0.18766902 -1.64861019 -0.10258561  2.06452976\n",
      "  -0.45603297]\n",
      " [-0.02771215 -0.34817434 -0.15266001 -1.58682074 -0.09873603  2.06377709\n",
      "  -0.45252502]\n",
      " [ 0.01854022 -0.39815724 -0.11802749 -1.52419622 -0.09511841  2.06254716\n",
      "  -0.44887697]\n",
      " [ 0.06527413 -0.44780975 -0.08376062 -1.46061693 -0.09176601  2.06077099\n",
      "  -0.44508052]\n",
      " [ 0.1126058  -0.49715355 -0.04985267 -1.3959532  -0.0887221   2.05836762\n",
      "  -0.44112754]\n",
      " [ 0.16624645 -0.44444151 -0.01217643 -1.41745894 -0.08334636  2.02526462\n",
      "  -0.43701018]\n",
      " [ 0.22075887 -0.39131     0.02511813 -1.43768686 -0.07840498  1.9912911\n",
      "  -0.43272096]\n",
      " [ 0.27630713 -0.33762279  0.06199877 -1.45656739 -0.07398603  1.95627694\n",
      "  -0.4282529 ]\n",
      " [ 0.33307811 -0.28323146  0.09842353 -1.47400897 -0.0701987   1.92002427\n",
      "  -0.42359958]\n",
      " [ 0.39128663 -0.22797202  0.13433818 -1.48989343 -0.0671775   1.88230124\n",
      "  -0.41875537]\n",
      " [ 0.45118157 -0.17166104  0.16967324 -1.50407036 -0.06508736  1.84283443\n",
      "  -0.41371557]\n",
      " [ 0.49515973 -0.11420617  0.18453262 -1.52286929 -0.07144422  1.79516513\n",
      "  -0.41199403]\n",
      " [ 0.54104558 -0.0549665   0.19817061 -1.53998758 -0.0793296   1.74487091\n",
      "  -0.41016075]\n",
      " [ 0.58170674  0.00518535  0.20247528 -1.55720249 -0.09078392  1.6897841\n",
      "  -0.40964646]\n",
      " [ 0.62537507  0.21538134  0.20628932 -1.69285191 -0.11304763  1.63112739\n",
      "  -0.4089895 ]\n",
      " [ 0.58284817  0.00594196  0.20164621 -1.55516432 -0.09309337  1.68621797\n",
      "  -0.40818524]\n",
      " [ 0.54337519 -0.05378055  0.19647614 -1.53412702 -0.08424047  1.73772261\n",
      "  -0.4072333 ]\n",
      " [ 0.50009111 -0.11259528  0.18344016 -1.51257414 -0.07863864  1.78474034\n",
      "  -0.40732155]\n",
      " [ 0.45724401 -0.16775981  0.16760368 -1.49163297 -0.07500554  1.82846821\n",
      "  -0.40759265]\n",
      " [ 0.39910878 -0.22216204  0.13197428 -1.47466885 -0.07964867  1.86410302\n",
      "  -0.41103722]\n",
      " [ 0.34269338 -0.27554773  0.09574346 -1.45585427 -0.08525546  1.89790151\n",
      "  -0.41425941]\n",
      " [ 0.28775845 -0.32807265  0.05897982 -1.43533429 -0.0916683   1.93011458\n",
      "  -0.41725844]\n",
      " [ 0.23409885 -0.37987476  0.02173644 -1.41322036 -0.09875964  1.96095166\n",
      "  -0.42003438]\n",
      " [ 0.18153748 -0.43107759 -0.01594605 -1.38959618 -0.10642701  1.99058825\n",
      "  -0.42258791]\n",
      " [ 0.12992041 -0.48179306 -0.054037   -1.36452255 -0.11458876  2.01917206\n",
      "  -0.42492018]\n",
      " [ 0.08444055 -0.42969014 -0.08954496 -1.42643276 -0.1200221   2.01621741\n",
      "  -0.4270327 ]\n",
      " [ 0.03964924 -0.37717262 -0.1254495  -1.4870647  -0.12583534  2.01240465\n",
      "  -0.42892714]\n",
      " [-0.00456144 -0.32420459 -0.16176669 -1.54653488 -0.13199023  2.00778831\n",
      "  -0.43060531]\n",
      " [-0.04828875 -0.2707451  -0.19851704 -1.60494925 -0.13845846  2.00241067\n",
      "  -0.43206899]\n",
      " [-0.09162123 -0.216749   -0.23572483 -1.66240517 -0.14521994  1.99630393\n",
      "  -0.43331992]\n",
      " [-0.13464017 -0.16216748 -0.27341772 -1.71899297 -0.15226147  1.9894921\n",
      "  -0.43435969]\n",
      " [-0.17742082 -0.10694857 -0.31162635 -1.77479719 -0.15957564  1.98199235\n",
      "  -0.4351897 ]\n",
      " [-0.22003345 -0.05103742 -0.35038416 -1.82989761 -0.16715999  1.97381617\n",
      "  -0.43581114]\n",
      " [-0.26254403  0.00562346 -0.38972721 -1.88437006 -0.17501631  1.96497018\n",
      "  -0.43622492]\n",
      " [-0.30501486  0.06309411 -0.42969415 -1.93828706 -0.18315023  1.95545671\n",
      "  -0.43643165]]\n"
     ]
    }
   ],
   "source": [
    "C.setJointState(qHome)\n",
    "komo = ry.KOMO(C, 5, 10, 1, True)\n",
    "\n",
    "# order=0: penalizing sqr distance to qHome, \n",
    "# order=1: penalizing sqr distances between consecutive configurations (velocities), \n",
    "# order=2: penalizing accelerations across 3 configurations\n",
    "komo.addControlObjective([], 0, 1e-1)\n",
    "komo.addControlObjective([], 1, 1e0)\n",
    "\n",
    "# add accumuated colisions penalty\n",
    "komo.addObjective([], ry.FS.accumulatedCollisions, [], ry.OT.eq)\n",
    "\n",
    "\n",
    "# add waypoints as objectives\n",
    "komo.addObjective([1], ry.FS.positionDiff, ['l_gripper', 'way1'], ry.OT.eq, [1e1])\n",
    "komo.addObjective([2], ry.FS.positionDiff, ['l_gripper', 'way2'], ry.OT.eq, [1e1])\n",
    "komo.addObjective([3], ry.FS.positionDiff, ['l_gripper', 'way3'], ry.OT.eq, [1e1])\n",
    "komo.addObjective([4], ry.FS.positionDiff, ['l_gripper', 'way2'], ry.OT.eq, [1e1])\n",
    "komo.addObjective([5], ry.FS.positionDiff, ['l_gripper', 'way1'], ry.OT.eq, [1e1])\n",
    "\n",
    "# get the initial path using Non Linear Programming solver\n",
    "ret = ry.NLP_Solver(komo.nlp(), verbose=0 ) .solve()\n",
    "print(ret)\n",
    "\n",
    "# get the optimized path. q is a matrix of joint states\n",
    "q = komo.getPath()\n",
    "print(q)\n",
    "\n",
    "# simulate the optimized path\n",
    "for t in range(q.shape[0]):\n",
    "    C.setJointState(q[t])\n",
    "    C.view(False, f'waypoint {t}')\n",
    "    time.sleep(0.1)"
   ]
  },
  {
   "cell_type": "code",
   "execution_count": 4,
   "metadata": {},
   "outputs": [],
   "source": [
    "del komo\n",
    "del C"
   ]
  },
  {
   "attachments": {},
   "cell_type": "markdown",
   "metadata": {},
   "source": [
    "Then, we add collision constraint with \"accumulatedCollisions\" feature"
   ]
  },
  {
   "cell_type": "code",
   "execution_count": 5,
   "metadata": {},
   "outputs": [],
   "source": [
    "C = ry.Config()\n",
    "C.addFile(ry.raiPath('scenarios/pandaSingle.g'))\n",
    "C.addFrame('way1'). setShape(ry.ST.marker, [.1]) .setPosition([.4, .2, 1.])\n",
    "C.addFrame('way3'). setShape(ry.ST.marker, [.1]) .setPosition([-.4, .2, 1.])\n",
    "\n",
    "C.addFrame('box') \\\n",
    "    .setPosition([-.25,.1,1.]) \\\n",
    "    .setShape(ry.ST.ssBox, size=[.06,.6,.6,.005]) \\\n",
    "    .setColor([1,.5,0]) \\\n",
    "    .setContact(True)\n",
    "\n",
    "C.view()\n",
    "qHome = C.getJointState()"
   ]
  },
  {
   "attachments": {},
   "cell_type": "markdown",
   "metadata": {},
   "source": [
    "But we see that there is a jump in the motion while passing the obstacle\n",
    "\n",
    "Here we will see the importance of the scale of the constraint (give values 0, 100 and 1 (which is default one) relatively). Then put 0.1 (1e-1) for perfect case. Do not forget to Del K and C or restart."
   ]
  },
  {
   "cell_type": "code",
   "execution_count": 6,
   "metadata": {},
   "outputs": [
    {
     "name": "stdout",
     "output_type": "stream",
     "text": [
      "{ time: 0.191114, evals: 61, done: 1, feasible: 0, sos: 3.33824, f: 0, ineq: 0, eq: 0.793235 }\n",
      "[[-0.03630787 -0.45150972 -0.03923283 -2.0036983  -0.00710369  2.01073889\n",
      "  -0.49810271]\n",
      " [-0.07264936 -0.40295808 -0.07850626 -2.00738145 -0.01421965  2.02146223\n",
      "  -0.4961971 ]\n",
      " [-0.109058   -0.35428378 -0.11786097 -2.01103428 -0.02136028  2.03215434\n",
      "  -0.49427496]\n",
      " [-0.14556718 -0.30542551 -0.1573378  -2.01464164 -0.02853821  2.04279924\n",
      "  -0.49232831]\n",
      " [-0.18221006 -0.25632204 -0.19697787 -2.01818837 -0.03576646  2.0533805\n",
      "  -0.49034949]\n",
      " [-0.21901951 -0.20691218 -0.23682262 -2.02165933 -0.04305849  2.06388119\n",
      "  -0.48833129]\n",
      " [-0.25602808 -0.15713469 -0.27691395 -2.02503933 -0.05042838  2.07428377\n",
      "  -0.48626709]\n",
      " [-0.29326789 -0.10692827 -0.31729431 -2.02831312 -0.05789085  2.08457004\n",
      "  -0.48415096]\n",
      " [-0.33077068 -0.05623145 -0.3580068  -2.03146541 -0.06546142  2.09472116\n",
      "  -0.48197781]\n",
      " [-0.3685677  -0.00498248 -0.3990953  -2.03448078 -0.07315642  2.10471767\n",
      "  -0.47974352]\n",
      " [-0.33633061 -0.01560152 -0.37002701 -2.02486877 -0.06417815  2.09827608\n",
      "  -0.47744511]\n",
      " [-0.30437645 -0.02561814 -0.34135609 -2.01503676 -0.05533785  2.09163693\n",
      "  -0.47508089]\n",
      " [-0.27266225 -0.03504411 -0.31305985 -2.00491737 -0.04663268  2.08477655\n",
      "  -0.47265057]\n",
      " [-0.24114383 -0.04389153 -0.2851161  -1.99444369 -0.03806063  2.07767026\n",
      "  -0.47015548]\n",
      " [-0.20977545 -0.05217313 -0.25750281 -1.98354956 -0.02962035  2.0702922\n",
      "  -0.46759868]\n",
      " [-0.17850954 -0.05990262 -0.23019788 -1.97217002 -0.02131118  2.0626152\n",
      "  -0.46498511]\n",
      " [-0.14729633 -0.06709484 -0.20317897 -1.96024164 -0.01313303  2.05461078\n",
      "  -0.46232174]\n",
      " [-0.11608372 -0.07376587 -0.17642321 -1.94770299 -0.00508636  2.04624916\n",
      "  -0.45961766]\n",
      " [-0.08481701 -0.07993305 -0.14990705 -1.93449512  0.00282784  2.03749944\n",
      "  -0.45688414]\n",
      " [-0.05343879 -0.08561478 -0.12360613 -1.92056207  0.01060807  2.02832988\n",
      "  -0.45413471]\n",
      " [-0.02188887 -0.09083033 -0.09749508 -1.90585144  0.01825229  2.01870823\n",
      "  -0.45138506]\n",
      " [ 0.00989576 -0.09559946 -0.07154747 -1.89031495  0.02575799  2.00860225\n",
      "  -0.44865299]\n",
      " [ 0.0419809  -0.09994198 -0.0457357  -1.87390904  0.03312227  1.99798026\n",
      "  -0.44595818]\n",
      " [ 0.07443504 -0.10387727 -0.0200309  -1.85659542  0.04034203  1.98681186\n",
      "  -0.44332179]\n",
      " [ 0.10732921 -0.1074238   0.00559713 -1.83834157  0.04741444  1.97506874\n",
      "  -0.44076599]\n",
      " [ 0.14073687 -0.11059867  0.03118005 -1.81912108  0.05433775  1.96272564\n",
      "  -0.43831311]\n",
      " [ 0.17558919 -0.11278587  0.0576933  -1.79940345  0.060998    1.94976145\n",
      "  -0.43598458]\n",
      " [ 0.21405092 -0.11027293  0.087559   -1.7822863   0.06668843  1.93616045\n",
      "  -0.43379939]\n",
      " [ 0.37645521 -0.0576235   0.24787137 -1.79208514  0.08695489  1.92628354\n",
      "  -0.42551274]\n",
      " [ 0.44662934  0.07301891  0.31356623 -1.89610814  0.09749543  1.90742048\n",
      "  -0.42500703]\n",
      " [ 0.37683332 -0.05674988  0.24729598 -1.79128084  0.08817731  1.92526317\n",
      "  -0.42466812]\n",
      " [ 0.21477908 -0.10842762  0.08638919 -1.78067377  0.06913889  1.9341213\n",
      "  -0.43210413]\n",
      " [ 0.17698395 -0.10996736  0.05613456 -1.79690412  0.06470456  1.94663074\n",
      "  -0.43342592]\n",
      " [ 0.14282153 -0.10678946  0.02922219 -1.81571826  0.0593042   1.95845179\n",
      "  -0.43487193]\n",
      " [ 0.10971291 -0.10291973  0.00277344 -1.83377381  0.05370381  1.96958344\n",
      "  -0.43641633]\n",
      " [ 0.07715664 -0.09865042 -0.02372127 -1.85084344  0.04796194  1.98002987\n",
      "  -0.43803083]\n",
      " [ 0.04508068 -0.09396386 -0.05030106 -1.86694281  0.04208274  1.98979912\n",
      "  -0.4396862 ]\n",
      " [ 0.01341601 -0.08883971 -0.07700307 -1.88209336  0.03607086  1.99890197\n",
      "  -0.44135338]\n",
      " [-0.01790326 -0.08325536 -0.10386269 -1.89632181  0.02993066  2.00735094\n",
      "  -0.44300427]\n",
      " [-0.04893988 -0.07718648 -0.13091378 -1.90965945  0.02366567  2.01515937\n",
      "  -0.44461226]\n",
      " [-0.07975338 -0.07060737 -0.15818883 -1.92214143  0.01727838  2.02234068\n",
      "  -0.44615263]\n",
      " [-0.11040014 -0.06349143 -0.18571914 -1.93380606  0.01077011  2.02890773\n",
      "  -0.44760275]\n",
      " [-0.14093336 -0.0558114  -0.21353502 -1.94469405  0.00414092  2.03487218\n",
      "  -0.44894226]\n",
      " [-0.17140325 -0.04753967 -0.24166594 -1.95484789 -0.0026104   2.04024408\n",
      "  -0.45015313]\n",
      " [-0.20185711 -0.03864831 -0.27014076 -1.96431124 -0.00948637  2.04503151\n",
      "  -0.45121968]\n",
      " [-0.23233956 -0.02910917 -0.29898799 -1.97312836 -0.01649085  2.04924024\n",
      "  -0.45212855]\n",
      " [-0.26289275 -0.01889372 -0.32823597 -1.98134363 -0.0236291   2.05287361\n",
      "  -0.45286873]\n",
      " [-0.29355658 -0.00797298 -0.35791318 -1.98900114 -0.03090788  2.05593239\n",
      "  -0.45343146]\n",
      " [-0.32436905  0.00368276 -0.3880485  -1.9961443  -0.03833549  2.05841477\n",
      "  -0.45381022]\n",
      " [-0.35536649  0.01610417 -0.41867152 -2.00281552 -0.0459219   2.06031643\n",
      "  -0.45400067]]\n"
     ]
    }
   ],
   "source": [
    "C.setJointState(qHome)\n",
    "komo = ry.KOMO(C, 5, 10, 1, True)\n",
    "komo.addControlObjective([], 0, 1e-1)\n",
    "komo.addControlObjective([], 1, 1e0)\n",
    "komo.addObjective([], ry.FS.accumulatedCollisions, [], ry.OT.eq)\n",
    "komo.addObjective([1], ry.FS.positionDiff, ['l_gripper', 'way1'], ry.OT.eq, [1e1])\n",
    "komo.addObjective([3], ry.FS.positionDiff, ['l_gripper', 'way3'], ry.OT.eq, [1e1])\n",
    "komo.addObjective([5], ry.FS.positionDiff, ['l_gripper', 'way1'], ry.OT.eq, [1e1])\n",
    "\n",
    "ret = ry.NLP_Solver(komo.nlp(), verbose=0 ) .solve()\n",
    "print(ret)\n",
    "q = komo.getPath()\n",
    "print(q)\n",
    "\n",
    "for t in range(q.shape[0]):\n",
    "    C.setJointState(q[t])\n",
    "    C.view(False, f'waypoint {t}')\n",
    "    time.sleep(0.1)"
   ]
  },
  {
   "attachments": {},
   "cell_type": "markdown",
   "metadata": {},
   "source": [
    "komo.addObjective([], ry.FS.accumulatedCollisions, [], ry.OT.eq);\n",
    "\n",
    "    komo.addObjective(...): This is calling a method named addObjective on the komo object, which is an instance of a KOMO optimizer.\n",
    "\n",
    "    []: The first argument [] specifies the time intervals over which this objective applies. In this case, [] means it applies to all time intervals. In other words, this objective is valid for the entire duration of the optimization.\n",
    "\n",
    "    ry.FS.accumulatedCollisions: The second argument ry.FS.accumulatedCollisions is specifying the type of feature to use for this objective. In this case, it's using a feature related to accumulated collisions. This means the objective will aim to minimize the total amount of collisions that occur throughout the motion.\n",
    "\n",
    "    []: The third argument [] specifies the frames associated with this feature. Since ry.FS.accumulatedCollisions doesn't require specific frame associations, this argument is left empty.\n",
    "\n",
    "    ry.OT.eq: The fourth argument ry.OT.eq specifies the type of objective. Here, it's an equality constraint. This means the optimizer will aim to make the value of the accumulated collisions equal to a certain target value (which is default value zero in here).\n",
    "\n",
    "Putting it all together, this line is instructing the optimizer to minimize the total amount of accumulated collisions over the entire duration of the motion, treating it as an equality constraint. This is a way to prioritize collision-free or low-collision solutions."
   ]
  },
  {
   "attachments": {},
   "cell_type": "markdown",
   "metadata": {},
   "source": [
    "##  Part b) Possible State Solution by KOMO"
   ]
  },
  {
   "cell_type": "code",
   "execution_count": 7,
   "metadata": {},
   "outputs": [],
   "source": [
    "del komo\n",
    "del C"
   ]
  },
  {
   "cell_type": "code",
   "execution_count": 8,
   "metadata": {},
   "outputs": [],
   "source": [
    "C = ry.Config()\n",
    "C.addFile(ry.raiPath('scenarios/pandaSingle.g'))\n",
    "C.addFrame('way3'). setShape(ry.ST.marker, [.1]) .setPosition([-.4, .2, 1.0])\n",
    "\n",
    "C.addFrame('box') \\\n",
    "    .setPosition([-.25,.1,1.3]) \\\n",
    "    .setShape(ry.ST.ssBox, size=[.06,.7,.5,.005]) \\\n",
    "    .setColor([1,.5,0]) \\\n",
    "    .setContact(True)\n",
    "\n",
    "C.view()\n",
    "qHome = C.getJointState()"
   ]
  },
  {
   "cell_type": "code",
   "execution_count": 9,
   "metadata": {},
   "outputs": [
    {
     "name": "stdout",
     "output_type": "stream",
     "text": [
      "{ time: 0.289301, evals: 698, done: 1, feasible: 1, sos: 61.1134, f: 0, ineq: 0, eq: 0.135414 }\n",
      "size of path: (10, 7)\n"
     ]
    }
   ],
   "source": [
    "C.setJointState(qHome)\n",
    "komo = ry.KOMO(C, 1, 10, 2, True)\n",
    "\n",
    "komo.addControlObjective([], 0, 1e-1) \n",
    "komo.addControlObjective([], 2, 1e0)\n",
    "\n",
    "komo.addObjective([], ry.FS.accumulatedCollisions, [], ry.OT.eq,[1e1])\n",
    "komo.addObjective([1], ry.FS.positionDiff, ['l_gripper', 'way3'], ry.OT.eq, [1e1])\n",
    "\n",
    "komo.addObjective([1], ry.FS.jointState, [], ry.OT.eq, [1e1], [], order=1)\n",
    "\n",
    "ret = ry.NLP_Solver(komo.nlp(), verbose=0 ) .solve()\n",
    "print(ret)\n",
    "q = komo.getPath()\n",
    "print('size of path:', q.shape)\n",
    "\n",
    "for t in range(q.shape[0]):\n",
    "    C.setJointState(q[t])\n",
    "    C.view(False, f'waypoint {t}')\n",
    "    time.sleep(.1)"
   ]
  },
  {
   "attachments": {},
   "cell_type": "markdown",
   "metadata": {},
   "source": [
    "## Possible State Solution by RRT"
   ]
  },
  {
   "cell_type": "code",
   "execution_count": 30,
   "metadata": {},
   "outputs": [
    {
     "data": {
      "text/plain": [
       "0"
      ]
     },
     "execution_count": 30,
     "metadata": {},
     "output_type": "execute_result"
    }
   ],
   "source": [
    "# that's the goal configuration\n",
    "qT = komo.getPath()[-1]\n",
    "C.setJointState(qT)\n",
    "C.view(False, \"IK solution\")"
   ]
  },
  {
   "cell_type": "code",
   "execution_count": 31,
   "metadata": {},
   "outputs": [
    {
     "name": "stdout",
     "output_type": "stream",
     "text": [
      "-- RRT_PathFinder.cpp:RRT_PathFinder:258(0) initializing with infeasible qT:\n",
      "query: h_goal: 0 g_coll: 0 isGoal: 1 isFeasible: 0\n",
      "proxy:  (box)-(l_panda_coll5) [64,51] \td=-0\n",
      "{ time: 0.0055, evals: 77, done: 1, feasible: 1, sos: -1, f: -1, ineq: -1, eq: -1 }\n"
     ]
    }
   ],
   "source": [
    "#define a path finding problem\n",
    "rrt = ry.PathFinder()\n",
    "rrt.setProblem(C, [qHome], [qT])\n",
    "\n",
    "ret = rrt.solve()\n",
    "print(ret)\n",
    "path = ret.x"
   ]
  },
  {
   "cell_type": "code",
   "execution_count": 32,
   "metadata": {},
   "outputs": [],
   "source": [
    "# display the path\n",
    "for t in range(0, path.shape[0]-1):\n",
    "    C.setJointState(path[t])\n",
    "    C.view()\n",
    "    time.sleep(.1)"
   ]
  },
  {
   "cell_type": "code",
   "execution_count": 33,
   "metadata": {},
   "outputs": [],
   "source": [
    "del komo\n",
    "del rrt\n",
    "del C"
   ]
  },
  {
   "attachments": {},
   "cell_type": "markdown",
   "metadata": {},
   "source": [
    "Now, let us give a state which is impossible for robot arm to reach."
   ]
  },
  {
   "attachments": {},
   "cell_type": "markdown",
   "metadata": {},
   "source": [
    "##  Part c) Impossible State Solution by KOMO"
   ]
  },
  {
   "cell_type": "code",
   "execution_count": 34,
   "metadata": {},
   "outputs": [],
   "source": [
    "C = ry.Config()\n",
    "C.addFile(ry.raiPath('scenarios/pandaSingle.g'))\n",
    "C.addFrame('way3'). setShape(ry.ST.marker, [.1]) .setPosition([-.4, .2, 1.])\n",
    "\n",
    "C.addFrame('box') \\\n",
    "    .setPosition([-.25,.1,1.]) \\\n",
    "    .setShape(ry.ST.ssBox, size=[.06,.7,.7,.005]) \\\n",
    "    .setColor([1,.5,0]) \\\n",
    "    .setContact(True)\n",
    "\n",
    "C.view()\n",
    "qHome = C.getJointState()"
   ]
  },
  {
   "cell_type": "code",
   "execution_count": 35,
   "metadata": {},
   "outputs": [
    {
     "name": "stdout",
     "output_type": "stream",
     "text": [
      "{ time: 0.142184, evals: 292, done: 1, feasible: 0, sos: 28.8058, f: 0, ineq: 0, eq: 2.87005 }\n",
      "size of path: (10, 7)\n"
     ]
    }
   ],
   "source": [
    "C.setJointState(qHome)\n",
    "komo = ry.KOMO(C, 1, 10, 2, True)\n",
    "komo.addControlObjective([], 0, 1e-1) \n",
    "komo.addControlObjective([], 2, 1e0)\n",
    "komo.addObjective([], ry.FS.accumulatedCollisions, [], ry.OT.eq,[1e1])\n",
    "komo.addObjective([1], ry.FS.positionDiff, ['l_gripper', 'way3'], ry.OT.eq, [1e1])\n",
    "komo.addObjective([1], ry.FS.jointState, [], ry.OT.eq, [1e1], [], order=1)\n",
    "\n",
    "ret = ry.NLP_Solver(komo.nlp(), verbose=0 ) .solve()\n",
    "print(ret)\n",
    "q = komo.getPath()\n",
    "print('size of path:', q.shape)\n",
    "for t in range(q.shape[0]):\n",
    "    C.setJointState(q[t])\n",
    "    C.view(False, f'waypoint {t}')\n",
    "    time.sleep(.1)"
   ]
  },
  {
   "attachments": {},
   "cell_type": "markdown",
   "metadata": {},
   "source": [
    "## Impossible State Solution by RRT"
   ]
  },
  {
   "cell_type": "code",
   "execution_count": 36,
   "metadata": {},
   "outputs": [
    {
     "data": {
      "text/plain": [
       "0"
      ]
     },
     "execution_count": 36,
     "metadata": {},
     "output_type": "execute_result"
    }
   ],
   "source": [
    "# that's the goal configuration\n",
    "qT = komo.getPath()[-1]\n",
    "C.setJointState(qT)\n",
    "C.view(False, \"IK solution\")"
   ]
  },
  {
   "cell_type": "code",
   "execution_count": 37,
   "metadata": {},
   "outputs": [
    {
     "name": "stdout",
     "output_type": "stream",
     "text": [
      "-- RRT_PathFinder.cpp:RRT_PathFinder:257(0) initializing with infeasible q0:\n",
      "query: h_goal: 0 g_coll: 0 isGoal: 1 isFeasible: 0\n",
      "proxy:  (box)-(l_finger1) [64,58] \td=-0\n",
      "proxy:  (box)-(table) [64,1] \td=-0\n",
      "proxy:  (box)-(l_finger2) [64,59] \td=-0\n",
      "-- RRT_PathFinder.cpp:RRT_PathFinder:258(0) initializing with infeasible qT:\n",
      "query: h_goal: 0 g_coll: 0 isGoal: 1 isFeasible: 0\n",
      "proxy:  (box)-(l_finger1) [64,58] \td=-0\n",
      "proxy:  (box)-(table) [64,1] \td=-0\n",
      "proxy:  (box)-(l_finger2) [64,59] \td=-0\n",
      "{ time: 0.166388, evals: 5001, done: 1, feasible: 0, sos: -1, f: -1, ineq: -1, eq: -1 }\n"
     ]
    }
   ],
   "source": [
    "#define a path finding problem\n",
    "rrt = ry.PathFinder()\n",
    "rrt.setProblem(C, [qHome], [qT])\n",
    "\n",
    "ret = rrt.solve()\n",
    "print(ret)\n",
    "path = ret.x"
   ]
  },
  {
   "attachments": {},
   "cell_type": "markdown",
   "metadata": {},
   "source": [
    "So we will get an error since there is no feasible solution"
   ]
  },
  {
   "cell_type": "code",
   "execution_count": 38,
   "metadata": {},
   "outputs": [
    {
     "ename": "IndexError",
     "evalue": "tuple index out of range",
     "output_type": "error",
     "traceback": [
      "\u001b[0;31m---------------------------------------------------------------------------\u001b[0m",
      "\u001b[0;31mIndexError\u001b[0m                                Traceback (most recent call last)",
      "Cell \u001b[0;32mIn[38], line 2\u001b[0m\n\u001b[1;32m      1\u001b[0m \u001b[38;5;66;03m# display the path\u001b[39;00m\n\u001b[0;32m----> 2\u001b[0m \u001b[38;5;28;01mfor\u001b[39;00m t \u001b[38;5;129;01min\u001b[39;00m \u001b[38;5;28mrange\u001b[39m(\u001b[38;5;241m0\u001b[39m, \u001b[43mpath\u001b[49m\u001b[38;5;241;43m.\u001b[39;49m\u001b[43mshape\u001b[49m\u001b[43m[\u001b[49m\u001b[38;5;241;43m0\u001b[39;49m\u001b[43m]\u001b[49m\u001b[38;5;241m-\u001b[39m\u001b[38;5;241m1\u001b[39m):\n\u001b[1;32m      3\u001b[0m     C\u001b[38;5;241m.\u001b[39msetJointState(path[t])\n\u001b[1;32m      4\u001b[0m     C\u001b[38;5;241m.\u001b[39mview()\n",
      "\u001b[0;31mIndexError\u001b[0m: tuple index out of range"
     ]
    }
   ],
   "source": [
    "# display the path\n",
    "for t in range(0, path.shape[0]-1):\n",
    "    C.setJointState(path[t])\n",
    "    C.view()\n",
    "    time.sleep(.1)"
   ]
  },
  {
   "cell_type": "code",
   "execution_count": 41,
   "metadata": {},
   "outputs": [],
   "source": [
    "# https://marctoussaint.github.io/robotics-course/tutorials.html -> Tutorials\n",
    "# https://github.com/MarcToussaint/rai-tutorials/tree/main -> Tutorials\n",
    "# https://marctoussaint.github.io/robotics-course/rai.html -> Documentation"
   ]
  }
 ],
 "metadata": {
  "kernelspec": {
   "display_name": "rai_venv",
   "language": "python",
   "name": "python3"
  },
  "language_info": {
   "codemirror_mode": {
    "name": "ipython",
    "version": 3
   },
   "file_extension": ".py",
   "mimetype": "text/x-python",
   "name": "python",
   "nbconvert_exporter": "python",
   "pygments_lexer": "ipython3",
   "version": "3.8.10"
  },
  "orig_nbformat": 4
 },
 "nbformat": 4,
 "nbformat_minor": 2
}
