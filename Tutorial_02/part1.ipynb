{
 "cells": [
  {
   "cell_type": "markdown",
   "metadata": {},
   "source": [
    "## Motion Planning through KOMO ##"
   ]
  },
  {
   "cell_type": "code",
   "execution_count": 2,
   "metadata": {},
   "outputs": [],
   "source": [
    "import robotic as ry\n",
    "import numpy as np\n",
    "import time"
   ]
  },
  {
   "attachments": {},
   "cell_type": "markdown",
   "metadata": {},
   "source": [
    "## Part a) Adding a constraint to simulation"
   ]
  },
  {
   "cell_type": "code",
   "execution_count": 12,
   "metadata": {},
   "outputs": [],
   "source": [
    "C = ry.Config()\n",
    "C.addFile(ry.raiPath('scenarios/pandaSingle.g'))\n",
    "\n",
    "# add waypoints\n",
    "C.addFrame('way1'). setShape(ry.ST.marker, [.1]) .setPosition([.4, .2, 1.])\n",
    "C.addFrame('way2'). setShape(ry.ST.marker, [.1]) .setPosition([0, .2, 1.6])\n",
    "C.addFrame('way3'). setShape(ry.ST.marker, [.1]) .setPosition([-.4, .2, 1.])\n",
    "\n",
    "# add wall\n",
    "C.addFrame('box') \\\n",
    "    .setPosition([-.25,.1,1.]) \\\n",
    "    .setShape(ry.ST.ssBox, size=[.06,.6,.6,.005]) \\\n",
    "    .setColor([1,.5,0]) \\\n",
    "    .setContact(True)\n",
    "\n",
    "C.view()\n",
    "\n",
    "# save home joints state\n",
    "qHome = C.getJointState()"
   ]
  },
  {
   "attachments": {},
   "cell_type": "markdown",
   "metadata": {},
   "source": [
    "First, solve the task without collision constraint"
   ]
  },
  {
   "cell_type": "code",
   "execution_count": 13,
   "metadata": {},
   "outputs": [
    {
     "name": "stdout",
     "output_type": "stream",
     "text": [
      "{ time: 0.537728, evals: 237, done: 1, feasible: 1, sos: 5.64877, f: 0, ineq: 0, eq: 0.146168 }\n",
      "[[-0.03415093 -0.44958748 -0.03992019 -2.00091532 -0.01265128  2.0063354\n",
      "  -0.49757908]\n",
      " [-0.06832475 -0.39911534 -0.07989052 -2.00181758 -0.02531657  2.012656\n",
      "  -0.49515019]\n",
      " [-0.1025443  -0.34852387 -0.11996122 -2.00269368 -0.03800998  2.01894695\n",
      "  -0.49270535]\n",
      " [-0.13683234 -0.29775321 -0.16018271 -2.00353043 -0.05074587  2.02519328\n",
      "  -0.49023656]\n",
      " [-0.17121146 -0.24674322 -0.20060571 -2.00431454 -0.06353891  2.03137981\n",
      "  -0.4877358 ]\n",
      " [-0.20570401 -0.19543344 -0.24128136 -2.00503247 -0.07640427  2.03749107\n",
      "  -0.48519498]\n",
      " [-0.24033207 -0.14376292 -0.28226129 -2.00567045 -0.08935778  2.04351117\n",
      "  -0.48260602]\n",
      " [-0.27511729 -0.09167013 -0.32359778 -2.00621429 -0.10241614  2.04942361\n",
      "  -0.47996074]\n",
      " [-0.31008078 -0.03909279 -0.36534391 -2.00664929 -0.11559714  2.05521109\n",
      "  -0.47725093]\n",
      " [-0.34524295  0.0140323  -0.40755368 -2.00696005 -0.12891999  2.06085522\n",
      "  -0.47446833]\n",
      " [-0.29965399 -0.03914334 -0.36995545 -1.94793461 -0.12389215  2.0618435\n",
      "  -0.47160463]\n",
      " [-0.25421157 -0.0917505  -0.33284771 -1.88868153 -0.11902662  2.06263903\n",
      "  -0.46865147]\n",
      " [-0.20884236 -0.14383125 -0.29620358 -1.82911197 -0.11432566  2.06320981\n",
      "  -0.46560046]\n",
      " [-0.16347075 -0.195426   -0.25999765 -1.7691346  -0.1097949   2.06352067\n",
      "  -0.46244318]\n",
      " [-0.11801808 -0.24657315 -0.2242061  -1.70865481 -0.10544415  2.0635324\n",
      "  -0.45917123]\n",
      " [-0.07240182 -0.29730879 -0.18880694 -1.64757372 -0.10128841  2.06320063\n",
      "  -0.45577622]\n",
      " [-0.02653447 -0.34766623 -0.15378024 -1.58578698 -0.09734906  2.06247438\n",
      "  -0.45224981]\n",
      " [ 0.01967773 -0.39767538 -0.11910853 -1.52318323 -0.09365529  2.06129434\n",
      "  -0.44858376]\n",
      " [ 0.06633642 -0.447362   -0.08477723 -1.45964235 -0.09024595  2.05959061\n",
      "  -0.44476997]\n",
      " [ 0.11355306 -0.49674672 -0.05077529 -1.39503315 -0.08717177  2.05727996\n",
      "  -0.44080053]\n",
      " [ 0.16700762 -0.44450202 -0.01308141 -1.41630009 -0.08187651  2.02435064\n",
      "  -0.43666777]\n",
      " [ 0.22128494 -0.39185306  0.02427522 -1.43628631 -0.07706566  1.99056407\n",
      "  -0.43236439]\n",
      " [ 0.27654503 -0.33867258  0.06127327 -1.45490316 -0.07284512  1.95574383\n",
      "  -0.42788348]\n",
      " [ 0.33297133 -0.28481951  0.09788305 -1.47203581 -0.06934758  1.91968114\n",
      "  -0.42321865]\n",
      " [ 0.39077629 -0.2301351   0.13406436 -1.48753708 -0.06673864  1.88212715\n",
      "  -0.41836419]\n",
      " [ 0.45020826 -0.17443821  0.16976383 -1.50121987 -0.06522414  1.84278321\n",
      "  -0.41331515]\n",
      " [ 0.49481419 -0.11748108  0.18635722 -1.51909031 -0.07195647  1.79551069\n",
      "  -0.41136212]\n",
      " [ 0.5394503  -0.05621554  0.19995003 -1.5381957  -0.08103527  1.74469928\n",
      "  -0.40968711]\n",
      " [ 0.57965196  0.00615453  0.20525072 -1.55694533 -0.093874    1.68907798\n",
      "  -0.40917207]\n",
      " [ 0.62285057  0.21604495  0.21034839 -1.69172758 -0.11792841  1.62957478\n",
      "  -0.40851337]\n",
      " [ 0.58106312  0.00791907  0.20461999 -1.55468548 -0.09638913  1.68525835\n",
      "  -0.40770738]\n",
      " [ 0.54227841 -0.05219472  0.19860722 -1.53382541 -0.08609265  1.73703724\n",
      "  -0.40675462]\n",
      " [ 0.49934682 -0.11131763  0.18458256 -1.51234402 -0.07950063  1.78404769\n",
      "  -0.40690008]\n",
      " [ 0.45681209 -0.16672419  0.16790844 -1.49131266 -0.07516602  1.82763155\n",
      "  -0.40722705]\n",
      " [ 0.39915124 -0.22122337  0.131799   -1.47417176 -0.0792298   1.86312437\n",
      "  -0.41069107]\n",
      " [ 0.34315472 -0.27466549  0.09519219 -1.4551286  -0.08442009  1.89672775\n",
      "  -0.41393297]\n",
      " [ 0.28858283 -0.32722191  0.05813916 -1.43435286 -0.09053769  1.92872007\n",
      "  -0.41695202]\n",
      " [ 0.23523183 -0.37904216  0.02067768 -1.4119735  -0.09742349  1.95933006\n",
      "  -0.41974821]\n",
      " [ 0.1829271  -0.43025832 -0.01716512 -1.38808649 -0.10495106  1.98874634\n",
      "  -0.42232206]\n",
      " [ 0.13151768 -0.48098872 -0.05537064 -1.36276103 -0.11302064  2.01712524\n",
      "  -0.42467448]\n",
      " [ 0.08621461 -0.4287619  -0.09106037 -1.42453367 -0.11845808  2.01394345\n",
      "  -0.42680667]\n",
      " [ 0.04155906 -0.37612898 -0.12711692 -1.48504768 -0.12429898  2.00992854\n",
      "  -0.42872002]\n",
      " [-0.00255232 -0.32305535 -0.1635607  -1.54442116 -0.1304973   2.00513765\n",
      "  -0.43041598]\n",
      " [-0.04621263 -0.26950088 -0.2004158  -1.60276073 -0.13701882  1.99961441\n",
      "  -0.43189603]\n",
      " [-0.0895066  -0.21542089 -0.23770948 -1.66016377 -0.14383904  1.9933916\n",
      "  -0.43316161]\n",
      " [-0.13251219 -0.16076688 -0.27547176 -1.71672022 -0.15094146  1.98649323\n",
      "  -0.43421404]\n",
      " [-0.17530179 -0.10548705 -0.31373514 -1.77251402 -0.15831621  1.97893625\n",
      "  -0.43505448]\n",
      " [-0.21794319 -0.04952672 -0.35253437 -1.82762426 -0.16595901  1.97073175\n",
      "  -0.43568392]\n",
      " [-0.26050034  0.00717144 -0.39190636 -1.88212604 -0.1738704   1.96188595\n",
      "  -0.43610311]\n",
      " [-0.30303396  0.06466725 -0.43189013 -1.93609123 -0.18205516  1.95240083\n",
      "  -0.43631258]]\n"
     ]
    }
   ],
   "source": [
    "C.setJointState(qHome)\n",
    "komo = ry.KOMO(C, 5, 10, 1, True)\n",
    "\n",
    "# order=0: penalizing sqr distance to qHome, \n",
    "# order=1: penalizing sqr distances between consecutive configurations (velocities), \n",
    "# order=2: penalizing accelerations across 3 configurations\n",
    "komo.addControlObjective([], 0, 1e-1)\n",
    "komo.addControlObjective([], 1, 1e0)\n",
    "\n",
    "# add accumuated colisions penalty\n",
    "komo.addObjective([], ry.FS.accumulatedCollisions, [], ry.OT.eq)\n",
    "\n",
    "\n",
    "# add waypoints as objectives\n",
    "komo.addObjective([1], ry.FS.positionDiff, ['l_gripper', 'way1'], ry.OT.eq, [1e1])\n",
    "komo.addObjective([2], ry.FS.positionDiff, ['l_gripper', 'way2'], ry.OT.eq, [1e1])\n",
    "komo.addObjective([3], ry.FS.positionDiff, ['l_gripper', 'way3'], ry.OT.eq, [1e1])\n",
    "komo.addObjective([4], ry.FS.positionDiff, ['l_gripper', 'way2'], ry.OT.eq, [1e1])\n",
    "komo.addObjective([5], ry.FS.positionDiff, ['l_gripper', 'way1'], ry.OT.eq, [1e1])\n",
    "\n",
    "# get the initial path using Non Linear Programming solver\n",
    "ret = ry.NLP_Solver(komo.nlp(), verbose=0 ) .solve()\n",
    "print(ret)\n",
    "\n",
    "# get the optimized path. q is a matrix of joint states\n",
    "q = komo.getPath()\n",
    "print(q)\n",
    "\n",
    "# simulate the optimized path\n",
    "for t in range(q.shape[0]):\n",
    "    C.setJointState(q[t])\n",
    "    C.view(False, f'waypoint {t}')\n",
    "    time.sleep(0.1)"
   ]
  },
  {
   "cell_type": "code",
   "execution_count": 14,
   "metadata": {},
   "outputs": [],
   "source": [
    "del komo\n",
    "del C"
   ]
  },
  {
   "attachments": {},
   "cell_type": "markdown",
   "metadata": {},
   "source": [
    "Then, we add collision constraint with \"accumulatedCollisions\" feature"
   ]
  },
  {
   "cell_type": "code",
   "execution_count": 15,
   "metadata": {},
   "outputs": [],
   "source": [
    "C = ry.Config()\n",
    "C.addFile(ry.raiPath('scenarios/pandaSingle.g'))\n",
    "C.addFrame('way1'). setShape(ry.ST.marker, [.1]) .setPosition([.4, .2, 1.])\n",
    "C.addFrame('way3'). setShape(ry.ST.marker, [.1]) .setPosition([-.4, .2, 1.])\n",
    "\n",
    "C.addFrame('box') \\\n",
    "    .setPosition([-.25,.1,1.]) \\\n",
    "    .setShape(ry.ST.ssBox, size=[.06,.6,.6,.005]) \\\n",
    "    .setColor([1,.5,0]) \\\n",
    "    .setContact(True)\n",
    "\n",
    "C.view()\n",
    "qHome = C.getJointState()"
   ]
  },
  {
   "attachments": {},
   "cell_type": "markdown",
   "metadata": {},
   "source": [
    "But we see that there is a jump in the motion while passing the obstacle\n",
    "\n",
    "Here we will see the importance of the scale of the constraint (give values 0, 100 and 1 (which is default one) relatively). Then put 0.1 (1e-1) for perfect case. Do not forget to Del K and C or restart."
   ]
  },
  {
   "cell_type": "code",
   "execution_count": 19,
   "metadata": {},
   "outputs": [
    {
     "name": "stdout",
     "output_type": "stream",
     "text": [
      "{ time: 0.279496, evals: 164, done: 1, feasible: 1, sos: 0.104906, f: 0, ineq: 0, eq: 0.113958 }\n",
      "[[-3.56298038e-03 -4.95615014e-01 -2.82160093e-03 -1.99974272e+00\n",
      "  -2.23833732e-03  2.00081006e+00 -5.00076435e-01]\n",
      " [-8.51536114e-03 -4.89251649e-01 -7.35003858e-03 -1.99989926e+00\n",
      "  -4.71259846e-03  2.00217752e+00 -5.00230075e-01]\n",
      " [-1.66515252e-02 -4.78546468e-01 -1.56791559e-02 -2.00092067e+00\n",
      "  -7.79456562e-03  2.00484362e+00 -5.00532526e-01]\n",
      " [-3.04441614e-02 -4.60429537e-01 -3.05272884e-02 -2.00331247e+00\n",
      "  -1.20903656e-02  2.00985309e+00 -5.01027714e-01]\n",
      " [-5.30476384e-02 -4.31025595e-01 -5.51809549e-02 -2.00759990e+00\n",
      "  -1.84402709e-02  2.01855079e+00 -5.01702123e-01]\n",
      " [-8.78970273e-02 -3.86040342e-01 -9.30174594e-02 -2.01421969e+00\n",
      "  -2.77577094e-02  2.03239567e+00 -5.02475047e-01]\n",
      " [-1.37831684e-01 -3.21848222e-01 -1.46559977e-01 -2.02336284e+00\n",
      "  -4.07038143e-02  2.05254948e+00 -5.03226528e-01]\n",
      " [-2.03866542e-01 -2.37173324e-01 -2.16237468e-01 -2.03483902e+00\n",
      "  -5.73053175e-02  2.07929474e+00 -5.03849803e-01]\n",
      " [-2.84053444e-01 -1.34701122e-01 -2.99356427e-01 -2.04804071e+00\n",
      "  -7.67252555e-02  2.11152122e+00 -5.04291520e-01]\n",
      " [-3.73126083e-01 -2.15307561e-02 -3.89999985e-01 -2.06203220e+00\n",
      "  -9.73813252e-02  2.14666845e+00 -5.04552390e-01]\n",
      " [-2.83851580e-01 -1.35066652e-01 -2.98447242e-01 -2.04979830e+00\n",
      "  -7.58938683e-02  2.11334390e+00 -5.04653518e-01]\n",
      " [-2.03347234e-01 -2.37918043e-01 -2.14544961e-01 -2.03816725e+00\n",
      "  -5.57755681e-02  2.08258354e+00 -5.04599523e-01]\n",
      " [-1.36824091e-01 -3.22961568e-01 -1.44340668e-01 -2.02791850e+00\n",
      "  -3.87299441e-02  2.05668155e+00 -5.04367178e-01]\n",
      " [-8.62651137e-02 -3.87443451e-01 -9.06287670e-02 -2.01954546e+00\n",
      "  -2.56973800e-02  2.03664094e+00 -5.03923442e-01]\n",
      " [-5.07670314e-02 -4.32563771e-01 -5.29902375e-02 -2.01316636e+00\n",
      "  -1.67252315e-02  2.02225353e+00 -5.03257367e-01]\n",
      " [-2.76332714e-02 -4.61904391e-01 -2.87865438e-02 -2.00856545e+00\n",
      "  -1.11691396e-02  2.01257903e+00 -5.02406128e-01]\n",
      " [-1.35481631e-02 -4.79728874e-01 -1.44294296e-02 -2.00533530e+00\n",
      "  -8.04369836e-03  2.00645116e+00 -5.01459572e-01]\n",
      " [-5.41239671e-03 -4.89794491e-01 -6.41226137e-03 -2.00302631e+00\n",
      "  -6.34300174e-03  2.00280143e+00 -5.00539128e-01]\n",
      " [-7.34608408e-04 -4.94808746e-01 -1.90104712e-03 -2.00123274e+00\n",
      "  -5.24196644e-03  2.00077567e+00 -4.99757725e-01]\n",
      " [ 2.33762992e-03 -4.96339264e-01  1.08541288e-03 -1.99959863e+00\n",
      "  -4.17740121e-03  1.99970912e+00 -4.99174050e-01]\n",
      " [ 5.21340162e-03 -4.94902116e-01  3.77793243e-03 -1.99774870e+00\n",
      "  -2.85556083e-03  1.99903126e+00 -4.98757855e-01]\n",
      " [ 9.16646543e-03 -4.90029626e-01  6.90246322e-03 -1.99513453e+00\n",
      "  -1.24454537e-03  1.99813808e+00 -4.98380129e-01]\n",
      " [ 1.56633337e-02 -4.80249660e-01  1.09396255e-02 -1.99077527e+00\n",
      "   3.97995494e-04  1.99622077e+00 -4.97830894e-01]\n",
      " [ 2.66153625e-02 -4.63020606e-01  1.62693056e-02 -1.98289692e+00\n",
      "   1.42056719e-03  1.99200214e+00 -4.96857251e-01]\n",
      " [ 4.44780959e-02 -4.34742806e-01  2.30652096e-02 -1.96852269e+00\n",
      "   5.80216914e-04  1.98331536e+00 -4.95207175e-01]\n",
      " [ 7.22437321e-02 -3.90975034e-01  3.07969079e-02 -1.94309740e+00\n",
      "  -4.20553141e-03  1.96642745e+00 -4.92645287e-01]\n",
      " [ 1.13659310e-01 -3.26821837e-01  3.71446475e-02 -1.90015087e+00\n",
      "  -1.60629740e-02  1.93489829e+00 -4.88859252e-01]\n",
      " [ 1.74413929e-01 -2.37131568e-01  3.59518596e-02 -1.83092267e+00\n",
      "  -3.92014172e-02  1.87774357e+00 -4.83130394e-01]\n",
      " [ 2.65011798e-01 -1.16368294e-01  1.37330802e-02 -1.72481205e+00\n",
      "  -7.81783433e-02  1.77806826e+00 -4.73783336e-01]\n",
      " [ 6.37157732e-01  2.11753875e-01  1.96110274e-01 -1.69900942e+00\n",
      "  -1.16675466e-01  1.63842974e+00 -4.77234659e-01]\n",
      " [ 2.65829134e-01 -1.16586397e-01  1.36874592e-02 -1.72613864e+00\n",
      "  -7.64198742e-02  1.78032534e+00 -4.74767488e-01]\n",
      " [ 1.75209061e-01 -2.38199358e-01  3.50100043e-02 -1.83262440e+00\n",
      "  -3.59118294e-02  1.88186441e+00 -4.83029757e-01]\n",
      " [ 1.14621988e-01 -3.28701487e-01  3.54064257e-02 -1.90205783e+00\n",
      "  -1.14124458e-02  1.94063492e+00 -4.87756583e-01]\n",
      " [ 7.33132473e-02 -3.93187810e-01  2.82741940e-02 -1.94536786e+00\n",
      "   1.39982255e-03  1.97333946e+00 -4.91097962e-01]\n",
      " [ 4.55557120e-02 -4.36753816e-01  2.00393821e-02 -1.97120301e+00\n",
      "   6.79504722e-03  1.99086472e+00 -4.93839268e-01]\n",
      " [ 2.75508910e-02 -4.64388734e-01  1.32485127e-02 -1.98588399e+00\n",
      "   7.98315906e-03  1.99965254e+00 -4.96218420e-01]\n",
      " [ 1.62918619e-02 -4.80746054e-01  8.53957320e-03 -1.99385946e+00\n",
      "   7.08790256e-03  2.00352518e+00 -4.98280715e-01]\n",
      " [ 9.34226276e-03 -4.89706545e-01  5.67084710e-03 -1.99806356e+00\n",
      "   5.34493858e-03  2.00477688e+00 -5.00005950e-01]\n",
      " [ 4.81343787e-03 -4.94078327e-01  4.01103720e-03 -2.00029001e+00\n",
      "   3.37885104e-03  2.00480715e+00 -5.01376219e-01]\n",
      " [ 1.25026714e-03 -4.95502950e-01  2.70451867e-03 -2.00158879e+00\n",
      "   1.44233663e-03  2.00452997e+00 -5.02415849e-01]\n",
      " [-2.60613489e-03 -4.94467351e-01  6.37750451e-04 -2.00261271e+00\n",
      "  -4.55053325e-04  2.00464299e+00 -5.03188731e-01]\n",
      " [-8.11631600e-03 -4.90316441e-01 -3.69430458e-03 -2.00386068e+00\n",
      "  -2.52752129e-03  2.00580250e+00 -5.03759894e-01]\n",
      " [-1.70259073e-02 -4.81235355e-01 -1.23394386e-02 -2.00581290e+00\n",
      "  -5.25110052e-03  2.00875515e+00 -5.04155220e-01]\n",
      " [-3.16540786e-02 -4.64263121e-01 -2.79722741e-02 -2.00897667e+00\n",
      "  -9.38535859e-03  2.01444784e+00 -5.04349413e-01]\n",
      " [-5.48840054e-02 -4.35489632e-01 -5.37833074e-02 -2.01385445e+00\n",
      "  -1.59029910e-02  2.02406547e+00 -5.04290524e-01]\n",
      " [-8.98283490e-02 -3.90648636e-01 -9.30061079e-02 -2.02084387e+00\n",
      "  -2.57759881e-02  2.03889102e+00 -5.03948942e-01]\n",
      " [-1.39077409e-01 -3.26266312e-01 -1.47987567e-01 -2.03009661e+00\n",
      "  -3.96282868e-02  2.05991637e+00 -5.03364101e-01]\n",
      " [-2.03609468e-01 -2.41260344e-01 -2.18959647e-01 -2.04139242e+00\n",
      "  -5.73565894e-02  2.08727422e+00 -5.02661576e-01]\n",
      " [-2.81744153e-01 -1.38417843e-01 -3.03035868e-01 -2.05410177e+00\n",
      "  -7.79103775e-02  2.11975190e+00 -5.02028046e-01]\n",
      " [-3.68761113e-01 -2.47935896e-02 -3.94154195e-01 -2.06728290e+00\n",
      "  -9.94333892e-02  2.15475514e+00 -5.01651825e-01]]\n"
     ]
    }
   ],
   "source": [
    "C.setJointState(qHome)\n",
    "komo = ry.KOMO(C, 5, 10, 1, True)\n",
    "komo.addControlObjective([], 0, 1e-1)\n",
    "komo.addControlObjective([], 1, 1e0)\n",
    "komo.addObjective([], ry.FS.accumulatedCollisions, [], ry.OT.eq)\n",
    "komo.addObjective([1], ry.FS.positionDiff, ['l_gripper', 'way1'], ry.OT.eq, [1e1])\n",
    "komo.addObjective([3], ry.FS.positionDiff, ['l_gripper', 'way3'], ry.OT.eq, [1e1])\n",
    "komo.addObjective([5], ry.FS.positionDiff, ['l_gripper', 'way1'], ry.OT.eq, [1e1])\n",
    "\n",
    "ret = ry.NLP_Solver(komo.nlp(), verbose=0 ) .solve()\n",
    "print(ret)\n",
    "q = komo.getPath()\n",
    "print(q)\n",
    "\n",
    "for t in range(q.shape[0]):\n",
    "    C.setJointState(q[t])\n",
    "    C.view(False, f'waypoint {t}')\n",
    "    time.sleep(0.1)"
   ]
  },
  {
   "attachments": {},
   "cell_type": "markdown",
   "metadata": {},
   "source": [
    "komo.addObjective([], ry.FS.accumulatedCollisions, [], ry.OT.eq);\n",
    "\n",
    "    komo.addObjective(...): This is calling a method named addObjective on the komo object, which is an instance of a KOMO optimizer.\n",
    "\n",
    "    []: The first argument [] specifies the time intervals over which this objective applies. In this case, [] means it applies to all time intervals. In other words, this objective is valid for the entire duration of the optimization.\n",
    "\n",
    "    ry.FS.accumulatedCollisions: The second argument ry.FS.accumulatedCollisions is specifying the type of feature to use for this objective. In this case, it's using a feature related to accumulated collisions. This means the objective will aim to minimize the total amount of collisions that occur throughout the motion.\n",
    "\n",
    "    []: The third argument [] specifies the frames associated with this feature. Since ry.FS.accumulatedCollisions doesn't require specific frame associations, this argument is left empty.\n",
    "\n",
    "    ry.OT.eq: The fourth argument ry.OT.eq specifies the type of objective. Here, it's an equality constraint. This means the optimizer will aim to make the value of the accumulated collisions equal to a certain target value (which is default value zero in here).\n",
    "\n",
    "Putting it all together, this line is instructing the optimizer to minimize the total amount of accumulated collisions over the entire duration of the motion, treating it as an equality constraint. This is a way to prioritize collision-free or low-collision solutions."
   ]
  },
  {
   "attachments": {},
   "cell_type": "markdown",
   "metadata": {},
   "source": [
    "##  Part b) Possible State Solution by KOMO"
   ]
  },
  {
   "cell_type": "code",
   "execution_count": 20,
   "metadata": {},
   "outputs": [],
   "source": [
    "del komo\n",
    "del C"
   ]
  },
  {
   "cell_type": "code",
   "execution_count": 28,
   "metadata": {},
   "outputs": [],
   "source": [
    "C = ry.Config()\n",
    "C.addFile(ry.raiPath('scenarios/pandaSingle.g'))\n",
    "C.addFrame('way3'). setShape(ry.ST.marker, [.1]) .setPosition([-.4, .2, 1.0])\n",
    "\n",
    "C.addFrame('box') \\\n",
    "    .setPosition([-.25,.1,1.3]) \\\n",
    "    .setShape(ry.ST.ssBox, size=[.06,.7,.5,.005]) \\\n",
    "    .setColor([1,.5,0]) \\\n",
    "    .setContact(True)\n",
    "\n",
    "C.view()\n",
    "qHome = C.getJointState()"
   ]
  },
  {
   "cell_type": "code",
   "execution_count": 29,
   "metadata": {},
   "outputs": [
    {
     "name": "stdout",
     "output_type": "stream",
     "text": [
      "{ time: 0.168167, evals: 373, done: 1, feasible: 1, sos: 61.2207, f: 0, ineq: 0, eq: 0.11978 }\n",
      "size of path: (10, 7)\n"
     ]
    }
   ],
   "source": [
    "C.setJointState(qHome)\n",
    "komo = ry.KOMO(C, 1, 10, 2, True)\n",
    "\n",
    "komo.addControlObjective([], 0, 1e-1) \n",
    "komo.addControlObjective([], 2, 1e0)\n",
    "\n",
    "komo.addObjective([], ry.FS.accumulatedCollisions, [], ry.OT.eq,[1e1])\n",
    "komo.addObjective([1], ry.FS.positionDiff, ['l_gripper', 'way3'], ry.OT.eq, [1e1])\n",
    "\n",
    "komo.addObjective([1], ry.FS.jointState, [], ry.OT.eq, [1e1], [], order=1)\n",
    "\n",
    "ret = ry.NLP_Solver(komo.nlp(), verbose=0 ) .solve()\n",
    "print(ret)\n",
    "q = komo.getPath()\n",
    "print('size of path:', q.shape)\n",
    "\n",
    "for t in range(q.shape[0]):\n",
    "    C.setJointState(q[t])\n",
    "    C.view(False, f'waypoint {t}')\n",
    "    time.sleep(.1)"
   ]
  },
  {
   "attachments": {},
   "cell_type": "markdown",
   "metadata": {},
   "source": [
    "## Possible State Solution by RRT"
   ]
  },
  {
   "cell_type": "code",
   "execution_count": 30,
   "metadata": {},
   "outputs": [
    {
     "data": {
      "text/plain": [
       "0"
      ]
     },
     "execution_count": 30,
     "metadata": {},
     "output_type": "execute_result"
    }
   ],
   "source": [
    "# that's the goal configuration\n",
    "qT = komo.getPath()[-1]\n",
    "C.setJointState(qT)\n",
    "C.view(False, \"IK solution\")"
   ]
  },
  {
   "cell_type": "code",
   "execution_count": 31,
   "metadata": {},
   "outputs": [
    {
     "name": "stdout",
     "output_type": "stream",
     "text": [
      "-- RRT_PathFinder.cpp:RRT_PathFinder:258(0) initializing with infeasible qT:\n",
      "query: h_goal: 0 g_coll: 0 isGoal: 1 isFeasible: 0\n",
      "proxy:  (box)-(l_panda_coll5) [64,51] \td=-0\n",
      "{ time: 0.0055, evals: 77, done: 1, feasible: 1, sos: -1, f: -1, ineq: -1, eq: -1 }\n"
     ]
    }
   ],
   "source": [
    "#define a path finding problem\n",
    "rrt = ry.PathFinder()\n",
    "rrt.setProblem(C, [qHome], [qT])\n",
    "\n",
    "ret = rrt.solve()\n",
    "print(ret)\n",
    "path = ret.x"
   ]
  },
  {
   "cell_type": "code",
   "execution_count": 32,
   "metadata": {},
   "outputs": [],
   "source": [
    "# display the path\n",
    "for t in range(0, path.shape[0]-1):\n",
    "    C.setJointState(path[t])\n",
    "    C.view()\n",
    "    time.sleep(.1)"
   ]
  },
  {
   "cell_type": "code",
   "execution_count": 33,
   "metadata": {},
   "outputs": [],
   "source": [
    "del komo\n",
    "del rrt\n",
    "del C"
   ]
  },
  {
   "attachments": {},
   "cell_type": "markdown",
   "metadata": {},
   "source": [
    "Now, let us give a state which is impossible for robot arm to reach."
   ]
  },
  {
   "attachments": {},
   "cell_type": "markdown",
   "metadata": {},
   "source": [
    "##  Part c) Impossible State Solution by KOMO"
   ]
  },
  {
   "cell_type": "code",
   "execution_count": 34,
   "metadata": {},
   "outputs": [],
   "source": [
    "C = ry.Config()\n",
    "C.addFile(ry.raiPath('scenarios/pandaSingle.g'))\n",
    "C.addFrame('way3'). setShape(ry.ST.marker, [.1]) .setPosition([-.4, .2, 1.])\n",
    "\n",
    "C.addFrame('box') \\\n",
    "    .setPosition([-.25,.1,1.]) \\\n",
    "    .setShape(ry.ST.ssBox, size=[.06,.7,.7,.005]) \\\n",
    "    .setColor([1,.5,0]) \\\n",
    "    .setContact(True)\n",
    "\n",
    "C.view()\n",
    "qHome = C.getJointState()"
   ]
  },
  {
   "cell_type": "code",
   "execution_count": 35,
   "metadata": {},
   "outputs": [
    {
     "name": "stdout",
     "output_type": "stream",
     "text": [
      "{ time: 0.142184, evals: 292, done: 1, feasible: 0, sos: 28.8058, f: 0, ineq: 0, eq: 2.87005 }\n",
      "size of path: (10, 7)\n"
     ]
    }
   ],
   "source": [
    "C.setJointState(qHome)\n",
    "komo = ry.KOMO(C, 1, 10, 2, True)\n",
    "komo.addControlObjective([], 0, 1e-1) \n",
    "komo.addControlObjective([], 2, 1e0)\n",
    "komo.addObjective([], ry.FS.accumulatedCollisions, [], ry.OT.eq,[1e1])\n",
    "komo.addObjective([1], ry.FS.positionDiff, ['l_gripper', 'way3'], ry.OT.eq, [1e1])\n",
    "komo.addObjective([1], ry.FS.jointState, [], ry.OT.eq, [1e1], [], order=1)\n",
    "\n",
    "ret = ry.NLP_Solver(komo.nlp(), verbose=0 ) .solve()\n",
    "print(ret)\n",
    "q = komo.getPath()\n",
    "print('size of path:', q.shape)\n",
    "for t in range(q.shape[0]):\n",
    "    C.setJointState(q[t])\n",
    "    C.view(False, f'waypoint {t}')\n",
    "    time.sleep(.1)"
   ]
  },
  {
   "attachments": {},
   "cell_type": "markdown",
   "metadata": {},
   "source": [
    "## Impossible State Solution by RRT"
   ]
  },
  {
   "cell_type": "code",
   "execution_count": 36,
   "metadata": {},
   "outputs": [
    {
     "data": {
      "text/plain": [
       "0"
      ]
     },
     "execution_count": 36,
     "metadata": {},
     "output_type": "execute_result"
    }
   ],
   "source": [
    "# that's the goal configuration\n",
    "qT = komo.getPath()[-1]\n",
    "C.setJointState(qT)\n",
    "C.view(False, \"IK solution\")"
   ]
  },
  {
   "cell_type": "code",
   "execution_count": 37,
   "metadata": {},
   "outputs": [
    {
     "name": "stdout",
     "output_type": "stream",
     "text": [
      "-- RRT_PathFinder.cpp:RRT_PathFinder:257(0) initializing with infeasible q0:\n",
      "query: h_goal: 0 g_coll: 0 isGoal: 1 isFeasible: 0\n",
      "proxy:  (box)-(l_finger1) [64,58] \td=-0\n",
      "proxy:  (box)-(table) [64,1] \td=-0\n",
      "proxy:  (box)-(l_finger2) [64,59] \td=-0\n",
      "-- RRT_PathFinder.cpp:RRT_PathFinder:258(0) initializing with infeasible qT:\n",
      "query: h_goal: 0 g_coll: 0 isGoal: 1 isFeasible: 0\n",
      "proxy:  (box)-(l_finger1) [64,58] \td=-0\n",
      "proxy:  (box)-(table) [64,1] \td=-0\n",
      "proxy:  (box)-(l_finger2) [64,59] \td=-0\n",
      "{ time: 0.166388, evals: 5001, done: 1, feasible: 0, sos: -1, f: -1, ineq: -1, eq: -1 }\n"
     ]
    }
   ],
   "source": [
    "#define a path finding problem\n",
    "rrt = ry.PathFinder()\n",
    "rrt.setProblem(C, [qHome], [qT])\n",
    "\n",
    "ret = rrt.solve()\n",
    "print(ret)\n",
    "path = ret.x"
   ]
  },
  {
   "attachments": {},
   "cell_type": "markdown",
   "metadata": {},
   "source": [
    "So we will get an error since there is no feasible solution"
   ]
  },
  {
   "cell_type": "code",
   "execution_count": 38,
   "metadata": {},
   "outputs": [
    {
     "ename": "IndexError",
     "evalue": "tuple index out of range",
     "output_type": "error",
     "traceback": [
      "\u001b[0;31m---------------------------------------------------------------------------\u001b[0m",
      "\u001b[0;31mIndexError\u001b[0m                                Traceback (most recent call last)",
      "Cell \u001b[0;32mIn[38], line 2\u001b[0m\n\u001b[1;32m      1\u001b[0m \u001b[38;5;66;03m# display the path\u001b[39;00m\n\u001b[0;32m----> 2\u001b[0m \u001b[38;5;28;01mfor\u001b[39;00m t \u001b[38;5;129;01min\u001b[39;00m \u001b[38;5;28mrange\u001b[39m(\u001b[38;5;241m0\u001b[39m, \u001b[43mpath\u001b[49m\u001b[38;5;241;43m.\u001b[39;49m\u001b[43mshape\u001b[49m\u001b[43m[\u001b[49m\u001b[38;5;241;43m0\u001b[39;49m\u001b[43m]\u001b[49m\u001b[38;5;241m-\u001b[39m\u001b[38;5;241m1\u001b[39m):\n\u001b[1;32m      3\u001b[0m     C\u001b[38;5;241m.\u001b[39msetJointState(path[t])\n\u001b[1;32m      4\u001b[0m     C\u001b[38;5;241m.\u001b[39mview()\n",
      "\u001b[0;31mIndexError\u001b[0m: tuple index out of range"
     ]
    }
   ],
   "source": [
    "# display the path\n",
    "for t in range(0, path.shape[0]-1):\n",
    "    C.setJointState(path[t])\n",
    "    C.view()\n",
    "    time.sleep(.1)"
   ]
  },
  {
   "cell_type": "code",
   "execution_count": 41,
   "metadata": {},
   "outputs": [],
   "source": [
    "# https://marctoussaint.github.io/robotics-course/tutorials.html -> Tutorials\n",
    "# https://github.com/MarcToussaint/rai-tutorials/tree/main -> Tutorials\n",
    "# https://marctoussaint.github.io/robotics-course/rai.html -> Documentation"
   ]
  }
 ],
 "metadata": {
  "kernelspec": {
   "display_name": "rai_venv",
   "language": "python",
   "name": "python3"
  },
  "language_info": {
   "codemirror_mode": {
    "name": "ipython",
    "version": 3
   },
   "file_extension": ".py",
   "mimetype": "text/x-python",
   "name": "python",
   "nbconvert_exporter": "python",
   "pygments_lexer": "ipython3",
   "version": "3.8.10"
  },
  "orig_nbformat": 4
 },
 "nbformat": 4,
 "nbformat_minor": 2
}
