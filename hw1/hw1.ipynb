{
 "cells": [
  {
   "cell_type": "markdown",
   "metadata": {},
   "source": [
    "# 1 Frames"
   ]
  },
  {
   "cell_type": "code",
   "execution_count": 294,
   "metadata": {},
   "outputs": [
    {
     "data": {
      "text/plain": [
       "[0.9238795325112867, 0, 0, 0.3826834323650898]"
      ]
     },
     "execution_count": 294,
     "metadata": {},
     "output_type": "execute_result"
    }
   ],
   "source": [
    "import robotic as ry\n",
    "import numpy as np\n",
    "import time\n",
    "\n",
    "pi = np.pi\n",
    "# some functions I wrote to convert rotation in an axis to quaternion\n",
    " \n",
    "# General form -> quaternion=[cos(θ/2), xsin(θ/2), ysin(θ/2), zsin(θ/2)]\n",
    "  \n",
    "def quat_rotate_x(theta):\n",
    "  # Creates a quaternion for rotation by angle theta around the X-axis: scalar= θ/2 and xyz = [1, 0, 0]\n",
    "  return [np.cos(theta / 2), np.sin(theta / 2), 0, 0]\n",
    "\n",
    "def quat_rotate_y(theta):\n",
    "  # Creates a quaternion for rotation by angle theta around the X-axis: scalar= θ/2 and xyz = [1, 0, 0]\n",
    "  return [np.cos(theta / 2), 0, np.sin(theta / 2), 0]\n",
    "\n",
    "def quat_rotate_z(theta):\n",
    "  # Creates a quaternion for rotation by angle theta around the Z-axis: scalar= θ/2 and xyz = [0, 0, 1]\n",
    "  return [np.cos(theta / 2), 0, 0, np.sin(theta / 2)]\n",
    "\n",
    "def quaternion_rotation_axis(theta, axis):\n",
    "  # Creates a quaternion for rotation by angle theta around an arbitrary axis [x, y, z].\n",
    "  \n",
    "  # axis is given as unit vectors in xyz. e.g. rotation around x-axis will have axis [1, 0, 0]\n",
    "  axis_length = np.sqrt(np.sum(np.square(axis)))\n",
    "  unit_axis = [component / axis_length for component in axis]\n",
    "  \n",
    "  return [np.cos(theta / 2)] + [np.sin(theta / 2) * component for component in unit_axis]\n",
    "\n",
    "quat_rotate_z(np.pi/4)\n"
   ]
  },
  {
   "cell_type": "markdown",
   "metadata": {},
   "source": [
    "### Part A"
   ]
  },
  {
   "cell_type": "code",
   "execution_count": 295,
   "metadata": {},
   "outputs": [],
   "source": [
    "C = ry.Config()\n",
    "C.addFile(ry.raiPath(\"../rai-robotModels/objects/kitchen.g\"))\n",
    "C.view()\n",
    "\n",
    "# Create hammer. Child of sink1\n",
    "hammer = C.addFrame(name=\"hammer\", parent=\"sink1\")\n",
    "\n",
    "# Hammer obj1 - handle. Child of hammer\n",
    "handle = C.addFrame(name=\"handle\", parent=\"hammer\")\n",
    "\n",
    "# Hammer obj2 - head. Child of handle\n",
    "head = C.addFrame(name=\"head\", parent=\"handle\")"
   ]
  },
  {
   "cell_type": "code",
   "execution_count": 296,
   "metadata": {},
   "outputs": [
    {
     "data": {
      "text/plain": [
       "0"
      ]
     },
     "execution_count": 296,
     "metadata": {},
     "output_type": "execute_result"
    }
   ],
   "source": [
    "# set props\n",
    "# position the handle [0.1, 0.1, 0.415] according to ’sink1’.\n",
    "handle.setShape(ry.ST.ssBox, size=[ 0.3, 0.05, 0.03, 0.005 ]) \\\n",
    "  .setColor( [0.65, 0.5, 0.39] ) \\\n",
    "  .setRelativePosition( [0.1, 0.1, 0.415] )\n",
    "  \n",
    "head.setShape(ry.ST.ssBox, size=[ 0.1, 0.05, 0.03, 0.005 ]) \\\n",
    "  .setColor( [0.55, 0.57, 0.58] ) \\\n",
    "  .setRelativePosition( [0.125, 0.0 , 0.0] ) \\\n",
    "  .setQuaternion( [0, 1, 1, 0] )\n",
    "    \n",
    "    \n",
    "# head.setQuaternion(quat_rotate_z(pi / 2))\n",
    "C.view()"
   ]
  },
  {
   "cell_type": "code",
   "execution_count": 297,
   "metadata": {},
   "outputs": [
    {
     "name": "stdout",
     "output_type": "stream",
     "text": [
      "Handle position: \t [-0.4    2.1    0.815]\n",
      "Handle rel position: \t [0.1   0.1   0.415]\n",
      "Handle quaternion: \t [1. 0. 0. 0.]\n",
      "\n",
      "sink1 position: \t [-0.5  2.   0.4]\n",
      "sink1 quaternion: \t [1. 0. 0. 0.]\n",
      "\n",
      "Hammer position: \t [-0.5  2.   0.4]\n",
      "Hammer rel position: \t [0. 0. 0.]\n"
     ]
    }
   ],
   "source": [
    "# testing, ignore\n",
    "print(\"Handle position: \\t\", handle.getPosition())\n",
    "print(\"Handle rel position: \\t\", handle.getRelativePosition())\n",
    "print(\"Handle quaternion: \\t\", handle.getQuaternion())\n",
    "print()\n",
    "print(\"sink1 position: \\t\", C.getFrame(\"sink1\").getPosition())\n",
    "print(\"sink1 quaternion: \\t\", C.getFrame(\"sink1\").getQuaternion())\n",
    "print()\n",
    "print(\"Hammer position: \\t\", hammer.getPosition())\n",
    "print(\"Hammer rel position: \\t\", hammer.getRelativePosition())"
   ]
  },
  {
   "cell_type": "markdown",
   "metadata": {},
   "source": [
    "### Part B"
   ]
  },
  {
   "cell_type": "code",
   "execution_count": 298,
   "metadata": {},
   "outputs": [
    {
     "name": "stdout",
     "output_type": "stream",
     "text": [
      "Quaternion for the rotation in z axis:  [0.9238795325112867, 0, 0, 0.3826834323650898]\n"
     ]
    }
   ],
   "source": [
    "# add mug obj, \n",
    "# size: [0.05, 0.05, 0.2, .01]\n",
    "# color: [ 0.2, 0.2 ,0.2 ]\n",
    "# relPos: [-0.1,-0.1, 0.5]\n",
    "mug = C.addFrame(name=\"mug\", parent=\"sink1\")\n",
    "mug.setShape(ry.ST.ssBox, size=[ 0.05, 0.05, 0.2, 0.01 ]) \\\n",
    "  .setColor([ 0.2, 0.2 ,0.2 ]) \\\n",
    "  .setRelativePosition( [ -0.1, -0.1, 0.5 ] )\n",
    "\n",
    "# add tray obj, \n",
    "# size: [0.2, 0.2, 0.05, 0.02]\n",
    "# color: [ 0, 1, 0 ]\n",
    "# relPos: [0, 0, 0.42]\n",
    "# quat: [0.9238795325112867, 0, 0, 0.3826834323650898]\n",
    "\n",
    "tray = C.addFrame(name=\"tray\", parent=\"stove1\")\n",
    "tray.setShape(type=ry.ST.ssBox, size=[0.2, 0.2, 0.05, 0.02]) \\\n",
    "  .setColor([ 0, 1, 0 ]) \\\n",
    "  .setRelativePosition( [ 0, 0, 0.42 ] ) \\\n",
    "  .setQuaternion( quat_rotate_z( pi/4 ) )   # rotated in z-axis by pi/4 OR 45 degrees\n",
    "  \n",
    "C.view()\n",
    "print(\"Quaternion for the rotation in z axis: \", quat_rotate_z( pi/4 ))"
   ]
  },
  {
   "cell_type": "markdown",
   "metadata": {},
   "source": [
    "### Part C"
   ]
  },
  {
   "cell_type": "code",
   "execution_count": 299,
   "metadata": {},
   "outputs": [
    {
     "name": "stdout",
     "output_type": "stream",
     "text": [
      "[0.2  0.2  0.05 0.02]\n"
     ]
    }
   ],
   "source": [
    "# make the tray bigger to carry both of the items\n",
    "trayCurSize = tray.getSize()\n",
    "print(trayCurSize)"
   ]
  },
  {
   "cell_type": "code",
   "execution_count": 300,
   "metadata": {},
   "outputs": [
    {
     "data": {
      "text/plain": [
       "0"
      ]
     },
     "execution_count": 300,
     "metadata": {},
     "output_type": "execute_result"
    }
   ],
   "source": [
    "tray.setShape(type=ry.ST.ssBox, size=( [ 0.4, 0.4, 0.05, 0.02 ] ))\n",
    "\n",
    "C.view()"
   ]
  },
  {
   "cell_type": "code",
   "execution_count": 301,
   "metadata": {},
   "outputs": [
    {
     "data": {
      "text/plain": [
       "<robotic._robotic.Frame at 0x7ff15960b2f0>"
      ]
     },
     "execution_count": 301,
     "metadata": {},
     "output_type": "execute_result"
    }
   ],
   "source": [
    "# first remove hammer's old parent, i.e. sink1, and mug's ld parent, i.e. stove1\n",
    "hammer.unLink()\n",
    "mug.unLink()\n",
    "\n",
    "# reset positions (or rather pose, but orientation remained unchanged so no need to change it here)\n",
    "hammer.setPosition([0, 0, 0])\n",
    "handle.setPosition([0, 0, 0])\n",
    "mug.setPosition([0, 0, 0])"
   ]
  },
  {
   "cell_type": "code",
   "execution_count": 302,
   "metadata": {},
   "outputs": [
    {
     "data": {
      "text/plain": [
       "0"
      ]
     },
     "execution_count": 302,
     "metadata": {},
     "output_type": "execute_result"
    }
   ],
   "source": [
    "# Now set tray as new parent of hammer and mug\n",
    "hammer.setParent(tray, False, False)\n",
    "mug.setParent(tray, False, False)\n",
    "\n",
    "C.view()"
   ]
  },
  {
   "cell_type": "code",
   "execution_count": 303,
   "metadata": {},
   "outputs": [
    {
     "data": {
      "text/plain": [
       "0"
      ]
     },
     "execution_count": 303,
     "metadata": {},
     "output_type": "execute_result"
    }
   ],
   "source": [
    "# now re-adjust positions of mug and hammer as before\n",
    "# Also, raise their z axis so that they're just above the tray surface\n",
    "mug_midpoint_z = 0.2 / 2\n",
    "hammer_midpoint_z = 0.03 / 2\n",
    "tray_midpoint_z = 0.05 / 2\n",
    "stove1_midpoint_z = 0.4 / 2\n",
    "mug.setRelativePosition( [-0.1, -0.1, mug_midpoint_z + tray_midpoint_z ] )\n",
    "hammer.setRelativePosition( [ (0.1/0.6) * 0.4 , (0.1/0.6) * 0.4 , hammer_midpoint_z + tray_midpoint_z ] )\n",
    "\n",
    "# State1\n",
    "C.view()"
   ]
  },
  {
   "cell_type": "code",
   "execution_count": 304,
   "metadata": {},
   "outputs": [
    {
     "data": {
      "text/plain": [
       "0"
      ]
     },
     "execution_count": 304,
     "metadata": {},
     "output_type": "execute_result"
    }
   ],
   "source": [
    "# now place tray above table1\n",
    "tray.unLink()\n",
    "\n",
    "# get table1 frame\n",
    "table1_f = C.getFrame(\"table1\")\n",
    "tray.setParent(table1_f, False, False) \\\n",
    "  .setRelativePosition( [0, 0, 0.42] ) \\\n",
    "  .setQuaternion( quat_rotate_z( 3 * np.pi/4 ) )\n",
    "\n",
    "\n",
    "# tray.setShape(type=ry.ST.ssBox, size=(tray.getSize() * 2))\n",
    "\n",
    "C.view()"
   ]
  },
  {
   "cell_type": "code",
   "execution_count": 307,
   "metadata": {},
   "outputs": [
    {
     "name": "stdout",
     "output_type": "stream",
     "text": [
      "Hammer position rel to tray:  [0.06666667 0.06666667 0.04      ]\n",
      "Hammer position:  [1.90571910e+00 1.38777878e-17 8.45000000e-01]\n",
      "Mug position rel to tray:  [-0.1   -0.1    0.125]\n",
      "Mug position:  [ 2.14142136e+00 -1.38777878e-17  9.30000000e-01]\n"
     ]
    }
   ],
   "source": [
    "print(\"Hammer position rel to tray: \", hammer.getRelativePosition())\n",
    "print(\"Hammer position: \", hammer.getPosition())\n",
    "\n",
    "print(\"Mug position rel to tray: \", mug.getRelativePosition())\n",
    "print(\"Mug position: \", mug.getPosition())\n"
   ]
  },
  {
   "cell_type": "markdown",
   "metadata": {},
   "source": [
    "### Part D"
   ]
  },
  {
   "cell_type": "code",
   "execution_count": 218,
   "metadata": {},
   "outputs": [
    {
     "name": "stdout",
     "output_type": "stream",
     "text": [
      "[ 2.14 -0.02  0.94]\n",
      "Tray relPos to table1:  [0.   0.   0.43]\n",
      "Tray quat to table1:  [-0.9486833   0.          0.         -0.31622777]\n",
      "\n",
      "Mug relPos to tray:  [-0.1   -0.1    0.125]\n",
      "Mug quat to tray:  [1. 0. 0. 0.]\n",
      "\n"
     ]
    }
   ],
   "source": [
    "origsize = mug.getSize()\n",
    "curMugPos = mug.getPosition()\n",
    "print(curMugPos)\n",
    "print(\"Tray relPos to table1: \", tray.getRelativePosition())\n",
    "print(\"Tray quat to table1: \", tray.getRelativeQuaternion())\n",
    "print()\n",
    "\n",
    "print(\"Mug relPos to tray: \", mug.getRelativePosition())\n",
    "print(\"Mug quat to tray: \", mug.getRelativeQuaternion())\n",
    "print()\n"
   ]
  },
  {
   "cell_type": "code",
   "execution_count": 219,
   "metadata": {},
   "outputs": [
    {
     "data": {
      "text/plain": [
       "0"
      ]
     },
     "execution_count": 219,
     "metadata": {},
     "output_type": "execute_result"
    }
   ],
   "source": [
    "sink1 = C.getFrame(\"sink1\")\n",
    "sink1.getPosition()\n",
    "\n",
    "\n",
    "mug.unLink()\n",
    "mug.setParent(sink1, False, False)\n",
    "mug.setRelativePosition([ 0, 0, 0.5 ])\n",
    "# mug.setShape(ry.ST.ssBox, size=(origsize * 1))\n",
    "C.view()"
   ]
  },
  {
   "cell_type": "markdown",
   "metadata": {},
   "source": [
    "# 2 Two Link Manipulator"
   ]
  },
  {
   "cell_type": "code",
   "execution_count": 16,
   "metadata": {},
   "outputs": [
    {
     "data": {
      "text/plain": [
       "[0.7071067811865476, 0, 0, 0.7071067811865475]"
      ]
     },
     "execution_count": 16,
     "metadata": {},
     "output_type": "execute_result"
    }
   ],
   "source": [
    "import robotic as ry\n",
    "import numpy as np\n",
    "import time\n",
    "\n",
    "pi = np.pi\n",
    "# some functions I wrote to convert rotation in an axis to quaternion\n",
    " \n",
    "# General form -> quaternion=[cos(θ/2), xsin(θ/2), ysin(θ/2), zsin(θ/2)]\n",
    "  \n",
    "def quat_rotate_x(theta):\n",
    "  # Creates a quaternion for rotation by angle theta around the X-axis: scalar= θ/2 and xyz = [1, 0, 0]\n",
    "  return [np.cos(theta / 2), np.sin(theta / 2), 0, 0]\n",
    "\n",
    "def quat_rotate_y(theta):\n",
    "  # Creates a quaternion for rotation by angle theta around the X-axis: scalar= θ/2 and xyz = [1, 0, 0]\n",
    "  return [np.cos(theta / 2), 0, np.sin(theta / 2), 0]\n",
    "\n",
    "def quat_rotate_z(theta):\n",
    "  # Creates a quaternion for rotation by angle theta around the Z-axis: scalar= θ/2 and xyz = [0, 0, 1]\n",
    "  return [np.cos(theta / 2), 0, 0, np.sin(theta / 2)]\n",
    "\n",
    "def quaternion_rotation_axis(theta, axis):\n",
    "  # Creates a quaternion for rotation by angle theta around an arbitrary axis [x, y, z].\n",
    "  \n",
    "  # axis is given as unit vectors in xyz. e.g. rotation around x-axis will have axis [1, 0, 0]\n",
    "  axis_length = np.sqrt(np.sum(np.square(axis)))\n",
    "  unit_axis = [component / axis_length for component in axis]\n",
    "  \n",
    "  return [np.cos(theta / 2)] + [np.sin(theta / 2) * component for component in unit_axis]\n",
    "\n",
    "quat_rotate_z(np.pi/2)\n"
   ]
  },
  {
   "cell_type": "markdown",
   "metadata": {},
   "source": [
    "### Part A\n",
    "Modified .g file is hw1_two_link_manipulator.g"
   ]
  },
  {
   "cell_type": "code",
   "execution_count": 17,
   "metadata": {},
   "outputs": [
    {
     "data": {
      "text/plain": [
       "0"
      ]
     },
     "execution_count": 17,
     "metadata": {},
     "output_type": "execute_result"
    }
   ],
   "source": [
    "C = ry.Config()\n",
    "C.addFile(\"hw1_two_link_manipulator.g\")\n",
    "C.view()"
   ]
  },
  {
   "cell_type": "markdown",
   "metadata": {},
   "source": [
    "### Part B"
   ]
  },
  {
   "cell_type": "code",
   "execution_count": 33,
   "metadata": {},
   "outputs": [
    {
     "name": "stdout",
     "output_type": "stream",
     "text": [
      "Pos_target:  [0, 0.015916560997032314, -0.041471782558546166]\n",
      "Joint angles:  [4.32371971 3.18601754 3.04193417]\n"
     ]
    }
   ],
   "source": [
    "target = C.getFrame(\"target\")\n",
    "# initialise joint angles to random\n",
    "joint_angles = 2 * np.pi * np.random.rand(3)\n",
    "def forward_kinematics(q):\n",
    "  # get the random angles\n",
    "  q0 = q[0]\n",
    "  q1 = q[1]\n",
    "  \n",
    "  # Method 1: \n",
    "  y_P_blue_red = np.sin(q0)\n",
    "  z_P_blue_red = np.cos(q0)\n",
    "  \n",
    "  y_P_green_blue = np.sin(q0) * np.cos(q1) + np.cos(q0) * np.sin(q1)\n",
    "  z_P_green_blue = np.cos(q0) * np.cos(q1) - np.sin(q0) * np.sin(q1)\n",
    "  \n",
    "  # now to get pos of red rel to green, we add pos of red rel to blue with pos of blue to green\n",
    "  y_P_green_red = y_P_blue_red + y_P_green_blue\n",
    "  z_P_green_red = z_P_blue_red + z_P_green_blue\n",
    "  # return np.array( [0, y_P_green_red, z_P_green_red] )\n",
    "  \n",
    "  # Method 2\n",
    "  y = np.sin(q0) + np.sin(q0+q1)\n",
    "  z = np.cos(q0) + np.cos(q0+q1)\n",
    "  return ([ 0, y, z ])\n",
    "\n",
    "\n",
    "# this is the target that my FK function has output for the current iteration\n",
    "pos_target = forward_kinematics(joint_angles)\n",
    "# ok so over here we place the target at the position produced by my FK function\n",
    "target.setPosition( pos_target )\n",
    "# set joint_angles\n",
    "C.setJointState( joint_angles )\n",
    "C.view()\n",
    "print(\"Pos_target: \", pos_target)\n",
    "print(\"Joint angles: \", joint_angles)"
   ]
  },
  {
   "cell_type": "code",
   "execution_count": 15,
   "metadata": {},
   "outputs": [
    {
     "data": {
      "text/plain": [
       "<robotic._robotic.Frame at 0x7ff159607630>"
      ]
     },
     "execution_count": 15,
     "metadata": {},
     "output_type": "execute_result"
    }
   ],
   "source": [
    "# Restart joint congif gor next run\n",
    "q = np.zeros(C.getJointDimension())\n",
    "C.setJointState(q)\n",
    "target.setPosition( [0,0,0] )"
   ]
  },
  {
   "cell_type": "markdown",
   "metadata": {},
   "source": [
    "### Part C"
   ]
  },
  {
   "cell_type": "code",
   "execution_count": 53,
   "metadata": {},
   "outputs": [],
   "source": [
    "def Jacobian(q):\n",
    "    q0 = q[0]\n",
    "    q1 = q[1]\n",
    "\n",
    "    # y = sin(q0) + sin(q0+q1) = sin(q0) + sin(q0)*cos(q1) + sin(q1)*cos(q0)\n",
    "    # z = cos(q0) + cos(q0+q1) = cos(q0) + cos(q0)*cos(q1) - sin(q0)*sin(q1)\n",
    "\n",
    "    j = np.zeros((2, 2))\n",
    "\n",
    "    j[0][0] = np.cos(q0) + np.cos(q0)*np.cos(q1) - np.sin(q0)*np.sin(q1)\n",
    "    j[0][1] = -np.sin(q0)*np.sin(q1) + np.sin(q1)*np.cos(q0)\n",
    "    j[1][0] = -np.sin(q0) - np.sin(q0)*np.cos(q1) - np.cos(q0)*np.sin(q1)\n",
    "    j[1][1] = -np.sin(q1)*np.cos(q0) - np.cos(q1)*np.sin(q0)\n",
    "\n",
    "    return j"
   ]
  },
  {
   "cell_type": "code",
   "execution_count": 54,
   "metadata": {},
   "outputs": [
    {
     "name": "stdout",
     "output_type": "stream",
     "text": [
      "[[ 0.01474768  0.0207258 ]\n",
      " [-0.00604877  0.92214929]]\n"
     ]
    }
   ],
   "source": [
    "print(Jacobian([1.95205226, 3.15753276, 0]))"
   ]
  },
  {
   "cell_type": "markdown",
   "metadata": {},
   "source": [
    "### Part D"
   ]
  },
  {
   "cell_type": "markdown",
   "metadata": {},
   "source": [
    "(Kinematic) Singularities at tan(q0 + q1) = tan(q0), i.e. <br>\n",
    "1. arm is fully extended (q1 = 0) OR \n",
    "2. arm is folded at jointB (q1 = pi)"
   ]
  },
  {
   "cell_type": "markdown",
   "metadata": {},
   "source": [
    "# 3 Spatial Velocity for Moving Frame"
   ]
  },
  {
   "cell_type": "code",
   "execution_count": null,
   "metadata": {},
   "outputs": [],
   "source": []
  }
 ],
 "metadata": {
  "kernelspec": {
   "display_name": "rai_venv",
   "language": "python",
   "name": "python3"
  },
  "language_info": {
   "codemirror_mode": {
    "name": "ipython",
    "version": 3
   },
   "file_extension": ".py",
   "mimetype": "text/x-python",
   "name": "python",
   "nbconvert_exporter": "python",
   "pygments_lexer": "ipython3",
   "version": "3.8.10"
  }
 },
 "nbformat": 4,
 "nbformat_minor": 2
}
