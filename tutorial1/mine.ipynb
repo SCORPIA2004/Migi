{
 "cells": [
  {
   "cell_type": "code",
   "execution_count": 1,
   "metadata": {},
   "outputs": [],
   "source": [
    "import robotic as ry"
   ]
  },
  {
   "cell_type": "code",
   "execution_count": 2,
   "metadata": {},
   "outputs": [
    {
     "name": "stdout",
     "output_type": "stream",
     "text": [
      "Frame name:  first\n",
      "pos:  [0.  0.  0.5]\n",
      "quat:  [0.95782629 0.28734789 0.         0.        ]\n"
     ]
    },
    {
     "data": {
      "text/plain": [
       "0"
      ]
     },
     "execution_count": 2,
     "metadata": {},
     "output_type": "execute_result"
    }
   ],
   "source": [
    "# define the configuration \n",
    "C = ry.Config()\n",
    "\n",
    "# add a frame to the configuration\n",
    "f = C.addFrame(name=\"first\")\n",
    "\n",
    "# give the frame a shape, position and size(using quaternion)\n",
    "f.setShape(type=ry.ST.marker, size=[.3])\n",
    "# setPosition([x, y, z])\n",
    "f.setPosition([ .0, .0, .5 ])\n",
    "\n",
    "# setQuaternion([w, x, y, z]) where w is the real part (i.e. cos(theta/2) )\n",
    "f.setQuaternion( [ 1.0, .3, .0, .0 ] )\n",
    "\n",
    "print(\"Frame name: \", f.name)\n",
    "print(\"pos: \", f.getPosition())\n",
    "print(\"quat: \", f.getQuaternion())\n",
    "\n",
    "C.view()"
   ]
  },
  {
   "cell_type": "code",
   "execution_count": 3,
   "metadata": {},
   "outputs": [
    {
     "data": {
      "text/plain": [
       "0"
      ]
     },
     "execution_count": 3,
     "metadata": {},
     "output_type": "execute_result"
    }
   ],
   "source": [
    "C.clear()\n",
    "\n",
    "# add a frame to add a box to the configuration\n",
    "C.addFrame(\"box1\") \\\n",
    "  .setPosition([0, 0, .25]) \\\n",
    "  .setShape(ry.ST.ssBox, size=[.5, .5, .5, .05]) \\\n",
    "  .setColor([1, .5, 0]) \\\n",
    "  .setMass(.1) \\\n",
    "  .setContact(True)\n",
    "\n",
    "C.view()"
   ]
  },
  {
   "cell_type": "code",
   "execution_count": 6,
   "metadata": {},
   "outputs": [
    {
     "name": "stdout",
     "output_type": "stream",
     "text": [
      "Position:  [0.   0.   1.75]\n",
      "Orientation:  [1. 0. 0. 0.]\n",
      "-- WARNING:kin.cpp:addFrame:193(-1) frame already exists! returning existing without modifications!\n"
     ]
    },
    {
     "data": {
      "text/plain": [
       "0"
      ]
     },
     "execution_count": 6,
     "metadata": {},
     "output_type": "execute_result"
    }
   ],
   "source": [
    "C.addFrame(name=\"box2\", parent=\"box1\") \\\n",
    "  .setShape(ry.ST.ssBox, size=[ .5, .5, .5, .05 ]) \\\n",
    "  .setRelativePosition([ .0, .0, 1.5 ]) \\\n",
    "  .setColor([ 0, 0, 1 ])  \n",
    "# position will be set relative to the parent \n",
    "# frame's origin, i.e. box1's origin (0.5, 0.5, 0.5)\n",
    "\n",
    "f = C.getFrame(\"box2\")\n",
    "print(\"Position: \", f.getPosition())\n",
    "print(\"Orientation: \", f.getQuaternion())\n",
    "\n",
    "C.view()"
   ]
  },
  {
   "cell_type": "code",
   "execution_count": 8,
   "metadata": {},
   "outputs": [
    {
     "data": {
      "text/plain": [
       "['box1', 'box2']"
      ]
     },
     "execution_count": 8,
     "metadata": {},
     "output_type": "execute_result"
    }
   ],
   "source": [
    "# show all the frames in the configuration\n",
    "C.getFrameNames()"
   ]
  },
  {
   "cell_type": "code",
   "execution_count": 12,
   "metadata": {},
   "outputs": [
    {
     "data": {
      "text/plain": [
       "0"
      ]
     },
     "execution_count": 12,
     "metadata": {},
     "output_type": "execute_result"
    }
   ],
   "source": [
    "K = ry.Config()\n",
    "K.addFile(\"mine_two_link.g\")\n",
    "# K.addFile(\"two_link_manipulator.g\")\n",
    "K.view()"
   ]
  },
  {
   "cell_type": "code",
   "execution_count": 15,
   "metadata": {},
   "outputs": [
    {
     "name": "stdout",
     "output_type": "stream",
     "text": [
      "Feature Value:  [2.81896272e-01 1.25455202e-16 8.10370138e-01]\n",
      "Jacobian:  [[-1.25455202e-16  4.77370138e-01 -1.15172364e-16 -2.37213253e-01\n",
      "   0.00000000e+00  3.96841887e-02  0.00000000e+00  0.00000000e+00]\n",
      " [ 2.81896272e-01  6.25935464e-17  5.54002326e-01  2.79346636e-16\n",
      "   1.54786187e-01  2.18260648e-16  4.16333634e-17  0.00000000e+00]\n",
      " [ 0.00000000e+00 -2.81896272e-01 -1.79370329e-16  5.03226163e-01\n",
      "   0.00000000e+00  2.24676245e-01  0.00000000e+00  0.00000000e+00]]\n"
     ]
    },
    {
     "data": {
      "text/plain": [
       "0"
      ]
     },
     "execution_count": 15,
     "metadata": {},
     "output_type": "execute_result"
    }
   ],
   "source": [
    "C.clear()\n",
    "C = ry.Config()\n",
    "C.addFile(ry.raiPath(\"panda/panda.g\"))\n",
    "q = C.getJointState()\n",
    "\n",
    "[y,J] = C.eval(ry.FS.position, [\"gripper\"])\n",
    "print(\"Feature Value: \", y)\n",
    "print(\"Jacobian: \", J)\n",
    "\n",
    "C.view()"
   ]
  }
 ],
 "metadata": {
  "kernelspec": {
   "display_name": "rai_venv",
   "language": "python",
   "name": "python3"
  },
  "language_info": {
   "codemirror_mode": {
    "name": "ipython",
    "version": 3
   },
   "file_extension": ".py",
   "mimetype": "text/x-python",
   "name": "python",
   "nbconvert_exporter": "python",
   "pygments_lexer": "ipython3",
   "version": "3.8.10"
  }
 },
 "nbformat": 4,
 "nbformat_minor": 2
}
