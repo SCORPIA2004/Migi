{
 "cells": [
  {
   "cell_type": "code",
   "execution_count": 2,
   "metadata": {},
   "outputs": [
    {
     "data": {
      "text/plain": [
       "0"
      ]
     },
     "execution_count": 2,
     "metadata": {},
     "output_type": "execute_result"
    }
   ],
   "source": [
    "import robotic as ry\n",
    "import numpy as np\n",
    "\n",
    "K = ry.Config()\n",
    "K.addFile(\"two_link_manipulator.g\")\n",
    "K.view()\n"
   ]
  },
  {
   "cell_type": "code",
   "execution_count": 3,
   "metadata": {},
   "outputs": [],
   "source": [
    "n = K.getJointDimension()\n",
    "q = K.getJointState()\n",
    "w = 1e-1\n",
    "W = w * np.identity(n)\n",
    "\n",
    "y_target = [ 0, 0.7, 0.7 ]\n",
    "\n",
    "for i in range(10):\n",
    "  y, J = K.eval(ry.FS.position, [\"end-effector\"])\n",
    "  \n",
    "  q += np.linalg.inv(J.T @ J + W) @ J.T @ (y_target - y)\n",
    "\n",
    "  K.setJointState(q)\n",
    "  K.view()"
   ]
  }
 ],
 "metadata": {
  "kernelspec": {
   "display_name": "rai_venv",
   "language": "python",
   "name": "python3"
  },
  "language_info": {
   "codemirror_mode": {
    "name": "ipython",
    "version": 3
   },
   "file_extension": ".py",
   "mimetype": "text/x-python",
   "name": "python",
   "nbconvert_exporter": "python",
   "pygments_lexer": "ipython3",
   "version": "3.8.10"
  }
 },
 "nbformat": 4,
 "nbformat_minor": 2
}
