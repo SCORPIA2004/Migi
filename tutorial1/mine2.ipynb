{
 "cells": [
  {
   "cell_type": "code",
   "execution_count": 85,
   "metadata": {},
   "outputs": [],
   "source": [
    "import robotic as ry\n",
    "import numpy as np\n",
    "import time\n",
    "\n",
    "C = ry.Config()\n",
    "C.addFile(ry.raiPath(\"../rai-robotModels/scenarios/pandaSingle.g\"))\n",
    "C.view()\n",
    "target = C.addFrame(\"target\", \"table\")\n",
    "\n",
    "position = 9\n",
    "target.setShape(ry.ST.marker, [.1]) \\\n",
    "  .setRelativePosition([ position, position , position ])\n",
    "\n",
    "pos = target.getPosition()\n",
    "cen = pos.copy()\n",
    "C.view()\n",
    "\n",
    "\n",
    "def IK( C, target, qHome ):\n",
    "  q0 = C.getJointState()\n",
    "  komo = ry.KOMO( C, 1, 10, 0, False )\n",
    "  \n",
    "  komo.addObjective([], ry.FS.accumulatedCollisions, [], ry.OT.eq)          # objective to minimise collisions\n",
    "  komo.addObjective([], ry.FS.jointState, [], ry.OT.sos, [1e-1], q0)        # objective to minimise the cost of joint angles close to current joint state (q0) to minimise movement of robot\n",
    "  komo.addObjective([], ry.FS.jointState, [], ry.OT.sos, [1e-1], qHome)     # objective to minimise the cost of joint angles close to home joint state (qHome) to minimise movement of robot\n",
    "  komo.addObjective([], ry.FS.positionDiff, [\"l_gripper\", target], ry.OT.eq, [1e1])\n",
    "  \n",
    "  returnVal = ry.NLP_Solver(komo.nlp(), verbose=0).solve()\n",
    "  \n",
    "  return [ komo.getPath()[0], returnVal ] "
   ]
  },
  {
   "cell_type": "code",
   "execution_count": 86,
   "metadata": {},
   "outputs": [
    {
     "name": "stdout",
     "output_type": "stream",
     "text": [
      "{ time: 0.030199, evals: 191, done: 1, feasible: 0, sos: 1.07766, f: 0, ineq: 0, eq: 2515.09 }\n",
      "{ time: 0.020582, evals: 134, done: 1, feasible: 0, sos: 0.538486, f: 0, ineq: 0, eq: 2520.18 }\n",
      "{ time: 0.034968, evals: 150, done: 1, feasible: 0, sos: 0.539282, f: 0, ineq: 0, eq: 2523.59 }\n",
      "{ time: 0.031972, evals: 167, done: 1, feasible: 0, sos: 0.539323, f: 0, ineq: 0, eq: 2521.92 }\n",
      "{ time: 0.021979, evals: 131, done: 1, feasible: 0, sos: 0.537687, f: 0, ineq: 0, eq: 2521.71 }\n",
      "{ time: 0.025681, evals: 131, done: 1, feasible: 0, sos: 0.536984, f: 0, ineq: 0, eq: 2519.25 }\n",
      "{ time: 0.016894, evals: 131, done: 1, feasible: 0, sos: 0.538142, f: 0, ineq: 0, eq: 2521.66 }\n",
      "{ time: 0.015192, evals: 139, done: 1, feasible: 0, sos: 0.539216, f: 0, ineq: 0, eq: 2519.39 }\n",
      "{ time: 0.017074, evals: 131, done: 1, feasible: 0, sos: 0.539965, f: 0, ineq: 0, eq: 2523.93 }\n",
      "{ time: 0.022009, evals: 142, done: 1, feasible: 0, sos: 0.540792, f: 0, ineq: 0, eq: 2518.66 }\n",
      "{ time: 0.018376, evals: 131, done: 1, feasible: 0, sos: 0.540868, f: 0, ineq: 0, eq: 2527.1 }\n",
      "{ time: 0.021247, evals: 131, done: 1, feasible: 0, sos: 0.540807, f: 0, ineq: 0, eq: 2529.43 }\n",
      "{ time: 0.020625, evals: 131, done: 1, feasible: 0, sos: 0.541283, f: 0, ineq: 0, eq: 2526.14 }\n",
      "{ time: 0.024323, evals: 150, done: 1, feasible: 0, sos: 0.541354, f: 0, ineq: 0, eq: 2522.82 }\n",
      "{ time: 0.024701, evals: 131, done: 1, feasible: 0, sos: 0.541318, f: 0, ineq: 0, eq: 2522.5 }\n",
      "{ time: 0.014785, evals: 131, done: 1, feasible: 0, sos: 0.540403, f: 0, ineq: 0, eq: 2521.14 }\n",
      "{ time: 0.016998, evals: 123, done: 1, feasible: 0, sos: 0.539291, f: 0, ineq: 0, eq: 2523.56 }\n",
      "{ time: 0.044875, evals: 158, done: 1, feasible: 0, sos: 0.539212, f: 0, ineq: 0, eq: 2524.95 }\n",
      "{ time: 0.016039, evals: 131, done: 1, feasible: 0, sos: 0.539168, f: 0, ineq: 0, eq: 2522.72 }\n",
      "{ time: 0.055309, evals: 163, done: 1, feasible: 0, sos: 0.538862, f: 0, ineq: 0, eq: 2519.35 }\n"
     ]
    }
   ],
   "source": [
    "# first move the robot to the initial position\n",
    "qHome = C.getJointState()\n",
    "\n",
    "for t in range(20):\n",
    " time.sleep(.1)\n",
    " pos = cen + .98 * (pos-cen) + 0.02 * np.random.randn(3)\n",
    " target.setPosition(pos)\n",
    " q_target, ret = IK(C, \"target\", qHome)\n",
    " print(ret)\n",
    " C.setJointState(q_target)\n",
    " C.view()\n"
   ]
  }
 ],
 "metadata": {
  "kernelspec": {
   "display_name": "rai_venv",
   "language": "python",
   "name": "python3"
  },
  "language_info": {
   "codemirror_mode": {
    "name": "ipython",
    "version": 3
   },
   "file_extension": ".py",
   "mimetype": "text/x-python",
   "name": "python",
   "nbconvert_exporter": "python",
   "pygments_lexer": "ipython3",
   "version": "3.8.10"
  }
 },
 "nbformat": 4,
 "nbformat_minor": 2
}
