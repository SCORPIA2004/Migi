{
 "cells": [
  {
   "cell_type": "markdown",
   "metadata": {},
   "source": [
    "# Introduction\n",
    "\n",
    "In RAI, the Configuration is a central concept representing the complete state of the robotic environment, encompassing both the robot and any objects in the world. It serves as a container for all relevant simulation information, including the positions, orientations, and kinematic relationships of objects and robot links.\n",
    "\n",
    "Another key term is Frame. A Frame represents a reference point or a rigid body in the environment. It defines the position, orientation, and kinematic relationships of objects or robot components. Frames can have shapes (such as boxes or spheres) attached to them and are connected by joints or constraints, forming a kinematic tree."
   ]
  },
  {
   "cell_type": "code",
   "execution_count": 2,
   "metadata": {},
   "outputs": [],
   "source": [
    "import robotic as ry\n",
    "# ry.test.RndScene()"
   ]
  },
  {
   "cell_type": "code",
   "execution_count": 2,
   "metadata": {},
   "outputs": [
    {
     "name": "stdout",
     "output_type": "stream",
     "text": [
      "Frame name:  object\n",
      "Frame position:  [0.  0.  0.5]\n",
      "Frame quaternion:  [0.95782629 0.28734789 0.         0.        ]\n"
     ]
    },
    {
     "data": {
      "text/plain": [
       "0"
      ]
     },
     "execution_count": 2,
     "metadata": {},
     "output_type": "execute_result"
    }
   ],
   "source": [
    "# create a new configuration: it represents the complete state of the robotic environment, including all objects and robots \n",
    "# and their respective joint positions, kinematics relations, etc.\n",
    "envConfiguration = ry.Config()\n",
    "\n",
    "# now we add a Frame to the configuration, which represents an object in the scene\n",
    "frame = envConfiguration.addFrame(name=\"object\") \n",
    "\n",
    "# we can set the frame's shape, position, quaternion, etc.\n",
    "frame.setShape(type=ry.ST.marker, size=[.5])\n",
    "frame.setPosition([0.0 ,0.0 , 0.5])\n",
    "frame.setQuaternion([1.0, 0.3, 0.0, .0]) \n",
    "print(\"Frame name: \", frame.name)\n",
    "print(\"Frame position: \", frame.getPosition())\n",
    "print(\"Frame quaternion: \", frame.getQuaternion())\n",
    "\n",
    "# visualize the configuration\n",
    "envConfiguration.view() \n"
   ]
  },
  {
   "cell_type": "code",
   "execution_count": 3,
   "metadata": {},
   "outputs": [
    {
     "name": "stdout",
     "output_type": "stream",
     "text": [
      "frame name: first\n",
      "pos: [0.  0.  0.5]\n",
      "quat: [0.95782629 0.28734789 0.         0.        ]\n"
     ]
    },
    {
     "data": {
      "text/plain": [
       "0"
      ]
     },
     "execution_count": 3,
     "metadata": {},
     "output_type": "execute_result"
    }
   ],
   "source": [
    "# Create our configuration \n",
    "C = ry.Config()\n",
    "\n",
    "# Add the first frame.\n",
    "f = C.addFrame(name=\"first\")\n",
    "f.setShape(type=ry.ST.marker, size=[.3])\n",
    "f.setPosition([0.0 ,0.0 , 0.5])\n",
    "f.setQuaternion([1.0, 0.3, 0.0, .0]) \n",
    "print(\"frame name:\", f.name)\n",
    "print(\"pos:\", f.getPosition()) \n",
    "print(\"quat:\", f.getQuaternion())\n",
    "C.view()\n"
   ]
  },
  {
   "cell_type": "markdown",
   "metadata": {},
   "source": [
    "C.view() opens a view window. You can right-click on the window bar and select \"Always on Top.\""
   ]
  },
  {
   "cell_type": "markdown",
   "metadata": {},
   "source": [
    "# Adding a Box to the Environment"
   ]
  },
  {
   "cell_type": "markdown",
   "metadata": {},
   "source": [
    "Let's clear the configuration and add a new box object."
   ]
  },
  {
   "cell_type": "code",
   "execution_count": 4,
   "metadata": {},
   "outputs": [],
   "source": [
    "C.clear()"
   ]
  },
  {
   "cell_type": "code",
   "execution_count": 5,
   "metadata": {},
   "outputs": [
    {
     "data": {
      "text/plain": [
       "0"
      ]
     },
     "execution_count": 5,
     "metadata": {},
     "output_type": "execute_result"
    }
   ],
   "source": [
    "C.addFrame(\"box1\") \\\n",
    "    .setPosition([0, 0, .25]) \\\n",
    "    .setShape(ry.ST.ssBox, size=[.5, .5, .5, .05]) \\\n",
    "    .setColor([1, .5, 0]) \\\n",
    "    .setMass(.1) \\\n",
    "    .setContact(True)\n",
    "C.view()"
   ]
  },
  {
   "cell_type": "markdown",
   "metadata": {},
   "source": [
    "# Relative Positions"
   ]
  },
  {
   "cell_type": "markdown",
   "metadata": {},
   "source": [
    "Add a second box 1 meter above the first one."
   ]
  },
  {
   "cell_type": "code",
   "execution_count": 5,
   "metadata": {},
   "outputs": [
    {
     "data": {
      "text/plain": [
       "0"
      ]
     },
     "execution_count": 5,
     "metadata": {},
     "output_type": "execute_result"
    }
   ],
   "source": [
    "box2 = C.addFrame(name=\"box2\", parent=\"box1\")\n",
    "box2.setShape(ry.ST.ssBox, size=[.5, .5, .5, .05])\n",
    "box2.setRelativePosition([0,0,1])\n",
    "box2.setColor([0,0,1])\n",
    "\n",
    "C.view()"
   ]
  },
  {
   "cell_type": "markdown",
   "metadata": {},
   "source": [
    "Display the position and orientation of the second box."
   ]
  },
  {
   "cell_type": "code",
   "execution_count": 6,
   "metadata": {},
   "outputs": [
    {
     "name": "stdout",
     "output_type": "stream",
     "text": [
      "position: [0.   0.   1.25]\n",
      "orientation: [1. 0. 0. 0.]\n"
     ]
    }
   ],
   "source": [
    "f = C.getFrame(\"box2\")\n",
    "print(\"position:\", f.getPosition()) \n",
    "print(\"orientation:\", f.getQuaternion())"
   ]
  },
  {
   "cell_type": "markdown",
   "metadata": {},
   "source": [
    "# Creating Two Link Manipulator"
   ]
  },
  {
   "cell_type": "markdown",
   "metadata": {},
   "source": [
    "We will create a two-link planar manipulator system using .g files. The two_link_manipulator.g file defines the links and joints of the manipulator. We simply need to use the ry.addFile() method to add the contents of the .g files to the configuration. Additionally, we will include the Franka Panda robot using these files."
   ]
  },
  {
   "cell_type": "code",
   "execution_count": 7,
   "metadata": {},
   "outputs": [
    {
     "data": {
      "text/plain": [
       "0"
      ]
     },
     "execution_count": 7,
     "metadata": {},
     "output_type": "execute_result"
    }
   ],
   "source": [
    "K = ry.Config()\n",
    "K.addFile(\"two_link_manipulator.g\")\n",
    "K.view()"
   ]
  },
  {
   "cell_type": "markdown",
   "metadata": {},
   "source": [
    "# Features"
   ]
  },
  {
   "cell_type": "code",
   "execution_count": 8,
   "metadata": {},
   "outputs": [
    {
     "name": "stdout",
     "output_type": "stream",
     "text": [
      "feature value: [2.81896272e-01 1.25455202e-16 8.10370138e-01] \n",
      "Jacobian: [[-1.25455202e-16  4.77370138e-01 -1.15172364e-16 -2.37213253e-01\n",
      "   0.00000000e+00  3.96841887e-02  0.00000000e+00  0.00000000e+00]\n",
      " [ 2.81896272e-01  6.25935464e-17  5.54002326e-01  2.79346636e-16\n",
      "   1.54786187e-01  2.18260648e-16  4.16333634e-17  0.00000000e+00]\n",
      " [ 0.00000000e+00 -2.81896272e-01 -1.79370329e-16  5.03226163e-01\n",
      "   0.00000000e+00  2.24676245e-01  0.00000000e+00  0.00000000e+00]]\n"
     ]
    },
    {
     "data": {
      "text/plain": [
       "0"
      ]
     },
     "execution_count": 8,
     "metadata": {},
     "output_type": "execute_result"
    }
   ],
   "source": [
    "C.clear()\n",
    "\n",
    "C = ry.Config()\n",
    "C.addFile(ry.raiPath(\"panda/panda.g\"))\n",
    "q = C.getJointState()\n",
    "[y,J] = C.eval(ry.FS.position, [\"gripper\"])\n",
    "print(\"feature value:\", y, \"\\nJacobian:\", J)\n",
    "C.view()"
   ]
  },
  {
   "cell_type": "code",
   "execution_count": 9,
   "metadata": {},
   "outputs": [],
   "source": [
    "del C\n",
    "del K"
   ]
  },
  {
   "cell_type": "markdown",
   "metadata": {},
   "source": [
    "# Inverse Kinematics"
   ]
  },
  {
   "cell_type": "markdown",
   "metadata": {},
   "source": [
    "Add Franka Panda robot to the configuration"
   ]
  },
  {
   "cell_type": "code",
   "execution_count": 11,
   "metadata": {},
   "outputs": [
    {
     "data": {
      "text/plain": [
       "0"
      ]
     },
     "execution_count": 11,
     "metadata": {},
     "output_type": "execute_result"
    }
   ],
   "source": [
    "import robotic as ry\n",
    "import numpy as np\n",
    "import time\n",
    "C = ry.Config()\n",
    "C.addFile(ry.raiPath(\"../rai-robotModels/scenarios/pandaSingle.g\"))\n",
    "C.view()"
   ]
  },
  {
   "cell_type": "markdown",
   "metadata": {},
   "source": [
    "Add the target frame"
   ]
  },
  {
   "cell_type": "code",
   "execution_count": 12,
   "metadata": {},
   "outputs": [
    {
     "data": {
      "text/plain": [
       "0"
      ]
     },
     "execution_count": 12,
     "metadata": {},
     "output_type": "execute_result"
    }
   ],
   "source": [
    "target = C.addFrame(\"target\", \"table\")\n",
    "target.setShape(ry.ST.marker, [.1])\n",
    "target.setRelativePosition([0., .3, .3])\n",
    "pos = target.getPosition()\n",
    "cen = pos.copy()\n",
    "C.view()"
   ]
  },
  {
   "cell_type": "markdown",
   "metadata": {},
   "source": [
    "A basic inverse kinematics approach"
   ]
  },
  {
   "cell_type": "code",
   "execution_count": 13,
   "metadata": {},
   "outputs": [],
   "source": [
    "def IK(C, target, qHome):\n",
    "    # gets current joint angles of robot\n",
    "    q0 = C.getJointState()\n",
    "    # init KOMO with an optimization problem that spans 1 time slice (with no time dimension)\n",
    "    komo = ry.KOMO(C, 1, 1, 0, False)\n",
    "    # robot avoids collisions with itself \n",
    "    komo.addObjective([], ry.FS.accumulatedCollisions, [], ry.OT.eq)\n",
    "    # robot avoids straying too far from its current joint state\n",
    "    komo.addObjective([], ry.FS.jointState, [], ry.OT.sos, [1e-1], q0)\n",
    "    # soft restraint to avoid robot from straying too far from home position\n",
    "    komo.addObjective([], ry.FS.jointState, [], ry.OT.sos\n",
    "    , [1e-1], qHome)\n",
    "    # high priority to minimise difference between gripper and target position\n",
    "    komo.addObjective([], ry.FS.positionDiff, [\"l_gripper\", target]\n",
    "    , ry.OT.eq, [1e1])\n",
    "    ret = ry.NLP_Solver(komo.nlp(), verbose=0) .solve()\n",
    "    return [komo.getPath()[0], ret]"
   ]
  },
  {
   "cell_type": "code",
   "execution_count": 14,
   "metadata": {},
   "outputs": [
    {
     "name": "stdout",
     "output_type": "stream",
     "text": [
      "{ time: 0.001094, evals: 6, done: 1, feasible: 1, sos: 0.00676232, f: 0, ineq: 0, eq: 0.00135438 }\n"
     ]
    },
    {
     "data": {
      "text/plain": [
       "0"
      ]
     },
     "execution_count": 14,
     "metadata": {},
     "output_type": "execute_result"
    }
   ],
   "source": [
    "qHome = C.getJointState()\n",
    "q_target, ret = IK(C, \"target\", qHome)\n",
    "print(ret)\n",
    "C.setJointState(q_target)\n",
    "C.view()"
   ]
  },
  {
   "cell_type": "markdown",
   "metadata": {},
   "source": [
    "Now let’s do it in the loop for better understanding"
   ]
  },
  {
   "cell_type": "code",
   "execution_count": 8,
   "metadata": {},
   "outputs": [
    {
     "name": "stdout",
     "output_type": "stream",
     "text": [
      "{ time: 0.00025, evals: 6, done: 1, feasible: 1, sos: 0.00702667, f: 0, ineq: 0, eq: 0.00171868 }\n",
      "{ time: 0.000224, evals: 3, done: 1, feasible: 1, sos: 0.003321, f: 0, ineq: 0, eq: 0.00362713 }\n",
      "{ time: 0.00014, evals: 2, done: 1, feasible: 1, sos: 0.00335457, f: 0, ineq: 0, eq: 0.00405199 }\n",
      "{ time: 0.000172, evals: 3, done: 1, feasible: 1, sos: 0.00266337, f: 0, ineq: 0, eq: 0.000698304 }\n",
      "{ time: 0.000131, evals: 2, done: 1, feasible: 1, sos: 0.00269385, f: 0, ineq: 0, eq: 0.00881268 }\n",
      "{ time: 0.000174, evals: 3, done: 1, feasible: 1, sos: 0.00241019, f: 0, ineq: 0, eq: 0.0037028 }\n",
      "{ time: 0.000297, evals: 3, done: 1, feasible: 1, sos: 0.00250466, f: 0, ineq: 0, eq: 0.00239418 }\n",
      "{ time: 0.000155, evals: 2, done: 1, feasible: 1, sos: 0.00220208, f: 0, ineq: 0, eq: 0.00265225 }\n",
      "{ time: 0.000442, evals: 3, done: 1, feasible: 1, sos: 0.00251366, f: 0, ineq: 0, eq: 0.00381622 }\n",
      "{ time: 0.000156, evals: 3, done: 1, feasible: 1, sos: 0.00266323, f: 0, ineq: 0, eq: 0.00414282 }\n",
      "{ time: 0.000321, evals: 3, done: 1, feasible: 1, sos: 0.00285663, f: 0, ineq: 0, eq: 0.000596868 }\n",
      "{ time: 0.000141, evals: 3, done: 1, feasible: 1, sos: 0.00272135, f: 0, ineq: 0, eq: 0.00271964 }\n",
      "{ time: 0.000245, evals: 3, done: 1, feasible: 1, sos: 0.00259596, f: 0, ineq: 0, eq: 0.00317754 }\n",
      "{ time: 0.000224, evals: 4, done: 1, feasible: 1, sos: 0.00346902, f: 0, ineq: 0, eq: 0.000460944 }\n",
      "{ time: 0.000322, evals: 4, done: 1, feasible: 1, sos: 0.0030824, f: 0, ineq: 0, eq: 0.000430832 }\n",
      "{ time: 0.000156, evals: 3, done: 1, feasible: 1, sos: 0.00302723, f: 0, ineq: 0, eq: 0.000946563 }\n",
      "{ time: 0.000293, evals: 4, done: 1, feasible: 1, sos: 0.00393828, f: 0, ineq: 0, eq: 0.000373352 }\n",
      "{ time: 0.000258, evals: 4, done: 1, feasible: 1, sos: 0.00500173, f: 0, ineq: 0, eq: 0.000206683 }\n",
      "{ time: 0.000182, evals: 4, done: 1, feasible: 1, sos: 0.00631227, f: 0, ineq: 0, eq: 0.000402426 }\n",
      "{ time: 0.000193, evals: 3, done: 1, feasible: 1, sos: 0.00551471, f: 0, ineq: 0, eq: 0.00243027 }\n"
     ]
    }
   ],
   "source": [
    "for t in range(20):\n",
    "    time.sleep(.1)\n",
    "    pos = cen + .98 * (pos-cen) + 0.02 * np.random.randn(3)\n",
    "    target.setPosition(pos)\n",
    "    q_target, ret = IK(C, \"target\", qHome)\n",
    "    print(ret)\n",
    "    C.setJointState(q_target)\n",
    "    C.view()"
   ]
  },
  {
   "cell_type": "markdown",
   "metadata": {},
   "source": [
    "# Theory of Inverse Kinematics"
   ]
  },
  {
   "cell_type": "markdown",
   "metadata": {},
   "source": [
    "Now, we will solve IK numerically from scratch. Here, we will use the theory behind it, and we will help our robot reach its goal step by step. For this, we will return to our two-link manipulator."
   ]
  },
  {
   "cell_type": "code",
   "execution_count": 8,
   "metadata": {},
   "outputs": [
    {
     "data": {
      "text/plain": [
       "0"
      ]
     },
     "execution_count": 8,
     "metadata": {},
     "output_type": "execute_result"
    }
   ],
   "source": [
    "import robotic as ry\n",
    "import numpy as np\n",
    "import time\n",
    "K = ry.Config()\n",
    "K.addFile(\"two_link_manipulator.g\")\n",
    "K.view()"
   ]
  },
  {
   "cell_type": "markdown",
   "metadata": {},
   "source": [
    "And here is the basic implementation of theoretical inverse kinematics."
   ]
  },
  {
   "cell_type": "code",
   "execution_count": 9,
   "metadata": {},
   "outputs": [],
   "source": [
    "n = K.getJointDimension()\n",
    "q = K.getJointState()\n",
    "w = 1e-1\n",
    "W = w * np.identity(n)\n",
    "y_target = [0., 0.2, 0.6]\n",
    "\n",
    "for i in range(10):\n",
    "    y, J = K.eval(ry.FS.position, [\"end-effector\"])\n",
    "    q += np.linalg.inv(J.T @ J + W) @ J.T @ (y_target - y)\n",
    "    K.setJointState(q)\n",
    "    time.sleep(.5)\n",
    "    K.view()"
   ]
  }
 ],
 "metadata": {
  "kernelspec": {
   "display_name": "rai_venv",
   "language": "python",
   "name": "python3"
  },
  "language_info": {
   "codemirror_mode": {
    "name": "ipython",
    "version": 3
   },
   "file_extension": ".py",
   "mimetype": "text/x-python",
   "name": "python",
   "nbconvert_exporter": "python",
   "pygments_lexer": "ipython3",
   "version": "3.8.10"
  }
 },
 "nbformat": 4,
 "nbformat_minor": 2
}
