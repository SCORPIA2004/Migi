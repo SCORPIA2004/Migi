{
 "cells": [
  {
   "cell_type": "markdown",
   "metadata": {},
   "source": [
    "### Part 0: Initialisation and saving qHome"
   ]
  },
  {
   "cell_type": "code",
   "execution_count": 28,
   "metadata": {},
   "outputs": [
    {
     "name": "stdout",
     "output_type": "stream",
     "text": [
      "[ 0.   0.   0.   0.  -0.5  0.  -2.   0.   2.  -0.5]\n"
     ]
    }
   ],
   "source": [
    "import robotic as ry\n",
    "import time\n",
    "max_trials = 10\n",
    "max_vel = 100\n",
    "max_acc = max_vel\n",
    "\n",
    "C = ry.Config()\n",
    "C.addFile(ry.raiPath('Question-01/environment/cargo.g'))\n",
    "C.addFile(ry.raiPath('Question-01/environment/cargobot.g'))\n",
    "C.addFile(ry.raiPath('Question-01/environment/maze.g'))\n",
    "\n",
    "C.view()\n",
    "qHome = C.getJointState()\n",
    "print(qHome)"
   ]
  },
  {
   "cell_type": "markdown",
   "metadata": {},
   "source": [
    "### 1.1 Part A: gripper to cargo handle position KOMO_1"
   ]
  },
  {
   "cell_type": "code",
   "execution_count": 29,
   "metadata": {},
   "outputs": [
    {
     "name": "stdout",
     "output_type": "stream",
     "text": [
      "KOMO_1 is feasible\n"
     ]
    }
   ],
   "source": [
    "# komo_1 = ry.KOMO(C, phases=1, slicesPerPhase=30, kOrder=1, enableCollisions=False)\n",
    "komo_1 = ry.KOMO()\n",
    "komo_1.setConfig(C, True)\n",
    "komo_1.setTiming(1., 20, 5., 0)\n",
    "\n",
    "# add collision constraints\n",
    "komo_1.addObjective([], ry.FS.accumulatedCollisions, [], ry.OT.eq, [1e-1])\n",
    "komo_1.addObjective([], ry.FS.jointLimits, [], ry.OT.ineq)\n",
    "\n",
    "\n",
    "# move the gripper to the cargo position\n",
    "komo_1.addObjective(\n",
    "    times=[],\n",
    "    feature=ry.FS.positionDiff,\n",
    "    frames=[\"l_gripper\", \"cargo_handle\"],\n",
    "    type=ry.OT.eq,\n",
    "    scale=[1e2],\n",
    ")\n",
    "\n",
    "# komo_1.addObjective(\n",
    "#     times=[],\n",
    "#     feature=ry.FS.positionDiff,\n",
    "#     frames=[\"l_gripper\", \"cargo_handle\"],\n",
    "#     type=ry.OT.sos,\n",
    "#     scale=[1e1]\n",
    "# )\n",
    "\n",
    "# align the grippper with the cargo_handle\n",
    "komo_1.addObjective([], ry.FS.scalarProductXZ, ['l_gripper', 'cargo_handle'], ry.OT.eq, [1e1])\n",
    "komo_1.addObjective([], ry.FS.scalarProductYZ, ['l_panda_base', 'cargo_handle'], ry.OT.eq, [1e0])\n",
    "\n",
    "# solve\n",
    "ret_1 = ry.NLP_Solver(komo_1.nlp(), verbose=0 ) .solve()\n",
    "q_gripper_to_cargo = komo_1.getPath()\n",
    "\n",
    "# for t in range(q_gripper_to_cargo.shape[0]):\n",
    "#     C.setJointState(q_gripper_to_cargo[t])\n",
    "#     C.view(False, f'waypoint {t}')\n",
    "#     time.sleep(0.1)\n",
    "\n",
    "# komo_1.view_play(False, 2)\n",
    "\n",
    "if ret_1.feasible:\n",
    "    print(\"KOMO_1 is feasible\")\n",
    "else:\n",
    "    print(\"KOMO_1 is NOT feasible\")"
   ]
  },
  {
   "cell_type": "markdown",
   "metadata": {},
   "source": [
    "### 1.1 Part A: l_panda_base to goal position KOMO_2"
   ]
  },
  {
   "cell_type": "code",
   "execution_count": 30,
   "metadata": {},
   "outputs": [
    {
     "name": "stdout",
     "output_type": "stream",
     "text": [
      "KOMO_2 is feasible\n"
     ]
    }
   ],
   "source": [
    "C.setJointState(qHome)\n",
    "\n",
    "komo_2 = ry.KOMO(C, phases=1, slicesPerPhase=20, kOrder=1, enableCollisions=False)\n",
    "# komo = ry.KOMO()\n",
    "# komo_2.setConfig(C, True)\n",
    "# komo_2.setTiming(1., 20, 5., kOrder=1)\n",
    "\n",
    "# add control objective to stay close to the initial joint configuration\n",
    "komo_2.addControlObjective([], 0, 1e-1)\n",
    "\n",
    "# add collision constraints\n",
    "komo_2.addObjective([], ry.FS.accumulatedCollisions, [], ry.OT.eq)\n",
    "komo_2.addObjective([], ry.FS.jointLimits, [], ry.OT.ineq)\n",
    "\n",
    "# Add objective to move cargo to goal area\n",
    "komo_2.addObjective(\n",
    "    times=[0., 1.],\n",
    "    feature=ry.FS.positionDiff,\n",
    "    frames=[\"l_panda_base\", \"goal_area\"],\n",
    "    type=ry.OT.sos\n",
    ")\n",
    "\n",
    "komo_2.addObjective(\n",
    "    times=[0., 1.],\n",
    "    feature=ry.FS.positionDiff,\n",
    "    frames=[\"l_gripper\", \"goal_area\"],\n",
    "    type=ry.OT.sos,\n",
    "    target=[0, .6, .46]\n",
    ")\n",
    "\n",
    "\n",
    "ret_2 = ry.NLP_Solver(komo_2.nlp(), verbose=0 ) .solve()\n",
    "q_cargobot_to_goal_area = komo_2.getPath()\n",
    "\n",
    "\n",
    "# for t in range(q_cargobot_to_goal_area.shape[0]):\n",
    "#     C.setJointState(q_cargobot_to_goal_area[t])\n",
    "#     C.view(False, f'waypoint {t}')\n",
    "#     time.sleep(0.1)\n",
    "\n",
    "if ret_2.feasible:\n",
    "    print(\"KOMO_2 is feasible\")\n",
    "else:\n",
    "    print(\"KOMO_2 is NOT feasible\")"
   ]
  },
  {
   "cell_type": "markdown",
   "metadata": {},
   "source": [
    "### 1.1 Part A: Visualisation of KOMO_1 and KOMO_2"
   ]
  },
  {
   "cell_type": "code",
   "execution_count": 31,
   "metadata": {},
   "outputs": [
    {
     "name": "stdout",
     "output_type": "stream",
     "text": [
      "KOMO_1 is feasible\n",
      "KOMO_2 is feasible\n"
     ]
    }
   ],
   "source": [
    "for t in range(q_gripper_to_cargo.shape[0]):\n",
    "    C.setJointState(q_gripper_to_cargo[t])\n",
    "    C.view(False, f'waypoint {t}')\n",
    "    time.sleep(0.1)\n",
    "    \n",
    "for t in range(q_cargobot_to_goal_area.shape[0]):\n",
    "    C.setJointState(q_cargobot_to_goal_area[t])\n",
    "    C.view(False, f'waypoint {t}')\n",
    "    time.sleep(0.1)\n",
    "\n",
    "# C.setJointState(qHome)\n",
    "# C.view()\n",
    "\n",
    "if ret_1.feasible:\n",
    "    print(\"KOMO_1 is feasible\")\n",
    "else:\n",
    "    print(\"KOMO_1 is NOT feasible\")\n",
    "\n",
    "if ret_2.feasible:\n",
    "    print(\"KOMO_2 is feasible\")\n",
    "else:\n",
    "    print(\"KOMO_2 is NOT feasible\")\n",
    "\n",
    "# komo_1.view_play(False, 1)\n",
    "# komo_2.view_play(False, 1)"
   ]
  },
  {
   "cell_type": "markdown",
   "metadata": {},
   "source": [
    "### 1.2 Part B: RRT pathfinding (KOMO_1)"
   ]
  },
  {
   "cell_type": "code",
   "execution_count": 32,
   "metadata": {},
   "outputs": [
    {
     "name": "stdout",
     "output_type": "stream",
     "text": [
      "-- RRT_PathFinder.cpp:RRT_PathFinder:258(0) initializing with infeasible qT:\n",
      "query: h_goal: 0 g_coll: 0 isGoal: 1 isFeasible: 0\n",
      "proxy:  (l_finger2)-(cargo) [64,2] \td=-0\n",
      "-- RRT_PathFinder.cpp:RRT_PathFinder:258(0) initializing with infeasible qT:\n",
      "query: h_goal: 0 g_coll: 0 isGoal: 1 isFeasible: 0\n",
      "proxy:  (l_finger2)-(cargo) [64,2] \td=-0\n",
      "-- RRT_PathFinder.cpp:RRT_PathFinder:258(0) initializing with infeasible qT:\n",
      "query: h_goal: 0 g_coll: 0 isGoal: 1 isFeasible: 0\n",
      "proxy:  (l_finger2)-(cargo) [64,2] \td=-0\n",
      "-- RRT_PathFinder.cpp:RRT_PathFinder:258(0) initializing with infeasible qT:\n",
      "query: h_goal: 0 g_coll: 0 isGoal: 1 isFeasible: 0\n",
      "proxy:  (l_finger2)-(cargo) [64,2] \td=-0\n",
      "-- RRT_PathFinder.cpp:RRT_PathFinder:258(0) initializing with infeasible qT:\n",
      "query: h_goal: 0 g_coll: 0 isGoal: 1 isFeasible: 0\n",
      "proxy:  (l_finger2)-(cargo) [64,2] \td=-0\n",
      "-- RRT_PathFinder.cpp:RRT_PathFinder:258(0) initializing with infeasible qT:\n",
      "query: h_goal: 0 g_coll: 0 isGoal: 1 isFeasible: 0\n",
      "proxy:  (l_finger2)-(cargo) [64,2] \td=-0\n",
      "-- RRT_PathFinder.cpp:RRT_PathFinder:258(0) initializing with infeasible qT:\n",
      "query: h_goal: 0 g_coll: 0 isGoal: 1 isFeasible: 0\n",
      "proxy:  (l_finger2)-(cargo) [64,2] \td=-0\n",
      "-- RRT_PathFinder.cpp:RRT_PathFinder:258(0) initializing with infeasible qT:\n",
      "query: h_goal: 0 g_coll: 0 isGoal: 1 isFeasible: 0\n",
      "proxy:  (l_finger2)-(cargo) [64,2] \td=-0\n",
      "-- RRT_PathFinder.cpp:RRT_PathFinder:258(0) initializing with infeasible qT:\n",
      "query: h_goal: 0 g_coll: 0 isGoal: 1 isFeasible: 0\n",
      "proxy:  (l_finger2)-(cargo) [64,2] \td=-0\n",
      "*** Found path at trial num # 9  ***\n"
     ]
    }
   ],
   "source": [
    "ry.params_clear()\n",
    "ry.params_add({'rrt/stepsize':.1, 'rrt/verbose': 0}) #verbose=3 makes it very slow, and displays result, and verbose=4 waits keypress..\n",
    "\n",
    "foundRRTPath = False\n",
    "numOfTrials = 0\n",
    "\n",
    "C.setJointState(qHome)\n",
    "\n",
    "\n",
    "while (not foundRRTPath and numOfTrials < max_trials):\n",
    "  rrt = ry.PathFinder()\n",
    "  rrt.setProblem(C, [qHome], [q_gripper_to_cargo[0]])\n",
    "  ret_RRT_1 = rrt.solve()\n",
    "  path_1 = ret_RRT_1.x\n",
    "  foundRRTPath = ret_RRT_1.feasible\n",
    "  numOfTrials = numOfTrials + 1\n",
    "  # print(\"*** Trial num #\", numOfTrials, \" result: \", foundRRTPath)\n",
    "  \n",
    "if foundRRTPath:\n",
    "  print(\"*** Found path at trial num #\", numOfTrials, \" ***\")\n",
    "else:\n",
    "  print(\"** No path found ***\")"
   ]
  },
  {
   "cell_type": "markdown",
   "metadata": {},
   "source": [
    "### 1.2 Part B: RRT pathfinding (KOMO_2)"
   ]
  },
  {
   "cell_type": "code",
   "execution_count": 33,
   "metadata": {},
   "outputs": [
    {
     "name": "stdout",
     "output_type": "stream",
     "text": [
      "-- RRT_PathFinder.cpp:RRT_PathFinder:257(0) initializing with infeasible q0:\n",
      "query: h_goal: 0 g_coll: 0 isGoal: 1 isFeasible: 0\n",
      "*** Found path at trial num # 1  ***\n"
     ]
    }
   ],
   "source": [
    "ry.params_clear()\n",
    "ry.params_add({'rrt/stepsize':.1, 'rrt/verbose': 0}) #verbose=3 makes it very slow, and displays result, and verbose=4 waits keypress..\n",
    "\n",
    "foundRRTPath = False\n",
    "numOfTrials = 0\n",
    "\n",
    "C.setJointState(q_gripper_to_cargo[0])\n",
    "\n",
    "while (not foundRRTPath and numOfTrials < max_trials):\n",
    "  rrt = ry.PathFinder()\n",
    "  rrt.setProblem(C, [q_gripper_to_cargo[0]], [q_cargobot_to_goal_area[0]])\n",
    "  ret_RRT_2 = rrt.solve()\n",
    "  path_2 = ret_RRT_2.x\n",
    "  foundRRTPath = ret_RRT_2.feasible\n",
    "  numOfTrials = numOfTrials + 1\n",
    "  # print(\"*** Trial num #\", numOfTrials, \" result: \", foundRRTPath)\n",
    "  \n",
    "\n",
    "if foundRRTPath:\n",
    "  print(\"*** Found path at trial num #\", numOfTrials, \" ***\")\n",
    "else:\n",
    "  print(\"** No path found ***\")"
   ]
  },
  {
   "cell_type": "markdown",
   "metadata": {},
   "source": [
    "### 1.2 Part B: Visualisation of RRT pathfinding (KOMO_1) and (KOMO_2)"
   ]
  },
  {
   "cell_type": "code",
   "execution_count": 34,
   "metadata": {},
   "outputs": [],
   "source": [
    "# display the path\n",
    "sleepTime = 0.05\n",
    "for t in range(0, path_1.shape[0]-1):\n",
    "    C.setJointState(path_1[t])\n",
    "    C.view()\n",
    "    time.sleep(sleepTime)\n",
    "    \n",
    "# display the path\n",
    "for t in range(0, path_2.shape[0]-1):\n",
    "    C.setJointState(path_2[t])\n",
    "    C.view()\n",
    "    time.sleep(sleepTime)"
   ]
  },
  {
   "cell_type": "markdown",
   "metadata": {},
   "source": [
    "### 1.3 Part C"
   ]
  },
  {
   "cell_type": "markdown",
   "metadata": {},
   "source": [
    "Move robot from home position to cargo position. Then attach cargo to gripper"
   ]
  },
  {
   "cell_type": "code",
   "execution_count": 35,
   "metadata": {},
   "outputs": [],
   "source": [
    "C.setJointState(qHome)\n",
    "\n",
    "for t in range(0, path_1.shape[0]-1):\n",
    "    C.setJointState(path_1[t])\n",
    "    C.view()\n",
    "    time.sleep(sleepTime)\n",
    "    \n",
    "C.attach(\"l_gripper\", \"cargo_handle\")"
   ]
  },
  {
   "cell_type": "markdown",
   "metadata": {},
   "source": [
    "Now find new RRT path with cargo attached, b/c current path_2 (from cargo position to goal area) would make the cargo hit the walls"
   ]
  },
  {
   "cell_type": "code",
   "execution_count": 36,
   "metadata": {},
   "outputs": [
    {
     "name": "stdout",
     "output_type": "stream",
     "text": [
      "*** Found path at trial num # 1  ***\n",
      "  -- rrt success: queries:2723 tree sizes: 213 169\n"
     ]
    }
   ],
   "source": [
    "ry.params_clear()\n",
    "ry.params_add({'rrt/stepsize':.1, 'rrt/verbose': 1}) #verbose=3 makes it very slow, and displays result, and verbose=4 waits keypress..\n",
    "\n",
    "foundRRTPath = False\n",
    "numOfTrials = 0\n",
    "\n",
    "# C.setJointState(q_gripper_to_cargo[0])\n",
    "\n",
    "while (not foundRRTPath and numOfTrials < max_trials):\n",
    "  rrt = ry.PathFinder()\n",
    "  rrt.setProblem(C, [q_gripper_to_cargo[0]], [q_cargobot_to_goal_area[0]])\n",
    "  ret_RRT_3 = rrt.solve()\n",
    "  path_3 = ret_RRT_3.x\n",
    "  foundRRTPath = ret_RRT_3.feasible\n",
    "  numOfTrials = numOfTrials + 1\n",
    "  # print(\"*** Trial num #\", numOfTrials, \" result: \", foundRRTPath)\n",
    "  \n",
    "\n",
    "if foundRRTPath:\n",
    "  print(\"*** Found path at trial num #\", numOfTrials, \" ***\")\n",
    "else:\n",
    "  print(\"** No path found ***\")\n"
   ]
  },
  {
   "cell_type": "code",
   "execution_count": 37,
   "metadata": {},
   "outputs": [],
   "source": [
    "for t in range(0, path_3.shape[0]-1):\n",
    "    C.setJointState(path_3[t])\n",
    "    C.view()\n",
    "    time.sleep(sleepTime)\n",
    "    "
   ]
  },
  {
   "cell_type": "code",
   "execution_count": 38,
   "metadata": {},
   "outputs": [
    {
     "data": {
      "text/plain": [
       "<robotic._robotic.Frame at 0x7f07ae73d3f0>"
      ]
     },
     "execution_count": 38,
     "metadata": {},
     "output_type": "execute_result"
    }
   ],
   "source": [
    "C.getFrame(\"cargo_handle\").unLink()"
   ]
  }
 ],
 "metadata": {
  "kernelspec": {
   "display_name": "rai_venv",
   "language": "python",
   "name": "python3"
  },
  "language_info": {
   "codemirror_mode": {
    "name": "ipython",
    "version": 3
   },
   "file_extension": ".py",
   "mimetype": "text/x-python",
   "name": "python",
   "nbconvert_exporter": "python",
   "pygments_lexer": "ipython3",
   "version": "3.8.10"
  }
 },
 "nbformat": 4,
 "nbformat_minor": 2
}
