{
 "cells": [
  {
   "cell_type": "markdown",
   "metadata": {},
   "source": [
    "### 2 Bookshelf Manipulation"
   ]
  },
  {
   "cell_type": "code",
   "execution_count": 143,
   "metadata": {},
   "outputs": [],
   "source": [
    "import robotic as ry\n",
    "import random\n",
    "import time\n",
    "max_trials = 10\n",
    "max_vel = 100\n",
    "max_acc = max_vel\n",
    "selected_color = [0, 0, 1]\n",
    "orig_color = [0.80, 0.80, 0.80]"
   ]
  },
  {
   "cell_type": "code",
   "execution_count": 241,
   "metadata": {},
   "outputs": [
    {
     "name": "stdout",
     "output_type": "stream",
     "text": [
      "/home/vboxuser/Desktop/CS449/rai_venv/lib/python3.8/site-packages/robotic/rai-robotModels/\n"
     ]
    }
   ],
   "source": [
    "C = ry.Config()\n",
    "print(ry.raiPath(''))\n",
    "C.addFile(ry.raiPath('book_shelf.g'))\n",
    "\n",
    "C.view()\n",
    "qHome = C.getJointState()\n",
    "gripper_orig_pos = C.getFrame(\"l_gripper\").getPosition()\n",
    "gripper_orig_quat = C.getFrame(\"l_gripper\").getQuaternion()\n",
    "# print(C.getFrameNames())\n",
    "\n",
    "objects = [\"book1\", \"book2\", \"book3\", \"book4\", \"mug\", \"book-non\"]"
   ]
  },
  {
   "cell_type": "code",
   "execution_count": null,
   "metadata": {},
   "outputs": [
    {
     "data": {
      "text/plain": [
       "37"
      ]
     },
     "execution_count": 142,
     "metadata": {},
     "output_type": "execute_result"
    }
   ],
   "source": [
    "# reset colors\n",
    "for obj in objects:\n",
    "    C.getFrame(obj).setColor(orig_color)\n",
    "C.view()\n",
    "\n",
    "\n",
    "\n",
    "\n",
    "\n",
    "\n",
    "\n",
    "# Reset config\n",
    "# komo = ry.KOMO()\n",
    "# del komo\n",
    "# C.setJointState(qHome)\n",
    "# C.view()\n",
    "\n",
    "\n",
    "\n",
    "\n",
    "\n",
    "\n",
    "\n"
   ]
  },
  {
   "cell_type": "code",
   "execution_count": 244,
   "metadata": {},
   "outputs": [
    {
     "name": "stdout",
     "output_type": "stream",
     "text": [
      "Selected object:  book-non\n",
      "Object orientation:  horizontal\n"
     ]
    },
    {
     "data": {
      "text/plain": [
       "0"
      ]
     },
     "execution_count": 244,
     "metadata": {},
     "output_type": "execute_result"
    }
   ],
   "source": [
    "# select an object randomly\n",
    "curObj = random.choice(objects)\n",
    "\n",
    "# curObj = \"book2\"\n",
    "\n",
    "print(\"Selected object: \", curObj)\n",
    "\n",
    "# color the selected object\n",
    "C.getFrame(curObj).setColor(selected_color)\n",
    "\n",
    "# determine orientation of object\n",
    "obj_z_height = C.getFrame(curObj).getSize()[2]\n",
    "obj_y_width = C.getFrame(curObj).getSize()[1]\n",
    "obj_x_length = C.getFrame(curObj).getSize()[0]\n",
    "\n",
    "if min(obj_z_height, obj_y_width, obj_x_length) == obj_z_height:\n",
    "  obj_orientation = \"horizontal\"\n",
    "elif min(obj_z_height, obj_y_width, obj_x_length) == obj_y_width:\n",
    "  obj_orientation = \"vertical\"\n",
    "elif min(obj_z_height, obj_y_width, obj_x_length) == obj_x_length:\n",
    "  obj_orientation = \"sideways\"\n",
    "  \n",
    "print(\"Object orientation: \", obj_orientation)\n",
    "\n",
    "\n",
    "komo = ry.KOMO()\n",
    "del komo\n",
    "C.setJointState(qHome)\n",
    "C.view()"
   ]
  },
  {
   "cell_type": "code",
   "execution_count": 227,
   "metadata": {},
   "outputs": [
    {
     "name": "stdout",
     "output_type": "stream",
     "text": [
      "-- WARNING:kin.cpp:addFrame:193(-1) frame already exists! returning existing without modifications!\n",
      "-- WARNING:kin.cpp:addFrame:193(-1) frame already exists! returning existing without modifications!\n"
     ]
    },
    {
     "data": {
      "text/plain": [
       "37"
      ]
     },
     "execution_count": 227,
     "metadata": {},
     "output_type": "execute_result"
    }
   ],
   "source": [
    "C.addFrame(\"visual\") .setPosition(C.getFrame(curObj).getPosition()) .setColor([1, 0, 0]) .setShape(ry.ST.marker, [0.5])\n",
    "# C.addFrame(\"visual_gripper_orig\")  .setShape(ry.ST.marker, [0.]).setPosition(gripper_orig_pos) .setQuaternion(gripper_orig_quat) .setColor([0, 1, 0])\n",
    "C.addFrame(\"visual_gripper_final\") .setShape(ry.ST.marker, [0.3]) .setPosition(C.getFrame(\"l_gripper\").getPosition()) .setQuaternion(C.getFrame(\"l_gripper\").getQuaternion()) .setColor([0, 0, 0]) \n",
    "C.view()"
   ]
  },
  {
   "cell_type": "code",
   "execution_count": 245,
   "metadata": {},
   "outputs": [],
   "source": [
    "# komo = ry.KOMO(C, phases=1, slicesPerPhase=30, kOrder=1, enableCollisions=False)\n",
    "\n",
    "komo = ry.KOMO()\n",
    "komo.setConfig(C, True)\n",
    "komo.setTiming(1., 10, 5., 0)\n",
    "\n",
    "# add collision constraints\n",
    "komo.addObjective([], ry.FS.accumulatedCollisions, [], ry.OT.eq, [1e0])\n",
    "komo.addObjective([], ry.FS.jointLimits, [], ry.OT.ineq)\n",
    "komo.addObjective([], ry.FS.jointState, [], ry.OT.sos, [1e0], qHome)\n",
    "\n",
    "# calculate gripper and cargo offset (-40% in x direction)\n",
    "offset_x = -(C.getFrame(curObj) .getSize()[0] * 0.3)\n",
    "# this objective moves the gripper close to the cargo\n",
    "komo.addObjective(\n",
    "    times=[],\n",
    "    feature=ry.FS.positionRel,\n",
    "    frames=['l_gripper', curObj],\n",
    "    type=ry.OT.eq,\n",
    "    scale=[1e1],\n",
    "    target=[offset_x, 0, 0]\n",
    ")\n",
    "# this objective makes the gripper claws face the shelf objects \n",
    "komo.addObjective(\n",
    "    times=[0, 1], \n",
    "    feature=ry.FS.scalarProductXZ, \n",
    "    frames=[curObj, 'l_gripper'], \n",
    "    type=ry.OT.eq, \n",
    "    scale=[1e1],\n",
    "    target=[-1]\n",
    ")\n",
    "\n",
    "\n",
    "# these 3 objectives align the gripper claws aligned properly with the book\n",
    "komo.addObjective(\n",
    "    times=[0, 1], \n",
    "    feature=ry.FS.scalarProductXX, \n",
    "    frames=['l_gripper', curObj], \n",
    "    type=ry.OT.eq, \n",
    "    scale=[1e1],\n",
    ")\n",
    "\n",
    "komo.addObjective(\n",
    "    times=[0, 1],\n",
    "    feature=ry.FS.scalarProductZZ, \n",
    "    frames=['l_gripper', curObj], \n",
    "    type=ry.OT.eq, \n",
    "    scale=[1e1]\n",
    ")\n",
    "\n",
    "komo.addObjective(\n",
    "    times=[0, 1],\n",
    "    feature=ry.FS.scalarProductYY, \n",
    "    frames=['l_gripper', curObj], \n",
    "    type=ry.OT.eq, \n",
    "    scale=[1e1]\n",
    ")\n",
    "\n",
    "# this objective makes the gripper claws vertical\n",
    "\n",
    "# komo.addObjective(\n",
    "#     times=[0, 1],\n",
    "#     feature=ry.FS.scalarProductXY, \n",
    "#     frames=['l_gripper', curObj], \n",
    "#     type=ry.OT.eq, \n",
    "#     scale=[1e1],\n",
    "#     target=[0]\n",
    "# )\n",
    "\n",
    "\n",
    "if obj_orientation == \"vertical\":\n",
    "    komo.addObjective(\n",
    "        times=[0, 1],\n",
    "        feature=ry.FS.scalarProductXY, \n",
    "        frames=['l_gripper', curObj], \n",
    "        type=ry.OT.eq, \n",
    "        scale=[1e1],\n",
    "        target=[1]\n",
    "    )\n",
    "elif obj_orientation == \"horizontal\":\n",
    "    komo.addObjective(\n",
    "        times=[0, 1],\n",
    "        feature=ry.FS.scalarProductXY, \n",
    "        frames=['l_gripper', curObj], \n",
    "        type=ry.OT.eq, \n",
    "        scale=[1e1],\n",
    "        target=[0]\n",
    "    )\n",
    "    komo.addObjective(\n",
    "        times=[0, 1],\n",
    "        feature=ry.FS.scalarProductYY, \n",
    "        frames=['l_gripper', curObj], \n",
    "        type=ry.OT.eq, \n",
    "        scale=[1e2],\n",
    "        target=[1]\n",
    "    )\n",
    "\n",
    "    \n",
    "\n",
    "\n",
    "\n",
    "\n",
    "# C.attach('l_gripper', curObj)\n",
    "\n",
    "\n",
    "# solve\n",
    "ret_1 = ry.NLP_Solver(komo.nlp(), verbose=0 ) .solve()\n",
    "q_gripper_to_obj = komo.getPath()\n",
    "\n",
    "for t in range(q_gripper_to_obj.shape[0]):\n",
    "    C.setJointState(q_gripper_to_obj[t])\n",
    "    C.view(False, f'waypoint {t}')\n",
    "    time.sleep(0.01)\n",
    "\n",
    "# komo.view_play(False, 2)\n",
    "\n",
    "# if ret_1.feasible:\n",
    "#     print(\"komo is feasible\")\n",
    "# else:\n",
    "#     print(\"komo is NOT feasible\")"
   ]
  }
 ],
 "metadata": {
  "kernelspec": {
   "display_name": "rai_venv",
   "language": "python",
   "name": "python3"
  },
  "language_info": {
   "codemirror_mode": {
    "name": "ipython",
    "version": 3
   },
   "file_extension": ".py",
   "mimetype": "text/x-python",
   "name": "python",
   "nbconvert_exporter": "python",
   "pygments_lexer": "ipython3",
   "version": "3.8.10"
  }
 },
 "nbformat": 4,
 "nbformat_minor": 2
}
