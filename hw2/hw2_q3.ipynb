{
 "cells": [
  {
   "cell_type": "markdown",
   "metadata": {},
   "source": [
    "### 3 Mini-Golf"
   ]
  },
  {
   "cell_type": "code",
   "execution_count": 749,
   "metadata": {},
   "outputs": [],
   "source": [
    "import robotic as ry\n",
    "import random\n",
    "import time\n",
    "speed = 0.1"
   ]
  },
  {
   "cell_type": "markdown",
   "metadata": {},
   "source": [
    "### Import 'mini_golf.g' and store home position"
   ]
  },
  {
   "cell_type": "code",
   "execution_count": 750,
   "metadata": {},
   "outputs": [
    {
     "name": "stdout",
     "output_type": "stream",
     "text": [
      "/home/vboxuser/Desktop/CS449/rai_venv/lib/python3.8/site-packages/robotic/rai-robotModels/\n",
      "['world', 'world', 'table', 'l_panda_base', 'l_panda_link0', 'l_panda_link0_0', 'l_panda_joint1_origin', 'l_panda_joint1', 'l_panda_link1', 'l_panda_link1_0', 'l_panda_joint2_origin', 'l_panda_joint2', 'l_panda_link2', 'l_panda_link2_0', 'l_panda_joint3_origin', 'l_panda_joint3', 'l_panda_link3', 'l_panda_link3_0', 'l_panda_joint4_origin', 'l_panda_joint4', 'l_panda_link4', 'l_panda_link4_0', 'l_panda_joint5_origin', 'l_panda_joint5', 'l_panda_link5', 'l_panda_link5_0', 'l_panda_joint6_origin', 'l_panda_joint6', 'l_panda_link6', 'l_panda_link6_0', 'l_panda_joint7_origin', 'l_panda_joint7', 'l_panda_link7', 'l_panda_link7_0', 'l_panda_joint8_origin', 'l_panda_joint8', 'l_panda_link8', 'l_panda_hand_joint_origin', 'l_panda_hand_joint', 'l_panda_hand', 'l_panda_hand_0', 'l_panda_finger_joint1_origin', 'l_panda_finger_joint2_origin', 'l_panda_finger_joint1', 'l_panda_finger_joint2', 'l_panda_leftfinger', 'l_panda_rightfinger', 'l_panda_leftfinger_0', 'l_panda_rightfinger_0', 'l_panda_coll0', 'l_panda_coll1', 'l_panda_coll3', 'l_panda_coll5', 'l_panda_coll2', 'l_panda_coll4', 'l_panda_coll6', 'l_panda_coll7', 'l_gripper', 'l_palm', 'l_finger1', 'l_finger2', 'cameraTop', 'cameraWrist', 'panda_collCameraWrist', 'platform-1', 'platform-2', 'platform-3', 'platform-4', 'ball', 'hammer-handle', 'hammer-head']\n"
     ]
    }
   ],
   "source": [
    "C = ry.Config()\n",
    "print(ry.raiPath(''))\n",
    "C.addFile(ry.raiPath('mini_golf.g'))\n",
    "\n",
    "C.view()\n",
    "qHomeJS = C.getJointState()\n",
    "gripper_orig_pos = C.getFrame(\"l_gripper\").getPosition()\n",
    "gripper_orig_quat = C.getFrame(\"l_gripper\").getQuaternion()\n",
    "print(C.getFrameNames())\n",
    "\n",
    "try:\n",
    "  del bot\n",
    "  del komo\n",
    "except:\n",
    "  pass\n",
    "\n",
    "# initiliase bot and save home position\n",
    "bot = ry.BotOp(C, useRealRobot=False)\n",
    "qHome = bot.get_qHome()"
   ]
  },
  {
   "cell_type": "markdown",
   "metadata": {},
   "source": [
    "### IK to move gripper to hammer handle"
   ]
  },
  {
   "cell_type": "code",
   "execution_count": 751,
   "metadata": {},
   "outputs": [
    {
     "data": {
      "text/plain": [
       "0"
      ]
     },
     "execution_count": 751,
     "metadata": {},
     "output_type": "execute_result"
    }
   ],
   "source": [
    "try:\n",
    "  del komo\n",
    "except:\n",
    "  pass\n",
    "\n",
    "komo = ry.KOMO(C, 1, 1, 0, False)\n",
    "komo.addObjective([], ry.FS.jointState, [], ry.OT.sos, [1e-1], qHome) #cost: close to qHome\n",
    "# komo.addObjective([], ry.FS.positionDiff, ['l_gripper', 'hammer-handle'], ry.OT.eq, [1e1]) #constraint: gripper position\n",
    "\n",
    "komo.addObjective(\n",
    "    times=[],\n",
    "    feature=ry.FS.positionRel,\n",
    "    frames=['l_gripper', 'hammer-handle'],\n",
    "    type=ry.OT.eq,\n",
    "    scale=[1e1],\n",
    "    target=[0, 0., 0.015]\n",
    ")\n",
    "\n",
    "komo.addObjective(\n",
    "    times=[],\n",
    "    feature=ry.FS.scalarProductXX,\n",
    "    frames=['l_gripper', 'hammer-handle'],\n",
    "    type=ry.OT.eq,\n",
    "    scale=[1e1],\n",
    "    target=[1]\n",
    ")\n",
    "\n",
    "komo.addObjective(\n",
    "    times=[],\n",
    "    feature=ry.FS.scalarProductYY,\n",
    "    frames=['l_gripper', 'hammer-handle'],\n",
    "    type=ry.OT.eq,\n",
    "    scale=[1e1],\n",
    "    target=[1]\n",
    ")\n",
    "\n",
    "komo.addObjective(\n",
    "    times=[],\n",
    "    feature=ry.FS.scalarProductZZ,\n",
    "    frames=['l_gripper', 'hammer-handle'],\n",
    "    type=ry.OT.eq,\n",
    "    scale=[1e1],\n",
    "    target=[1]\n",
    ")\n",
    "\n",
    "ret = ry.NLP_Solver(komo.nlp(), verbose=0) .solve()\n",
    "    \n",
    "q_hammer = komo.getPath()[0]\n",
    "C.setJointState(q_hammer)\n",
    "# C.attach('l_gripper', 'hammer-handle')\n",
    "C.view()"
   ]
  },
  {
   "cell_type": "markdown",
   "metadata": {},
   "source": [
    "### IK to move gripper for pre-hit"
   ]
  },
  {
   "cell_type": "code",
   "execution_count": 752,
   "metadata": {},
   "outputs": [
    {
     "data": {
      "text/plain": [
       "0"
      ]
     },
     "execution_count": 752,
     "metadata": {},
     "output_type": "execute_result"
    }
   ],
   "source": [
    "try:\n",
    "  del komo\n",
    "except:\n",
    "  pass\n",
    "\n",
    "komo = ry.KOMO(C, 1, 1, 0, False)\n",
    "komo.addObjective([], ry.FS.jointState, [], ry.OT.sos, [1e-1], qHome) #cost: close to qHome\n",
    "# komo.addObjective([], ry.FS.positionDiff, ['l_gripper', 'hammer-handle'], ry.OT.eq, [1e1]) #constraint: gripper position\n",
    "\n",
    "komo.addObjective(\n",
    "    times=[],\n",
    "    feature=ry.FS.positionRel,\n",
    "    frames=['l_gripper', 'ball'],\n",
    "    type=ry.OT.eq,\n",
    "    scale=[1e1],\n",
    "    target=[-0.3, -0.3, 0.045]\n",
    ")\n",
    "\n",
    "komo.addObjective(\n",
    "  times=[],\n",
    "  feature=ry.FS.scalarProductXX,\n",
    "  frames=['l_gripper', 'ball'],\n",
    "  type=ry.OT.eq,\n",
    "  scale=[1e1],\n",
    "  target=[1]\n",
    ")\n",
    "\n",
    "komo.addObjective(\n",
    "  times=[],\n",
    "  feature=ry.FS.scalarProductYY,\n",
    "  frames=['l_gripper', 'ball'],\n",
    "  type=ry.OT.eq,\n",
    "  scale=[1e1],\n",
    "  target=[1]\n",
    ")\n",
    "\n",
    "\n",
    "\n",
    "ret = ry.NLP_Solver(komo.nlp(), verbose=0) .solve()\n",
    "    \n",
    "q_hit_pre = komo.getPath()[0]\n",
    "C.setJointState(q_hit_pre)\n",
    "C.view()"
   ]
  },
  {
   "cell_type": "markdown",
   "metadata": {},
   "source": [
    "### IK to move gripper for hit"
   ]
  },
  {
   "cell_type": "code",
   "execution_count": 753,
   "metadata": {},
   "outputs": [
    {
     "data": {
      "text/plain": [
       "0"
      ]
     },
     "execution_count": 753,
     "metadata": {},
     "output_type": "execute_result"
    }
   ],
   "source": [
    "try:\n",
    "  del komo\n",
    "except:\n",
    "  pass\n",
    "\n",
    "komo = ry.KOMO(C, 1, 1, 0, False)\n",
    "komo.addObjective([], ry.FS.jointState, [], ry.OT.sos, [1e-1], qHome) #cost: close to qHome\n",
    "# komo.addObjective([], ry.FS.positionDiff, ['l_gripper', 'hammer-handle'], ry.OT.eq, [1e1]) #constraint: gripper position\n",
    "\n",
    "komo.addObjective(\n",
    "    times=[],\n",
    "    feature=ry.FS.positionRel,\n",
    "    frames=['l_gripper', 'ball'],\n",
    "    type=ry.OT.eq,\n",
    "    scale=[1e1],\n",
    "    target=[0.3, -0.2, 0.04]\n",
    ")\n",
    "\n",
    "komo.addObjective(\n",
    "  times=[],\n",
    "  feature=ry.FS.vectorYDiff,\n",
    "  frames=['l_gripper', 'ball'],\n",
    "  type=ry.OT.eq,\n",
    "  scale=[1e1],\n",
    "  target=[0]\n",
    ")\n",
    "\n",
    "komo.addObjective(\n",
    "  times=[],\n",
    "  feature=ry.FS.scalarProductXX,\n",
    "  frames=['l_gripper', 'ball'],\n",
    "  type=ry.OT.eq,\n",
    "  scale=[1e1],\n",
    "  target=[1]\n",
    ")\n",
    "\n",
    "komo.addObjective(\n",
    "  times=[],\n",
    "  feature=ry.FS.scalarProductYY,\n",
    "  frames=['l_gripper', 'ball'],\n",
    "  type=ry.OT.eq,\n",
    "  scale=[1e1],\n",
    "  target=[1]\n",
    ")\n",
    "\n",
    "ret = ry.NLP_Solver(komo.nlp(), verbose=0) .solve()\n",
    "    \n",
    "q_hit = komo.getPath()[0]\n",
    "C.setJointState(q_hit)\n",
    "C.view()"
   ]
  },
  {
   "cell_type": "markdown",
   "metadata": {},
   "source": [
    "### Move gripper to hammer handle"
   ]
  },
  {
   "cell_type": "code",
   "execution_count": 754,
   "metadata": {},
   "outputs": [],
   "source": [
    "botOpSpeed = 2\n",
    "bot.moveTo(q_hammer, timeCost=botOpSpeed)\n",
    "while bot.getTimeToEnd()>0:\n",
    "    bot.sync(C, .1)"
   ]
  },
  {
   "cell_type": "markdown",
   "metadata": {},
   "source": [
    "### Grip the hammer handle"
   ]
  },
  {
   "cell_type": "code",
   "execution_count": 755,
   "metadata": {},
   "outputs": [],
   "source": [
    "bot.gripperMove(ry._left, width=.01, speed=1)\n",
    "\n",
    "while not bot.gripperDone(ry._left):\n",
    "    bot.sync(C, .1)"
   ]
  },
  {
   "cell_type": "markdown",
   "metadata": {},
   "source": [
    "### Move ball to hole"
   ]
  },
  {
   "cell_type": "code",
   "execution_count": 756,
   "metadata": {},
   "outputs": [],
   "source": [
    "# C.getFrame(\"ball\").setPosition([ballHomePos[0], ballHomePos[1], ballHomePos[2]])\n",
    "\n",
    "bot.moveTo(q_hit_pre, timeCost=botOpSpeed)\n",
    "bot.moveTo(q_hit, timeCost=botOpSpeed)\n",
    "while bot.getTimeToEnd()>0:\n",
    "    bot.sync(C, .1)"
   ]
  },
  {
   "cell_type": "markdown",
   "metadata": {},
   "source": [
    "### Place hammer back"
   ]
  },
  {
   "cell_type": "code",
   "execution_count": 757,
   "metadata": {},
   "outputs": [],
   "source": [
    "# Reset bot\n",
    "bot.moveTo(q_hit_pre, timeCost=botOpSpeed)\n",
    "bot.moveTo(q_hammer, timeCost=botOpSpeed)\n",
    "\n",
    "while bot.getTimeToEnd()>0:\n",
    "    bot.sync(C, .1)"
   ]
  },
  {
   "cell_type": "markdown",
   "metadata": {},
   "source": [
    "### Return to home position"
   ]
  },
  {
   "cell_type": "code",
   "execution_count": 758,
   "metadata": {},
   "outputs": [],
   "source": [
    "bot.gripperMove(ry._left, width=0.075, speed=1)\n",
    "while not bot.gripperDone(ry._left):\n",
    "    bot.sync(C, .1)\n",
    "bot.moveTo(qHome, timeCost=botOpSpeed)\n",
    "while bot.getTimeToEnd()>0:\n",
    "    bot.sync(C, .1)"
   ]
  },
  {
   "cell_type": "code",
   "execution_count": 760,
   "metadata": {},
   "outputs": [
    {
     "name": "stdout",
     "output_type": "stream",
     "text": [
      "-- bot.cpp:~BotOp:135(0) shutting down BotOp...\n",
      "-- simulation.cpp:~BotThreadedSim:57(0) shutting down SimThread\n",
      "-- simulation.cpp:~Simulation:148(0) shutting down Simulation\n"
     ]
    }
   ],
   "source": [
    "del bot"
   ]
  }
 ],
 "metadata": {
  "kernelspec": {
   "display_name": "rai_venv",
   "language": "python",
   "name": "python3"
  },
  "language_info": {
   "codemirror_mode": {
    "name": "ipython",
    "version": 3
   },
   "file_extension": ".py",
   "mimetype": "text/x-python",
   "name": "python",
   "nbconvert_exporter": "python",
   "pygments_lexer": "ipython3",
   "version": "3.8.10"
  }
 },
 "nbformat": 4,
 "nbformat_minor": 2
}
