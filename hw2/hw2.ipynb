{
 "cells": [
  {
   "cell_type": "markdown",
   "metadata": {},
   "source": [
    "### Part 0: Initialisation and saving qHome"
   ]
  },
  {
   "cell_type": "code",
   "execution_count": 62,
   "metadata": {},
   "outputs": [],
   "source": [
    "import robotic as ry\n",
    "import time"
   ]
  },
  {
   "cell_type": "code",
   "execution_count": 63,
   "metadata": {},
   "outputs": [
    {
     "name": "stdout",
     "output_type": "stream",
     "text": [
      "[ 0.   0.   0.   0.  -0.5  0.  -2.   0.   2.  -0.5]\n"
     ]
    }
   ],
   "source": [
    "C = ry.Config()\n",
    "C.addFile(ry.raiPath('Question-01/environment/cargo.g'))\n",
    "C.addFile(ry.raiPath('Question-01/environment/cargobot.g'))\n",
    "C.addFile(ry.raiPath('Question-01/environment/maze.g'))\n",
    "\n",
    "C.view()\n",
    "qHome = C.getJointState()\n",
    "print(qHome)"
   ]
  },
  {
   "cell_type": "code",
   "execution_count": 64,
   "metadata": {},
   "outputs": [],
   "source": [
    "# del C\n",
    "# C.view()\n",
    "# C.getFrameNames()\n",
    "# qHome = C.getJointState()\n",
    "# print(qHome)\n",
    "# print(C.getFrameNames())"
   ]
  },
  {
   "cell_type": "markdown",
   "metadata": {},
   "source": [
    "### 1.1 Part A: gripper to cargo handle position KOMO_1"
   ]
  },
  {
   "cell_type": "code",
   "execution_count": 65,
   "metadata": {},
   "outputs": [
    {
     "name": "stdout",
     "output_type": "stream",
     "text": [
      "KOMO_1 is feasible\n"
     ]
    }
   ],
   "source": [
    "# komo = ry.KOMO(C, phases=1, slicesPerPhase=30, kOrder=1, enableCollisions=False)\n",
    "komo = ry.KOMO()\n",
    "komo.setConfig(C, True)\n",
    "komo.setTiming(1., 20, 5., 0)\n",
    "\n",
    "# add collision constraints\n",
    "komo.addObjective([], ry.FS.accumulatedCollisions, [], ry.OT.eq, [1e-1])\n",
    "komo.addObjective([], ry.FS.jointLimits, [], ry.OT.ineq)\n",
    "\n",
    "# move the gripper to the cargo position\n",
    "komo.addObjective(\n",
    "    times=[],\n",
    "    feature=ry.FS.positionDiff,\n",
    "    frames=[\"l_gripper\", \"cargo_handle\"],\n",
    "    type=ry.OT.eq,\n",
    "    scale=[1e1]\n",
    ")\n",
    "\n",
    "# komo.addObjective(\n",
    "#     times=[],\n",
    "#     feature=ry.FS.positionDiff,\n",
    "#     frames=[\"l_gripper\", \"cargo_handle\"],\n",
    "#     type=ry.OT.sos,\n",
    "#     scale=[1e1]\n",
    "# )\n",
    "\n",
    "# align the grippper with the cargo_handle\n",
    "komo.addObjective([], ry.FS.scalarProductXZ, ['l_gripper', 'cargo_handle'], ry.OT.eq, [1e1])\n",
    "# komo.addObjective([], ry.FS.scalarProductXY, ['l_panda_base', 'cargo_handle'], ry.OT.eq, [1e1])\n",
    "\n",
    "\n",
    "\n",
    "ret = ry.NLP_Solver(komo.nlp(), verbose=0 ) .solve()\n",
    "q_gripper_to_cargo = komo.getPath()\n",
    "\n",
    "# for t in range(q_gripper_to_cargo.shape[0]):\n",
    "#     C.setJointState(q_gripper_to_cargo[t])\n",
    "#     C.view(False, f'waypoint {t}')\n",
    "#     time.sleep(0.1)\n",
    "\n",
    "# C.view()\n",
    "if ret.feasible:\n",
    "    print(\"KOMO_1 is feasible\")\n",
    "else:\n",
    "    print(\"KOMO_1 is NOT feasible\")"
   ]
  },
  {
   "cell_type": "markdown",
   "metadata": {},
   "source": [
    "### 1.1 Part A: l_panda_base to goal position KOMO_2"
   ]
  },
  {
   "cell_type": "code",
   "execution_count": 66,
   "metadata": {},
   "outputs": [
    {
     "name": "stdout",
     "output_type": "stream",
     "text": [
      "KOMO_2 is feasible\n"
     ]
    }
   ],
   "source": [
    "komo = ry.KOMO(C, phases=1, slicesPerPhase=20, kOrder=1, enableCollisions=False)\n",
    "# komo = ry.KOMO()\n",
    "# komo.setConfig(C, True)\n",
    "# komo.setTiming(1., 20, 5., kOrder=1)\n",
    "\n",
    "# add control objective to stay close to the initial joint configuration\n",
    "komo.addControlObjective([], 0, 1e-1)\n",
    "\n",
    "# add collision constraints\n",
    "komo.addObjective([], ry.FS.accumulatedCollisions, [], ry.OT.eq)\n",
    "\n",
    "# Add objective to move cargo to goal area\n",
    "komo.addObjective(\n",
    "    times=[0., 1.],\n",
    "    feature=ry.FS.positionDiff,\n",
    "    frames=[\"l_panda_base\", \"goal_area\"],\n",
    "    type=ry.OT.sos\n",
    ")\n",
    "\n",
    "ret = ry.NLP_Solver(komo.nlp(), verbose=0 ) .solve()\n",
    "q_cargobot_to_goal_area = komo.getPath()\n",
    "\n",
    "\n",
    "\n",
    "# for t in range(q_cargobot_to_goal_area.shape[0]):\n",
    "#     C.setJointState(q_cargobot_to_goal_area[t])\n",
    "#     C.view(False, f'waypoint {t}')\n",
    "#     time.sleep(0.1)\n",
    "\n",
    "if ret.feasible:\n",
    "    print(\"KOMO_2 is feasible\")\n",
    "else:\n",
    "    print(\"KOMO_2 is NOT feasible\")"
   ]
  },
  {
   "cell_type": "markdown",
   "metadata": {},
   "source": [
    "### 1.1 Part A: Visualisation of KOMO_1 and KOMO_2"
   ]
  },
  {
   "cell_type": "code",
   "execution_count": 67,
   "metadata": {},
   "outputs": [],
   "source": [
    "for t in range(q_gripper_to_cargo.shape[0]):\n",
    "    C.setJointState(q_gripper_to_cargo[t])\n",
    "    C.view(False, f'waypoint {t}')\n",
    "    time.sleep(0.1)\n",
    "    \n",
    "for t in range(q_cargobot_to_goal_area.shape[0]):\n",
    "    C.setJointState(q_cargobot_to_goal_area[t])\n",
    "    C.view(False, f'waypoint {t}')\n",
    "    time.sleep(0.1)\n",
    "\n",
    "# C.setJointState(qHome)\n",
    "# C.view()\n",
    "# komo.view_play(False, 2)"
   ]
  },
  {
   "cell_type": "markdown",
   "metadata": {},
   "source": [
    "### 1.2 Part B: RRT pathfinding (KOMO_1)"
   ]
  },
  {
   "cell_type": "code",
   "execution_count": 68,
   "metadata": {},
   "outputs": [
    {
     "name": "stdout",
     "output_type": "stream",
     "text": [
      "\n",
      "\n",
      "\n",
      "\n",
      "\n",
      "\n",
      "\n",
      "*** Found path at trial num # 1  ***\n"
     ]
    }
   ],
   "source": [
    "ry.params_clear()\n",
    "ry.params_add({'rrt/stepsize':.5, 'rrt/verbose': 0}) #verbose=3 makes it very slow, and displays result, and verbose=4 waits keypress..\n",
    "\n",
    "foundRRTPath = False\n",
    "numOfTrials = 0\n",
    "\n",
    "C.setJointState(qHome)\n",
    "\n",
    "\n",
    "while (not foundRRTPath and numOfTrials < 15):\n",
    "  rrt = ry.PathFinder()\n",
    "  rrt.setProblem(C, [qHome], [q_gripper_to_cargo[0]])\n",
    "  ret = rrt.solve()\n",
    "  path = ret.x\n",
    "  foundRRTPath = ret.feasible\n",
    "  numOfTrials = numOfTrials + 1\n",
    "  # print(\"*** Trial num #\", numOfTrials, \" result: \", foundRRTPath)\n",
    "  \n",
    "print()\n",
    "print()\n",
    "print()\n",
    "print()\n",
    "print()\n",
    "print()\n",
    "print()\n",
    "\n",
    "if foundRRTPath:\n",
    "  print(\"*** Found path at trial num #\", numOfTrials, \" ***\")\n",
    "else:\n",
    "  print(\"** No path found ***\")"
   ]
  },
  {
   "cell_type": "code",
   "execution_count": 69,
   "metadata": {},
   "outputs": [],
   "source": [
    "# display the path\n",
    "for t in range(0, path.shape[0]-1):\n",
    "    C.setJointState(path[t])\n",
    "    C.view()\n",
    "    time.sleep(.1)"
   ]
  },
  {
   "cell_type": "markdown",
   "metadata": {},
   "source": [
    "### 1.2 Part B: RRT pathfinding (KOMO_2)"
   ]
  },
  {
   "cell_type": "code",
   "execution_count": null,
   "metadata": {},
   "outputs": [
    {
     "name": "stdout",
     "output_type": "stream",
     "text": [
      "RRT queries=403 tree sizes = 9 60\n",
      "RRT queries=696 tree sizes = 23 77\n",
      "RRT queries=989 tree sizes = 33 98\n",
      "RRT queries=1258 tree sizes = 38 116\n",
      "RRT queries=1539 tree sizes = 51 130\n",
      "RRT queries=1844 tree sizes = 67 149\n",
      "RRT queries=2149 tree sizes = 87 164\n",
      "RRT queries=2412 tree sizes = 97 175\n",
      "RRT queries=2723 tree sizes = 119 190\n",
      "RRT queries=3034 tree sizes = 145 201\n",
      "RRT queries=3399 tree sizes = 180 221\n",
      "RRT queries=3809 tree sizes = 231 240\n",
      "  -- rrt success: queries:3885 tree sizes: 243 245\n",
      "  path-length=228\n",
      "*** Found path at trial num # 1  ***\n"
     ]
    }
   ],
   "source": [
    "ry.params_clear()\n",
    "ry.params_add({'rrt/stepsize':.1, 'rrt/verbose': 4}) #verbose=3 makes it very slow, and displays result, and verbose=4 waits keypress..\n",
    "\n",
    "foundRRTPath = False\n",
    "numOfTrials = 0\n",
    "\n",
    "rrt = ry.PathFinder()\n",
    "\n",
    "while (not foundRRTPath and numOfTrials < 10):\n",
    "  rrt.setProblem(C, [q_gripper_to_cargo[0]], [q_cargobot_to_goal_area[0]])\n",
    "  ret = rrt.solve()\n",
    "  path = ret.x\n",
    "  foundRRTPath = ret.feasible\n",
    "  numOfTrials = numOfTrials + 1\n",
    "  # print(\"*** Trial num #\", numOfTrials, \" result: \", foundRRTPath)\n",
    "  \n",
    "\n",
    "if foundRRTPath:\n",
    "  print(\"*** Found path at trial num #\", numOfTrials, \" ***\")\n",
    "else:\n",
    "  print(\"** No path found ***\")"
   ]
  },
  {
   "cell_type": "code",
   "execution_count": 43,
   "metadata": {},
   "outputs": [],
   "source": [
    "# display the path\n",
    "for t in range(0, path.shape[0]-1):\n",
    "    C.setJointState(path[t])\n",
    "    C.view()\n",
    "    time.sleep(.1)"
   ]
  },
  {
   "cell_type": "code",
   "execution_count": null,
   "metadata": {},
   "outputs": [],
   "source": [
    "# C.attach(\"l_gripper\", \"cargo_handle\")\n",
    "# del komo\n",
    "# C.getFrame(\"base_origin\").setPosition([1.7, -1.6, 0.1])\n",
    "# C.getFrame(\"base_origin\").setQuaternion([1, 0, 0, 0])\n",
    "# C.view()"
   ]
  }
 ],
 "metadata": {
  "kernelspec": {
   "display_name": "rai_venv",
   "language": "python",
   "name": "python3"
  },
  "language_info": {
   "codemirror_mode": {
    "name": "ipython",
    "version": 3
   },
   "file_extension": ".py",
   "mimetype": "text/x-python",
   "name": "python",
   "nbconvert_exporter": "python",
   "pygments_lexer": "ipython3",
   "version": "3.8.10"
  }
 },
 "nbformat": 4,
 "nbformat_minor": 2
}
