{
 "cells": [
  {
   "cell_type": "code",
   "execution_count": 1,
   "metadata": {},
   "outputs": [],
   "source": [
    "import robotic as ry\n",
    "import time"
   ]
  },
  {
   "cell_type": "code",
   "execution_count": 2,
   "metadata": {},
   "outputs": [
    {
     "data": {
      "text/plain": [
       "0"
      ]
     },
     "execution_count": 2,
     "metadata": {},
     "output_type": "execute_result"
    }
   ],
   "source": [
    "C = ry.Config()\n",
    "C.addFile(ry.raiPath('Question-01/environment/cargo.g'))\n",
    "C.addFile(ry.raiPath('Question-01/environment/cargobot.g'))\n",
    "C.addFile(ry.raiPath('Question-01/environment/maze.g'))\n",
    "\n",
    "C.view()"
   ]
  },
  {
   "cell_type": "code",
   "execution_count": 74,
   "metadata": {},
   "outputs": [],
   "source": [
    "# del C\n",
    "# C.view()\n",
    "# C.getFrameNames()\n",
    "# qHome = C.getJointState()\n",
    "# print(qHome)\n",
    "# print(C.getFrameNames())"
   ]
  },
  {
   "cell_type": "markdown",
   "metadata": {},
   "source": [
    "### 1.1 Part A: gripper to cargo handle position KOMO_1"
   ]
  },
  {
   "cell_type": "code",
   "execution_count": null,
   "metadata": {},
   "outputs": [
    {
     "name": "stdout",
     "output_type": "stream",
     "text": [
      "{ time: 0.027499, evals: 11, done: 1, feasible: 1, sos: 2.84254, f: 0, ineq: 0, eq: 0.0197295 }\n"
     ]
    },
    {
     "data": {
      "text/plain": [
       "0"
      ]
     },
     "execution_count": 75,
     "metadata": {},
     "output_type": "execute_result"
    }
   ],
   "source": [
    "komo = ry.KOMO(C, phases=1, slicesPerPhase=30, kOrder=1, enableCollisions=False)\n",
    "\n",
    "# add control objective to stay close to the initial joint configuration\n",
    "komo.addControlObjective([], 0, 1e-1)\n",
    "\n",
    "# add collision constraints\n",
    "komo.addObjective([], ry.FS.accumulatedCollisions, [], ry.OT.eq, 1e1)\n",
    "\n",
    "# move the gripper to the cargo position\n",
    "komo.addObjective(\n",
    "    times=[],\n",
    "    feature=ry.FS.positionDiff,\n",
    "    frames=[\"l_gripper\", \"cargo_handle\"],\n",
    "    type=ry.OT.sos,\n",
    "    scale=[1e1]\n",
    ")\n",
    "\n",
    "# align the grippper with the cargo_handle\n",
    "komo.addObjective([], ry.FS.scalarProductXZ, ['l_gripper', 'cargo_handle'], ry.OT.eq, [1e0], [0])\n",
    "# komo.addObjective([], ry.FS.scalarProductXX, ['l_gripper', 'cargo_handle'], ry.OT.eq, [1e0], [0])\n",
    "\n",
    "\n",
    "\n",
    "ret = ry.NLP_Solver(komo.nlp(), verbose=0 ) .solve()\n",
    "print(ret)\n",
    "q_gripper_to_cargo = komo.getPath()\n",
    "\n",
    "for t in range(q_gripper_to_cargo.shape[0]):\n",
    "    C.setJointState(q_gripper_to_cargo[t])\n",
    "    C.view(False, f'waypoint {t}')\n",
    "    time.sleep(0.1)\n",
    "\n",
    "C.view()"
   ]
  },
  {
   "cell_type": "code",
   "execution_count": null,
   "metadata": {},
   "outputs": [
    {
     "data": {
      "text/plain": [
       "0"
      ]
     },
     "execution_count": 76,
     "metadata": {},
     "output_type": "execute_result"
    }
   ],
   "source": [
    "# C.attach(\"l_gripper\", \"cargo_handle\")\n",
    "# del komo\n",
    "# C.getFrame(\"base_origin\").setPosition([1.7, -1.6, 0.1])\n",
    "# C.getFrame(\"base_origin\").setQuaternion([1, 0, 0, 0])\n",
    "# C.view()"
   ]
  },
  {
   "cell_type": "markdown",
   "metadata": {},
   "source": [
    "### 1.1 Part A: l_panda_base to goal position KOMO_2"
   ]
  },
  {
   "cell_type": "code",
   "execution_count": 3,
   "metadata": {},
   "outputs": [
    {
     "name": "stdout",
     "output_type": "stream",
     "text": [
      "{ time: 0.008145, evals: 26, done: 1, feasible: 1, sos: 0.299811, f: 0, ineq: 0, eq: 0 }\n"
     ]
    }
   ],
   "source": [
    "komo = ry.KOMO()\n",
    "komo = ry.KOMO(C, phases=1, slicesPerPhase=30, kOrder=1, enableCollisions=False)\n",
    "\n",
    "# add control objective to stay close to the initial joint configuration\n",
    "komo.addControlObjective([], 0, 1e-1)\n",
    "\n",
    "# add collision constraints\n",
    "komo.addObjective([], ry.FS.accumulatedCollisions, [], ry.OT.eq)\n",
    "\n",
    "# Add objective to move cargo to goal area\n",
    "komo.addObjective(\n",
    "    times=[1., 2.],\n",
    "    feature=ry.FS.positionDiff,\n",
    "    frames=[\"l_panda_base\", \"goal_area\"],\n",
    "    type=ry.OT.sos\n",
    ")\n",
    "\n",
    "ret = ry.NLP_Solver(komo.nlp(), verbose=0 ) .solve()\n",
    "print(ret)\n",
    "q_cargobot_to_goal_area = komo.getPath()\n",
    "\n",
    "for t in range(q_cargobot_to_goal_area.shape[0]):\n",
    "    C.setJointState(q_cargobot_to_goal_area[t])\n",
    "    C.view(False, f'waypoint {t}')\n",
    "    time.sleep(0.1)"
   ]
  },
  {
   "cell_type": "code",
   "execution_count": 82,
   "metadata": {},
   "outputs": [],
   "source": [
    "for t in range(q_gripper_to_cargo.shape[0]):\n",
    "    C.setJointState(q_gripper_to_cargo[t])\n",
    "    C.view(False, f'waypoint {t}')\n",
    "    time.sleep(0.1)\n",
    "    \n",
    "for t in range(q_cargobot_to_goal_area.shape[0]):\n",
    "    C.setJointState(q_cargobot_to_goal_area[t])\n",
    "    C.view(False, f'waypoint {t}')\n",
    "    time.sleep(0.1)"
   ]
  },
  {
   "cell_type": "markdown",
   "metadata": {},
   "source": [
    "### 1.2 Part B: RRT pathfinding"
   ]
  },
  {
   "cell_type": "code",
   "execution_count": null,
   "metadata": {},
   "outputs": [],
   "source": []
  }
 ],
 "metadata": {
  "kernelspec": {
   "display_name": "rai_venv",
   "language": "python",
   "name": "python3"
  },
  "language_info": {
   "codemirror_mode": {
    "name": "ipython",
    "version": 3
   },
   "file_extension": ".py",
   "mimetype": "text/x-python",
   "name": "python",
   "nbconvert_exporter": "python",
   "pygments_lexer": "ipython3",
   "version": "3.8.10"
  }
 },
 "nbformat": 4,
 "nbformat_minor": 2
}
