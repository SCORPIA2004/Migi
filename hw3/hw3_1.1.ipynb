{
 "cells": [
  {
   "cell_type": "code",
   "execution_count": 243,
   "metadata": {},
   "outputs": [
    {
     "name": "stdout",
     "output_type": "stream",
     "text": [
      "/home/vboxuser/Desktop/CS449/rai_venv/lib/python3.8/site-packages/robotic/rai-robotModels/environment.g\n"
     ]
    }
   ],
   "source": [
    "import robotic as ry\n",
    "import matplotlib.pyplot as plt\n",
    "import numpy as np\n",
    "import time\n",
    "pclColor = [0,0,255]\n",
    "max_trials = 10\n",
    "max_vel = 100\n",
    "max_acc = max_vel\n",
    "\n",
    "C = ry.Config()\n",
    "C.addFile('/home/vboxuser/Desktop/CS449/Migi/hw3/GFiles-HW3/environment.g')\n",
    "\n",
    "# C.addFile('./environment.g')\n",
    "# C.addFile(ry.raiPath('environment.g'))\n",
    "# qHome = C.getJointState()\n",
    "# print(qHome)\n",
    "C.view()\n",
    "print(ry.raiPath('environment.g'))"
   ]
  },
  {
   "cell_type": "markdown",
   "metadata": {},
   "source": [
    "# 1.1 Perception Module"
   ]
  },
  {
   "cell_type": "code",
   "execution_count": 244,
   "metadata": {},
   "outputs": [],
   "source": [
    "numOfCameras = 4"
   ]
  },
  {
   "cell_type": "markdown",
   "metadata": {},
   "source": [
    "### Get point clouds for each camera"
   ]
  },
  {
   "cell_type": "code",
   "execution_count": 245,
   "metadata": {},
   "outputs": [
    {
     "name": "stdout",
     "output_type": "stream",
     "text": [
      "(360, 640, 3)\n",
      "(360, 640, 3)\n",
      "(360, 640, 3)\n",
      "(360, 640, 3)\n"
     ]
    }
   ],
   "source": [
    "cam = [None] * numOfCameras\n",
    "rgb = [None] * numOfCameras\n",
    "depth = [None] * numOfCameras\n",
    "pcl = [None] * numOfCameras\n",
    "pclFrames = [None] * numOfCameras\n",
    "\n",
    "\n",
    "for i in range(numOfCameras):\n",
    "  cam[i] = ry.CameraView(C)\n",
    "  cam[i].setCamera('camera'+str(i+1))\n",
    "  rgb[i], depth[i] = cam[i].computeImageAndDepth(C)\n",
    "  pcl[i] = ry.depthImage2PointCloud(depth[i], cam[i].getFxycxy())\n",
    "  print(pcl[i].shape)"
   ]
  },
  {
   "cell_type": "markdown",
   "metadata": {},
   "source": [
    "### Now normalise the points relative to world frame"
   ]
  },
  {
   "cell_type": "code",
   "execution_count": 246,
   "metadata": {},
   "outputs": [],
   "source": [
    "for i in range(numOfCameras):\n",
    "  curCam = C.getFrame(\"camera\"+str(i+1))  \n",
    "  curCamRotMat = curCam.getRotationMatrix()\n",
    "  curCamPos = curCam.getPosition()\n",
    "    \n",
    "  for h in range(pcl[i].shape[0]):    # Iterate over height\n",
    "    for w in range(pcl[i].shape[1]):  # Iterate over width\n",
    "      point = pcl[i][h, w]            # Get the 3D point [x, y, z]\n",
    "     \n",
    "      # Apply rotation\n",
    "      rotated_point = np.dot(curCamRotMat, point)  # Rotate the point\n",
    "      \n",
    "      # Apply translation\n",
    "      transformed_point = rotated_point + curCamPos  # Add the camera position\n",
    "      \n",
    "      pcl[i][h, w] = transformed_point      \n",
    "      \n",
    "\n",
    "# # Visualize the point cloud\n",
    "# pclFrames = [None] * numOfCameras\n",
    "\n",
    "# for i in range(numOfCameras):\n",
    "#   pclFrames[i] = C.addFrame('pcl'+str(i+1), 'world')\n",
    "#   pclFrames[i].setPointCloud(pcl[i], pclColor)\n",
    "# C.view()"
   ]
  },
  {
   "cell_type": "markdown",
   "metadata": {},
   "source": [
    "### Now we extract the ones inside the bounding box"
   ]
  },
  {
   "cell_type": "code",
   "execution_count": null,
   "metadata": {},
   "outputs": [],
   "source": [
    "centre = C.getFrame(\"bin\").getPosition()\n",
    "centre[2] = centre[2] + 0.083  # Raise slightly to remove bin surface\n",
    "\n",
    "off = .1\n",
    "offsets = [0.3, 0.25, 0.05]\n",
    "\n",
    "bounding_box_min_x = centre[0] - offsets[0]\n",
    "bounding_box_max_x = centre[0] + offsets[0]\n",
    "\n",
    "bounding_box_min_y = centre[1] - offsets[1]\n",
    "bounding_box_max_y = centre[1] + offsets[1]\n",
    "\n",
    "bounding_box_min_z = centre[2] - offsets[2]\n",
    "bounding_box_max_z = centre[2] + offsets[2]\n",
    "\n",
    "\n",
    "for i in range(numOfCameras):\n",
    "  for h in range(pcl[i].shape[0]):  \n",
    "    for w in range(pcl[i].shape[1]):  \n",
    "      point = pcl[i][h, w] \n",
    "      eachX, eachY, eachZ = point  \n",
    "      \n",
    "      # Check if the point is within the bounding box\n",
    "      if not (bounding_box_min_x < eachX < bounding_box_max_x and\n",
    "              bounding_box_min_y < eachY < bounding_box_max_y and\n",
    "              bounding_box_min_z < eachZ < bounding_box_max_z):\n",
    "          pcl[i][h, w] = [0, 0, 0]\n"
   ]
  },
  {
   "cell_type": "markdown",
   "metadata": {},
   "source": [
    "### Now we can view the bounded point cloud"
   ]
  },
  {
   "cell_type": "code",
   "execution_count": 248,
   "metadata": {},
   "outputs": [
    {
     "data": {
      "text/plain": [
       "0"
      ]
     },
     "execution_count": 248,
     "metadata": {},
     "output_type": "execute_result"
    }
   ],
   "source": [
    "# pclFrames = [None] * numOfCameras\n",
    "\n",
    "for i in range(numOfCameras):\n",
    "  pclFrames[i] = C.addFrame('pcl'+str(i+1), 'world')\n",
    "  pclFrames[i].setPointCloud(pcl[i], pclColor)\n",
    "  \n",
    "C.view()\n"
   ]
  },
  {
   "cell_type": "code",
   "execution_count": 249,
   "metadata": {},
   "outputs": [],
   "source": [
    "# finalpcl = pcl[0] + pcl[1] + pcl[2] + pcl[3]\n",
    "# finalpclFrame = C.addFrame('finalpclFrame', 'world')\n",
    "# finalpclFrame.setPointCloud(finalpcl, [ 255, 0, 0])\n",
    "# C.view()\n",
    "\n",
    "# print(\"pcl1: \", pcl[0].shape)\n",
    "# print(\"pcl2: \", pcl[1].shape)\n",
    "\n",
    "# extract the point cloud inside bounding box\n",
    "# boundingBox = [0.5, 0.5, 0.5, 0.6, 0.6, 0.6]\n",
    "\n",
    "# print positions of pcl points\n",
    "# for point in pcl[0]:\n",
    "  # print(point.getPosition())\n"
   ]
  }
 ],
 "metadata": {
  "kernelspec": {
   "display_name": "rai_venv",
   "language": "python",
   "name": "python3"
  },
  "language_info": {
   "codemirror_mode": {
    "name": "ipython",
    "version": 3
   },
   "file_extension": ".py",
   "mimetype": "text/x-python",
   "name": "python",
   "nbconvert_exporter": "python",
   "pygments_lexer": "ipython3",
   "version": "3.8.10"
  }
 },
 "nbformat": 4,
 "nbformat_minor": 2
}
