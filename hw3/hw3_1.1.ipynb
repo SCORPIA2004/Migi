{
 "cells": [
  {
   "cell_type": "code",
   "execution_count": 5,
   "metadata": {},
   "outputs": [
    {
     "name": "stdout",
     "output_type": "stream",
     "text": [
      "/home/vboxuser/Desktop/CS449/rai_venv/lib/python3.8/site-packages/robotic/rai-robotModels/environment.g\n"
     ]
    }
   ],
   "source": [
    "import robotic as ry\n",
    "import matplotlib.pyplot as plt\n",
    "import numpy as np\n",
    "import time\n",
    "pclColor = [0,0,255]\n",
    "max_trials = 10\n",
    "max_vel = 100\n",
    "max_acc = max_vel\n",
    "\n",
    "C = ry.Config()\n",
    "C.addFile('/home/vboxuser/Desktop/CS449/Migi/hw3/GFiles-HW3/environment.g')\n",
    "\n",
    "# C.addFile('./environment.g')\n",
    "# C.addFile(ry.raiPath('environment.g'))\n",
    "# qHome = C.getJointState()\n",
    "# print(qHome)\n",
    "C.view()\n",
    "print(ry.raiPath('environment.g'))"
   ]
  },
  {
   "cell_type": "markdown",
   "metadata": {},
   "source": [
    "# 1.1 Perception Module"
   ]
  },
  {
   "cell_type": "code",
   "execution_count": 6,
   "metadata": {},
   "outputs": [],
   "source": [
    "numOfCameras = 1"
   ]
  },
  {
   "cell_type": "markdown",
   "metadata": {},
   "source": [
    "### Get point clouds for each camera"
   ]
  },
  {
   "cell_type": "code",
   "execution_count": 7,
   "metadata": {},
   "outputs": [
    {
     "name": "stdout",
     "output_type": "stream",
     "text": [
      "(360, 640, 3)\n"
     ]
    },
    {
     "data": {
      "text/plain": [
       "0"
      ]
     },
     "execution_count": 7,
     "metadata": {},
     "output_type": "execute_result"
    }
   ],
   "source": [
    "cam = [None] * numOfCameras\n",
    "rgb = [None] * numOfCameras\n",
    "depth = [None] * numOfCameras\n",
    "pclOrig = [None] * numOfCameras\n",
    "pcl = [None] * numOfCameras\n",
    "for i in range(numOfCameras):\n",
    "  cam[i] = ry.CameraView(C)\n",
    "  cam[i].setCamera('camera'+str(i+1))\n",
    "  rgb[i], depth[i] = cam[i].computeImageAndDepth(C)\n",
    "  pclOrig[i] = ry.depthImage2PointCloud(depth[i], cam[i].getFxycxy())\n",
    "  pcl[i] = ry.depthImage2PointCloud(depth[i], cam[i].getFxycxy())\n",
    "  print(pcl[i].shape)\n",
    "  \n",
    "pclFramesOrig = [None] * numOfCameras\n",
    "\n",
    "for i in range(numOfCameras):\n",
    "  pclFramesOrig[i] = C.addFrame('pclOrig'+str(i+1))\n",
    "  pclFramesOrig[i].setPointCloud(pcl[i], [ 0, 255, 0])\n",
    "\n",
    "C.view()\n",
    "  \n",
    "# print(rgb.shape, depth.shape, pcl1.shape)\n",
    "# print(C.view_fxycxy())"
   ]
  },
  {
   "cell_type": "markdown",
   "metadata": {},
   "source": [
    "### Now normalise the points relative to world frame"
   ]
  },
  {
   "cell_type": "code",
   "execution_count": null,
   "metadata": {},
   "outputs": [
    {
     "name": "stdout",
     "output_type": "stream",
     "text": [
      "Rot [[ 0.70710678  0.          0.70710678]\n",
      " [-0.61237244 -0.5         0.61237244]\n",
      " [ 0.35355339 -0.8660254  -0.35355339]]\n",
      "Transpose of Rot [[ 0.70710678 -0.61237244  0.35355339]\n",
      " [ 0.         -0.5        -0.8660254 ]\n",
      " [ 0.70710678  0.61237244 -0.35355339]]\n",
      "\n",
      "-- WARNING:kin.cpp:addFrame:193(-1) frame already exists! returning existing without modifications!\n"
     ]
    }
   ],
   "source": [
    "for i in range(numOfCameras):\n",
    "  curCam = C.getFrame(\"camera\"+str(i+1))\n",
    "  curCamX = curCam.getRelativePosition()[0]\n",
    "  curCamY = curCam.getRelativePosition()[1]\n",
    "  curCamZ = curCam.getRelativePosition()[2]\n",
    "  \n",
    "  curCamPos = curCam.getRelativePosition()\n",
    "  curCamRotMat = curCam.getRotationMatrix()\n",
    "  curCamRotMatTransposed = np.transpose(curCamRotMat)\n",
    "  \n",
    "  t_wc = -np.dot(curCamRotMatTransposed, curCamPos)\n",
    "\n",
    "  T_wc = np.eye(4)\n",
    "  T_wc[:3, :3] = curCamRotMatTransposed\n",
    "  T_wc[:3, 3] = t_wc\n",
    "  \n",
    "\n",
    "\n",
    "  \n",
    "    \n",
    "  for h in range(pclOrig[i].shape[0]):    # Iterate over height\n",
    "    for w in range(pclOrig[i].shape[1]):  # Iterate over width\n",
    "      point = pclOrig[i][h, w]            # Get the 3D point [x, y, z]\n",
    "      eachX, eachY, eachZ = point     # Unpack point coordinates\n",
    "      \n",
    "      # now make these positions relative to the world and hence bounding box\n",
    "      eachX = eachX - curCamX\n",
    "      eachY = eachY - curCamY\n",
    "      eachZ = eachZ - curCamZ\n",
    "      \n",
    "      pcl[i][h, w] = [eachX, eachY, eachZ]\n",
    "      \n",
    "      \n",
    "\n",
    "pclFrames = [None] * numOfCameras\n",
    "\n",
    "for i in range(numOfCameras):\n",
    "  # pclFrames[i] = C.addFrame('pcl'+str(i+1), 'camera'+str(i+1))\n",
    "  pclFrames[i] = C.addFrame('pcl'+str(i+1), 'world')\n",
    "  # pclFrames[i].setPose('t(-0.5 -0.1 1.08) d(-120 1 0 0) d(45 0 1 0)')\n",
    "  pclFrames[i].setPointCloud(pcl[i], [ 255, 0, 0])\n",
    "\n",
    "\n",
    "# C.view()\n",
    "\n",
    "# # print(C.getFrameNames())"
   ]
  },
  {
   "cell_type": "markdown",
   "metadata": {},
   "source": [
    "### Alternatively, Normalise using frames"
   ]
  },
  {
   "cell_type": "code",
   "execution_count": 421,
   "metadata": {},
   "outputs": [
    {
     "data": {
      "text/plain": [
       "0"
      ]
     },
     "execution_count": 421,
     "metadata": {},
     "output_type": "execute_result"
    }
   ],
   "source": [
    "# pclFramesOrig[0].setPose('t(-0.5 -0.1 1.08) d(-120 1 0 0) d(45 0 1 0)')\n",
    "# pclFramesOrig[1].setPose('t(0.5 -0.1 1.08) d(-120 1 0 0) d(-45 0 1 0)')\n",
    "# pclFramesOrig[2].setPose('t(0.5 1.0 1.08) d(180 0 1 0) d(60 1 0 0) d(45 0 1 0)')\n",
    "# pclFramesOrig[3].setPose('t(-0.5 1.0 1.08) d(180 0 1 0) d(60 1 0 0) d(-45 0 1 0)')\n",
    "C.view()"
   ]
  },
  {
   "cell_type": "markdown",
   "metadata": {},
   "source": [
    "### Now we extract the ones inside the bounding box"
   ]
  },
  {
   "cell_type": "code",
   "execution_count": 398,
   "metadata": {},
   "outputs": [
    {
     "data": {
      "text/plain": [
       "0"
      ]
     },
     "execution_count": 398,
     "metadata": {},
     "output_type": "execute_result"
    }
   ],
   "source": [
    "# bounding_box = C.addFrame(\"bounding_box\", \"bin\")\n",
    "# bounding_box.setShape(ry.ST.box, size=[0.6, 0.35, 0.1])  # A box of size 0.5x0.5x0.5\n",
    "# bounding_box.setRelativePosition([0., -0.05, 0.08])  # Position the bounding box\n",
    "\n",
    "\n",
    "\n",
    "\n",
    "\n",
    "centre = [0, 0.4, 0.68]\n",
    "# offsets = [0.05, 0.35, 0.3]\n",
    "offsets = [.1, .1, .1]\n",
    "\n",
    "bounding_box_min_x = centre[0] - offsets[0]\n",
    "bounding_box_max_x = centre[0] + offsets[0]\n",
    "\n",
    "bounding_box_min_y = centre[1] - offsets[1]\n",
    "bounding_box_max_y = centre[1] + offsets[1]\n",
    "\n",
    "bounding_box_min_z = centre[2] - offsets[2]\n",
    "bounding_box_max_z = centre[2] + offsets[2]\n",
    "\n",
    "# print(bounding_box.getPosition())\n",
    "\n",
    "for i in range(numOfCameras):\n",
    "  for h in range(pcl[i].shape[0]):  # Iterate over height\n",
    "    for w in range(pcl[i].shape[1]):  # Iterate over width\n",
    "      point = pcl[i][h, w]  # Get the 3D point [x, y, z]\n",
    "      eachX, eachY, eachZ = point  # Unpack point coordinates\n",
    "      \n",
    "    # Check if the point is within the bounding box\n",
    "    if not (bounding_box_min_x < eachX < bounding_box_max_x and\n",
    "      bounding_box_min_y < eachY < bounding_box_max_y and\n",
    "      bounding_box_min_z < eachZ < bounding_box_max_z):\n",
    "        pcl[i][h, w] = [0, 0, 0] \n",
    "\n",
    "\n",
    "C.view()"
   ]
  },
  {
   "cell_type": "code",
   "execution_count": 399,
   "metadata": {},
   "outputs": [],
   "source": [
    "# finalpcl = pcl[0] + pcl[1] + pcl[2] + pcl[3]\n",
    "# finalpclFrame = C.addFrame('finalpclFrame', 'world')\n",
    "# finalpclFrame.setPointCloud(finalpcl, [ 255, 0, 0])\n",
    "# C.view()\n",
    "\n",
    "# print(\"pcl1: \", pcl[0].shape)\n",
    "# print(\"pcl2: \", pcl[1].shape)\n",
    "\n",
    "# extract the point cloud inside bounding box\n",
    "# boundingBox = [0.5, 0.5, 0.5, 0.6, 0.6, 0.6]\n",
    "\n",
    "# print positions of pcl points\n",
    "# for point in pcl[0]:\n",
    "  # print(point.getPosition())\n"
   ]
  }
 ],
 "metadata": {
  "kernelspec": {
   "display_name": "rai_venv",
   "language": "python",
   "name": "python3"
  },
  "language_info": {
   "codemirror_mode": {
    "name": "ipython",
    "version": 3
   },
   "file_extension": ".py",
   "mimetype": "text/x-python",
   "name": "python",
   "nbconvert_exporter": "python",
   "pygments_lexer": "ipython3",
   "version": "3.8.10"
  }
 },
 "nbformat": 4,
 "nbformat_minor": 2
}
